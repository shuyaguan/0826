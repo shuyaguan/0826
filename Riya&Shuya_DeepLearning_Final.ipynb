{
  "metadata": {
    "kernelspec": {
      "display_name": "Python 3",
      "name": "python3"
    },
    "language_info": {
      "name": "python",
      "version": "3.10.12",
      "mimetype": "text/x-python",
      "codemirror_mode": {
        "name": "ipython",
        "version": 3
      },
      "pygments_lexer": "ipython3",
      "nbconvert_exporter": "python",
      "file_extension": ".py"
    },
    "kaggle": {
      "accelerator": "nvidiaTeslaT4",
      "dataSources": [
        {
          "sourceId": 7737617,
          "sourceType": "datasetVersion",
          "datasetId": 4522232
        }
      ],
      "dockerImageVersionId": 30919,
      "isInternetEnabled": true,
      "language": "python",
      "sourceType": "notebook",
      "isGpuEnabled": true
    },
    "colab": {
      "provenance": [],
      "machine_shape": "hm",
      "gpuType": "A100",
      "include_colab_link": true
    }
  },
  "nbformat_minor": 0,
  "nbformat": 4,
  "cells": [
    {
      "cell_type": "markdown",
      "metadata": {
        "id": "view-in-github",
        "colab_type": "text"
      },
      "source": [
        "<a href=\"https://colab.research.google.com/github/shuyaguan/0826/blob/main/Riya%26Shuya_DeepLearning_Final.ipynb\" target=\"_parent\"><img src=\"https://colab.research.google.com/assets/colab-badge.svg\" alt=\"Open In Colab\"/></a>"
      ]
    },
    {
      "cell_type": "markdown",
      "source": [
        "# **MUSA 650 Final Assignment Proposal: Remote Sensing Solution for Urban Planning**\n",
        "\n",
        "## **Flood Mapping for Urban Disruptions and Emergency Response**\n",
        "\n",
        "Shuya Guan and Riya Saini\n"
      ],
      "metadata": {
        "id": "gHkukIRIXmZg"
      }
    },
    {
      "cell_type": "markdown",
      "source": [
        "# 1. Dataset Exploration"
      ],
      "metadata": {
        "id": "VJR716Gl3g4y"
      }
    },
    {
      "cell_type": "code",
      "source": [
        "# Essential imports for data exploration\n",
        "import os\n",
        "import glob\n",
        "import json\n",
        "import random\n",
        "import numpy as np\n",
        "import pandas as pd\n",
        "import matplotlib.pyplot as plt\n",
        "from collections import Counter\n",
        "import rasterio\n",
        "from torchvision import transforms\n",
        "\n",
        "from google.colab import drive\n",
        "drive.mount('/content/drive')"
      ],
      "metadata": {
        "colab": {
          "base_uri": "https://localhost:8080/",
          "height": 403
        },
        "id": "DxBNduKQa7sd",
        "outputId": "410b3e74-daff-441e-b72c-861f34e52786"
      },
      "execution_count": 7,
      "outputs": [
        {
          "output_type": "error",
          "ename": "ModuleNotFoundError",
          "evalue": "No module named 'rasterio'",
          "traceback": [
            "\u001b[0;31m---------------------------------------------------------------------------\u001b[0m",
            "\u001b[0;31mModuleNotFoundError\u001b[0m                       Traceback (most recent call last)",
            "\u001b[0;32m<ipython-input-7-9f5b564634ed>\u001b[0m in \u001b[0;36m<cell line: 0>\u001b[0;34m()\u001b[0m\n\u001b[1;32m      8\u001b[0m \u001b[0;32mimport\u001b[0m \u001b[0mmatplotlib\u001b[0m\u001b[0;34m.\u001b[0m\u001b[0mpyplot\u001b[0m \u001b[0;32mas\u001b[0m \u001b[0mplt\u001b[0m\u001b[0;34m\u001b[0m\u001b[0;34m\u001b[0m\u001b[0m\n\u001b[1;32m      9\u001b[0m \u001b[0;32mfrom\u001b[0m \u001b[0mcollections\u001b[0m \u001b[0;32mimport\u001b[0m \u001b[0mCounter\u001b[0m\u001b[0;34m\u001b[0m\u001b[0;34m\u001b[0m\u001b[0m\n\u001b[0;32m---> 10\u001b[0;31m \u001b[0;32mimport\u001b[0m \u001b[0mrasterio\u001b[0m\u001b[0;34m\u001b[0m\u001b[0;34m\u001b[0m\u001b[0m\n\u001b[0m\u001b[1;32m     11\u001b[0m \u001b[0;32mfrom\u001b[0m \u001b[0mtorchvision\u001b[0m \u001b[0;32mimport\u001b[0m \u001b[0mtransforms\u001b[0m\u001b[0;34m\u001b[0m\u001b[0;34m\u001b[0m\u001b[0m\n\u001b[1;32m     12\u001b[0m \u001b[0;34m\u001b[0m\u001b[0m\n",
            "\u001b[0;31mModuleNotFoundError\u001b[0m: No module named 'rasterio'",
            "",
            "\u001b[0;31m---------------------------------------------------------------------------\u001b[0;32m\nNOTE: If your import is failing due to a missing package, you can\nmanually install dependencies using either !pip or !apt.\n\nTo view examples of installing some common dependencies, click the\n\"Open Examples\" button below.\n\u001b[0;31m---------------------------------------------------------------------------\u001b[0m\n"
          ],
          "errorDetails": {
            "actions": [
              {
                "action": "open_url",
                "actionText": "Open Examples",
                "url": "/notebooks/snippets/importing_libraries.ipynb"
              }
            ]
          }
        }
      ]
    },
    {
      "cell_type": "code",
      "source": [
        "# Set random seed for reproducibility\n",
        "random.seed(42)\n",
        "np.random.seed(42)\n",
        "\n",
        "# Define dataset directory\n",
        "data_dir = \"/content/drive/MyDrive/Final_Deep Learning/SEN12FLOOD\""
      ],
      "metadata": {
        "id": "IK1fzxh9bPLM"
      },
      "execution_count": null,
      "outputs": []
    },
    {
      "cell_type": "code",
      "source": [
        "# List all TIFF files recursively\n",
        "tif_files = glob.glob(os.path.join(data_dir, \"**/*.tif\"), recursive=True)\n",
        "print(f\"Total TIFF files found: {len(tif_files)}\")\n",
        "\n",
        "# Print sample file paths\n",
        "print(\"Sample file paths:\")\n",
        "for f in tif_files[:5]:\n",
        "    print(f)\n",
        "\n",
        "s1_files = [f for f in tif_files if \"S1\" in f]\n",
        "s2_files = [f for f in tif_files if \"S2\" in f]\n",
        "print(f\"Sentinel-1 (S1) images : {len(s1_files)}\")\n",
        "print(f\"Sentinel-2 (S2) images : {len(s2_files)}\")"
      ],
      "metadata": {
        "colab": {
          "base_uri": "https://localhost:8080/"
        },
        "id": "be5e8Lo0bUMk",
        "outputId": "02a83a86-fb56-491f-a276-3647bf27aa5d"
      },
      "execution_count": null,
      "outputs": [
        {
          "output_type": "stream",
          "name": "stdout",
          "text": [
            "Total TIFF files found: 28300\n",
            "Sample file paths:\n",
            "/content/drive/MyDrive/Final_Deep Learning/SEN12FLOOD/new.tif\n",
            "/content/drive/MyDrive/Final_Deep Learning/SEN12FLOOD/0005/S1A_IW_GRDH_1SDV_20181216T172604_20181216T172629_025053_02C3AD_6EEA_corrected_VH.tif\n",
            "/content/drive/MyDrive/Final_Deep Learning/SEN12FLOOD/0005/S1A_IW_GRDH_1SDV_20181221T173347_20181221T173412_025126_02C648_A3BD_corrected_VH.tif\n",
            "/content/drive/MyDrive/Final_Deep Learning/SEN12FLOOD/0005/S1A_IW_GRDH_1SDV_20181221T173347_20181221T173412_025126_02C648_A3BD_corrected_VV.tif\n",
            "/content/drive/MyDrive/Final_Deep Learning/SEN12FLOOD/0005/S1A_IW_GRDH_1SDV_20181221T173412_20181221T173437_025126_02C648_B354_corrected_VV.tif\n",
            "Sentinel-1 (S1) images : 4324\n",
            "Sentinel-2 (S2) images : 23975\n"
          ]
        }
      ]
    },
    {
      "cell_type": "code",
      "source": [
        "# Count the number of S1 and S2 folders\n",
        "s1_folder_count = len(set(os.path.dirname(f) for f in s1_files))\n",
        "s2_folder_count = len(set(os.path.dirname(f) for f in s2_files))\n",
        "\n",
        "# Create a bar plot\n",
        "plt.figure(figsize=(8, 6))\n",
        "plt.bar([\"S1 Folders\", \"S2 Folders\"], [s1_folder_count, s2_folder_count], color=['blue', 'green'])\n",
        "plt.title(\"Split of Folders between S1 and S2\")\n",
        "plt.ylabel(\"Number of Folders\")\n",
        "plt.show()"
      ],
      "metadata": {
        "colab": {
          "base_uri": "https://localhost:8080/",
          "height": 545
        },
        "id": "rVW5QIDxSf1x",
        "outputId": "dfdc5f80-ac31-4ba8-bd6b-9e511f1a0a9d"
      },
      "execution_count": null,
      "outputs": [
        {
          "output_type": "display_data",
          "data": {
            "text/plain": [
              "<Figure size 800x600 with 1 Axes>"
            ],
            "image/png": "[encoded data removed]"
          },
          "metadata": {}
        }
      ]
    },
    {
      "cell_type": "code",
      "source": [
        "# Plot distribution of folders\n",
        "folder_names = [os.path.basename(os.path.dirname(file)) for file in tif_files]\n",
        "folder_counts = Counter(folder_names)\n",
        "df_folder_counts = pd.DataFrame(list(folder_counts.items()), columns=[\"Folder\", \"Count\"])\n",
        "df_folder_counts = df_folder_counts.sort_values(\"Count\", ascending=False).head(10)\n",
        "\n",
        "plt.figure(figsize=(10, 4))\n",
        "plt.bar(df_folder_counts[\"Folder\"], df_folder_counts[\"Count\"])\n",
        "plt.title(\"Top 10 Folders by Image Count\")\n",
        "plt.xlabel(\"Folder Name\")\n",
        "plt.ylabel(\"Number of Images\")\n",
        "plt.xticks(rotation=45)\n",
        "plt.tight_layout()\n",
        "plt.show()"
      ],
      "metadata": {
        "colab": {
          "base_uri": "https://localhost:8080/",
          "height": 407
        },
        "id": "rlmcyZtebWlc",
        "outputId": "15b9b223-e530-4cb8-ecb7-c0cc029c9527"
      },
      "execution_count": null,
      "outputs": [
        {
          "output_type": "display_data",
          "data": {
            "text/plain": [
              "<Figure size 1000x400 with 1 Axes>"
            ],
            "image/png": "[encoded data removed]"
          },
          "metadata": {}
        }
      ]
    },
    {
      "cell_type": "code",
      "source": [
        "# Load metadata JSON files\n",
        "s1_json_path = os.path.join(data_dir, \"S1list.json\")\n",
        "s2_json_path = os.path.join(data_dir, \"S2list.json\")\n",
        "\n",
        "flood_labels = {}\n",
        "# Load Sentinel-1 metadata\n",
        "if os.path.exists(s1_json_path):\n",
        "    with open(s1_json_path, \"r\") as f:\n",
        "        s1_data = json.load(f)\n",
        "\n",
        "    # Extract flood labels\n",
        "    for folder, details in s1_data.items():\n",
        "        flood_status = any(\n",
        "            entry.get(\"FLOODING\", False)\n",
        "            for key, entry in details.items()\n",
        "            if isinstance(entry, dict) and \"FLOODING\" in entry\n",
        "        )\n",
        "        flood_labels[folder] = int(flood_status)\n",
        "\n",
        "# Load Sentinel-2 metadata\n",
        "if os.path.exists(s2_json_path):\n",
        "    with open(s2_json_path, \"r\") as f:\n",
        "        s2_data = json.load(f)\n",
        "\n",
        "    # Update flood labels\n",
        "    for folder, details in s2_data.items():\n",
        "        flood_status = any(\n",
        "            entry.get(\"FLOODING\", False)\n",
        "            for key, entry in details.items()\n",
        "            if isinstance(entry, dict) and \"FLOODING\" in entry\n",
        "        )\n",
        "        flood_labels[folder] = int(flood_status)"
      ],
      "metadata": {
        "id": "U8Wnn_wGbZ1E"
      },
      "execution_count": null,
      "outputs": []
    },
    {
      "cell_type": "code",
      "source": [
        "# Display sample of flood labels\n",
        "print(\"Flood Label Mapping (Sample):\")\n",
        "for folder, label in list(flood_labels.items())[:10]:\n",
        "    print(f\"Folder: {folder}, Flooding: {label}\")\n",
        "\n",
        "# Get label distribution\n",
        "dataset_folder_names = [os.path.basename(os.path.dirname(file)) for file in tif_files]\n",
        "mapped_labels = [flood_labels.get(folder, 0) for folder in dataset_folder_names]\n",
        "label_counts = Counter(mapped_labels)\n",
        "print(f\"Flooded images: {label_counts[1]}\")\n",
        "print(f\"Non-flooded images: {label_counts[0]}\")\n",
        "\n",
        "# Function to load and process images\n",
        "def load_raw_greyscale_image(image_filepath):\n",
        "    try:\n",
        "        with rasterio.open(image_filepath) as src:\n",
        "            image_data = src.read(1).astype(float)\n",
        "\n",
        "        # Contrast stretching\n",
        "        pixel_min = np.nanmin(image_data)\n",
        "        pixel_max = np.nanmax(image_data)\n",
        "\n",
        "        if pixel_max > pixel_min:\n",
        "            stretched_image = (image_data - pixel_min) / (pixel_max - pixel_min)\n",
        "        else:\n",
        "            stretched_image = np.zeros_like(image_data)\n",
        "\n",
        "        # Convert to 8-bit\n",
        "        greyscale_image = (stretched_image * 255).clip(0, 255).astype(np.uint8)\n",
        "        return greyscale_image\n",
        "    except Exception as e:\n",
        "        print(f\"Error loading {image_filepath}: {e}\")\n",
        "        return np.zeros((256, 256), dtype=np.uint8)  # Return empty image on error\n",
        "\n",
        "# Split files by label\n",
        "flooded_files = [f for f in tif_files if flood_labels.get(os.path.basename(os.path.dirname(f)), 0) == 1]\n",
        "non_flooded_files = [f for f in tif_files if flood_labels.get(os.path.basename(os.path.dirname(f)), 0) == 0]\n",
        "\n",
        "print(\"Number of flooded images:\", len(flooded_files))\n",
        "print(\"Number of non-flooded images:\", len(non_flooded_files))\n",
        "\n",
        "# Display sample images\n",
        "def display_sample_images(image_files, title, num_samples=5):\n",
        "    # Randomly sample images if we have more than needed\n",
        "    if len(image_files) > num_samples:\n",
        "        sample_files = random.sample(image_files, num_samples)\n",
        "    else:\n",
        "        sample_files = image_files\n",
        "\n",
        "    plt.figure(figsize=(15, 6))\n",
        "    for idx, image_path in enumerate(sample_files):\n",
        "        greyscale_img = load_raw_greyscale_image(image_path)\n",
        "        plt.subplot(1, num_samples, idx+1)\n",
        "        plt.imshow(greyscale_img, cmap=\"gray\")\n",
        "        plt.title(os.path.basename(os.path.dirname(image_path)))\n",
        "        plt.axis(\"off\")\n",
        "    plt.suptitle(title)\n",
        "    plt.tight_layout()\n",
        "    plt.show()\n",
        "\n",
        "# Display sample images\n",
        "display_sample_images(flooded_files, \"Sample Flooded Images\")\n",
        "display_sample_images(non_flooded_files, \"Sample Non-Flooded Images\")"
      ],
      "metadata": {
        "id": "jqEJ6M102LQA",
        "outputId": "985d0ae1-69e6-44fe-8e5a-47f6af0876e8",
        "colab": {
          "base_uri": "https://localhost:8080/",
          "height": 1000
        }
      },
      "execution_count": null,
      "outputs": [
        {
          "output_type": "stream",
          "name": "stdout",
          "text": [
            "Flood Label Mapping (Sample):\n",
            "Folder: 0063, Flooding: 0\n",
            "Folder: 0200, Flooding: 1\n",
            "Folder: 0004, Flooding: 0\n",
            "Folder: 0307, Flooding: 1\n",
            "Folder: 0167, Flooding: 1\n",
            "Folder: 0205, Flooding: 1\n",
            "Folder: 0166, Flooding: 1\n",
            "Folder: 0240, Flooding: 1\n",
            "Folder: 0123, Flooding: 0\n",
            "Folder: 61, Flooding: 1\n",
            "Flooded images: 17967\n",
            "Non-flooded images: 10333\n",
            "Number of flooded images: 17967\n",
            "Number of non-flooded images: 10333\n"
          ]
        },
        {
          "output_type": "display_data",
          "data": {
            "text/plain": [
              "<Figure size 1500x600 with 5 Axes>"
            ],
            "image/png": "[encoded data removed]"
          },
          "metadata": {}
        },
        {
          "output_type": "display_data",
          "data": {
            "text/plain": [
              "<Figure size 1500x600 with 5 Axes>"
            ],
            "image/png": "[encoded data removed]"
          },
          "metadata": {}
        }
      ]
    },
    {
      "cell_type": "markdown",
      "source": [
        "The script successfully found 28,300 TIFF files in the dataset directory, with sample paths indicating both Sentinel-1 (S1) radar images in different polarizations (VV and VH) and potentially Sentinel-2 optical images. The dataset contains images organized in numbered folders (like 0005, 0063, etc.).The flood label mapping extracted from the metadata shows a binary classification where 1 indicates flooded areas and 0 indicates non-flooded areas. Based on this mapping, the dataset contains 17,967 flooded images (approximately 63%) and 10,333 non-flooded images (approximately 37%).\n",
        "\n",
        "The visualizations of sample images show noticeable differences between flooded and non-flooded areas, with flooded images typically showing more distinct patterns of water bodies and different texture characteristics, though some images appear very dark and may require additional preprocessing to enhance features."
      ],
      "metadata": {
        "id": "PRPctaXn3vM8"
      }
    },
    {
      "cell_type": "code",
      "source": [
        "#Optional: For Sentinel-1 radar (SAR) data\n",
        "#You can visualize radar data like this (single band or false-color combo):\n",
        "\n",
        "def show_sar_bands(image_path):\n",
        "    with rasterio.open(image_path) as src:\n",
        "        img = src.read(1)\n",
        "    plt.imshow(img, cmap=\"gray\")\n",
        "    plt.title(\"SAR (VV or VH)\")\n",
        "    plt.axis(\"off\")\n",
        "    plt.show()\n",
        "\n",
        "#Or if you have both VV and VH, do a false-color:\n",
        "\n",
        "def show_sar_rgb(vv_path, vh_path):\n",
        "    with rasterio.open(vv_path) as src1, rasterio.open(vh_path) as src2:\n",
        "        vv = src1.read(1)\n",
        "        vh = src2.read(1)\n",
        "        diff = vv - vh\n",
        "        img = np.stack([vv, vh, diff], axis=-1)\n",
        "        img = img.astype(np.uint8)\n",
        "\n",
        "    plt.imshow(img)\n",
        "    plt.title(\"SAR False Color (VV, VH, VV-VH)\")\n",
        "    plt.axis(\"off\")\n",
        "    plt.show()"
      ],
      "metadata": {
        "id": "5wzfz1GBluw2"
      },
      "execution_count": null,
      "outputs": []
    },
    {
      "cell_type": "markdown",
      "source": [
        "# 2. Data Preprocessing Pipeline"
      ],
      "metadata": {
        "id": "FBCpsevq5wsl"
      }
    },
    {
      "cell_type": "markdown",
      "source": [
        "Standard practice is:\n",
        "\n",
        "Keep the dataset as raw as possible\n",
        "\n",
        "Apply:\n",
        "\n",
        "augmentation + resize/normalize for training\n",
        "\n",
        "just resize/normalize for validation and test\n",
        "\n",
        "By applying these transformations after splitting, you can:\n",
        "\n",
        "Apply different transforms per subset\n",
        "\n",
        "Make training robust (via augmentation)\n",
        "\n",
        "Keep validation/test clean for fair evaluation"
      ],
      "metadata": {
        "id": "0tnI10pdim9Y"
      }
    },
    {
      "cell_type": "code",
      "source": [
        "from PIL import Image\n",
        "import torch\n",
        "from torch.utils.data import Dataset, DataLoader\n",
        "\n",
        "# Config\n",
        "data_dir = \"/content/drive/MyDrive/Final_Deep Learning/SEN12FLOOD\"\n",
        "all_folders = [os.path.join(data_dir, f) for f in os.listdir(data_dir) if os.path.isdir(os.path.join(data_dir, f))]\n",
        "print(f\"Found {len(all_folders)} folders.\")\n",
        "\n",
        "# Transforms\n",
        "train_transform = transforms.Compose([\n",
        "    transforms.Resize((224, 224)),\n",
        "    transforms.RandomHorizontalFlip(),\n",
        "    transforms.RandomRotation(10),\n",
        "    transforms.ToTensor(),\n",
        "    transforms.Normalize([0.5]*3, [0.5]*3)\n",
        "])\n",
        "\n",
        "val_test_transform = transforms.Compose([\n",
        "    transforms.Resize((224, 224)),\n",
        "    transforms.ToTensor(),\n",
        "    transforms.Normalize([0.5]*3, [0.5]*3)\n",
        "])"
      ],
      "metadata": {
        "colab": {
          "base_uri": "https://localhost:8080/"
        },
        "id": "t7lXAdD5dTAa",
        "outputId": "ebb49312-bf76-4cde-e745-67961cc466bd"
      },
      "execution_count": null,
      "outputs": [
        {
          "output_type": "stream",
          "name": "stdout",
          "text": [
            "Found 335 folders.\n"
          ]
        }
      ]
    },
    {
      "cell_type": "code",
      "source": [
        "def read_rgb_from_folder(folder_path):\n",
        "    try:\n",
        "        files = [f for f in os.listdir(folder_path) if f.endswith(\".tif\") and \"B0\" in f]\n",
        "\n",
        "        # Organize by date\n",
        "        band_dict = {}\n",
        "        for f in files:\n",
        "            parts = f.split(\"_\")\n",
        "            if len(parts) < 3:\n",
        "                continue  # Skip unexpected filenames\n",
        "            date = parts[1]\n",
        "            band = parts[2].replace(\".tif\", \"\")\n",
        "            band_dict.setdefault(date, {})[band] = f\n",
        "\n",
        "        # Find the first valid date with B02, B03, B04\n",
        "        for date, bands in band_dict.items():\n",
        "            if all(b in bands for b in [\"B02\", \"B03\", \"B04\"]):\n",
        "                r_path = os.path.join(folder_path, bands[\"B04\"])\n",
        "                g_path = os.path.join(folder_path, bands[\"B03\"])\n",
        "                b_path = os.path.join(folder_path, bands[\"B02\"])\n",
        "\n",
        "                r = rasterio.open(r_path).read(1).astype(np.float32)\n",
        "                g = rasterio.open(g_path).read(1).astype(np.float32)\n",
        "                b = rasterio.open(b_path).read(1).astype(np.float32)\n",
        "\n",
        "                # Normalize using percentile stretch\n",
        "                def normalize_band(band):\n",
        "                    p2, p98 = np.percentile(band, (2, 98))\n",
        "                    band = np.clip((band - p2) / (p98 - p2 + 1e-5), 0, 1)\n",
        "                    return band\n",
        "\n",
        "                r, g, b = normalize_band(r), normalize_band(g), normalize_band(b)\n",
        "\n",
        "                rgb = np.stack([r, g, b], axis=-1)\n",
        "                rgb = (rgb * 255).astype(np.uint8)\n",
        "                return Image.fromarray(rgb)\n",
        "\n",
        "        raise RuntimeError(\"No common date with all 3 bands found.\")\n",
        "\n",
        "    except Exception as e:\n",
        "        raise RuntimeError(f\"Error reading RGB bands in {folder_path}: {e}\")"
      ],
      "metadata": {
        "id": "w09SID-9fTVp"
      },
      "execution_count": null,
      "outputs": []
    },
    {
      "cell_type": "code",
      "source": [
        "import os\n",
        "from collections import defaultdict\n",
        "\n",
        "def is_valid_folder(folder_path):\n",
        "    tif_files = [f for f in os.listdir(folder_path) if f.endswith(\".tif\") and \"B0\" in f]\n",
        "    band_dates = defaultdict(set)\n",
        "\n",
        "    for file in tif_files:\n",
        "        parts = file.split('_')\n",
        "        if len(parts) < 3:\n",
        "            continue\n",
        "        _, date, band = parts[0], parts[1], parts[2].replace(\".tif\", \"\")\n",
        "        band_dates[date].add(band)\n",
        "\n",
        "    for date, bands in band_dates.items():\n",
        "        if {'B02', 'B03', 'B04'}.issubset(bands):\n",
        "            return True  # Valid: has all 3 bands for one date\n",
        "\n",
        "    return False  # No date had all 3 bands"
      ],
      "metadata": {
        "id": "L66o7bbzfYQU"
      },
      "execution_count": null,
      "outputs": []
    },
    {
      "cell_type": "code",
      "source": [
        "from tqdm import tqdm\n",
        "folder_paths = [os.path.join(data_dir, f) for f in os.listdir(data_dir) if os.path.isdir(os.path.join(data_dir, f))] # Define folder_paths\n",
        "valid_folders = []\n",
        "invalid_folders = []\n",
        "\n",
        "for folder in tqdm(folder_paths):\n",
        "    if is_valid_folder(folder):\n",
        "        valid_folders.append(folder)\n",
        "    else:\n",
        "        invalid_folders.append(folder)\n",
        "\n",
        "print(f\" Valid folders: {len(valid_folders)} / {len(folder_paths)}\")"
      ],
      "metadata": {
        "colab": {
          "base_uri": "https://localhost:8080/"
        },
        "id": "IVD_ytpAgvR5",
        "outputId": "de2e2b90-b93c-4ead-ce97-dfccf8d8f49b"
      },
      "execution_count": null,
      "outputs": [
        {
          "output_type": "stream",
          "name": "stderr",
          "text": [
            "100%|██████████| 335/335 [00:01<00:00, 271.65it/s]"
          ]
        },
        {
          "output_type": "stream",
          "name": "stdout",
          "text": [
            "✅ Valid folders: 300 / 335\n"
          ]
        },
        {
          "output_type": "stream",
          "name": "stderr",
          "text": [
            "\n"
          ]
        }
      ]
    },
    {
      "cell_type": "markdown",
      "source": [
        "This uses ESA's recommendation for reflectance scaling (assuming input is uint16). You could exclude or mark cloudy samples to improve learning quality.\n",
        "\n",
        "2. Try different normalization methods\n",
        "If 2–98% percentile stretch is too aggressive, you could: band = np.clip(band / 10000.0, 0, 1)\n",
        "\n",
        "you need to select a single date from the available ones in each folder, because each RGB image must be composed from bands (B02, B03, B04) captured on the same day. Sentinel-2 takes images on different days, and having mismatched timestamps across bands can lead to corrupted or meaningless RGB outputs.\n",
        "\n",
        "300 valid folders out of 335 means your dataset is now clean and ready for model training using only Sentinel-2 RGB bands with matching acquisition dates."
      ],
      "metadata": {
        "id": "4K3GTS2EVGRP"
      }
    },
    {
      "cell_type": "code",
      "source": [
        "# Shuffle and split ONLY valid folders\n",
        "random.shuffle(valid_folders)\n",
        "train_size = int(0.7 * len(valid_folders))\n",
        "val_size = int(0.15 * len(valid_folders))\n",
        "test_size = len(valid_folders) - train_size - val_size\n",
        "\n",
        "train_folders = valid_folders[:train_size]\n",
        "val_folders = valid_folders[train_size:train_size + val_size]\n",
        "test_folders = valid_folders[train_size + val_size:]"
      ],
      "metadata": {
        "id": "Xx1srfWejpGv"
      },
      "execution_count": null,
      "outputs": []
    },
    {
      "cell_type": "code",
      "source": [
        "# Dataset\n",
        "class Sentinel2RGBDataset(Dataset):\n",
        "    def __init__(self, folder_paths, label_map, transform=None):\n",
        "        self.folder_paths = folder_paths\n",
        "        self.label_map = label_map\n",
        "        self.transform = transform\n",
        "\n",
        "    def __len__(self):\n",
        "        return len(self.folder_paths)\n",
        "\n",
        "    def __getitem__(self, idx):\n",
        "        tries = 0\n",
        "        while tries < 5:\n",
        "            folder = self.folder_paths[idx]\n",
        "            folder_name = os.path.basename(folder)\n",
        "            label = self.label_map.get(folder_name, 0)\n",
        "            try:\n",
        "                image = read_rgb_from_folder(folder)\n",
        "                if self.transform:\n",
        "                    image = self.transform(image)\n",
        "                return image, label\n",
        "            except Exception as e:\n",
        "                print(f\"Skipping folder {folder}: {e}\")\n",
        "                idx = (idx + 1) % len(self.folder_paths)\n",
        "                tries += 1\n",
        "        return torch.zeros((3, 224, 224)), 0  # fallback\n",
        "\n",
        "\n",
        "# Datasets & Loaders\n",
        "train_dataset = Sentinel2RGBDataset(train_folders, flood_labels, transform=train_transform)\n",
        "val_dataset = Sentinel2RGBDataset(val_folders, flood_labels, transform=val_test_transform)\n",
        "test_dataset = Sentinel2RGBDataset(test_folders, flood_labels, transform=val_test_transform)\n",
        "\n",
        "train_loader = DataLoader(train_dataset, batch_size=32, shuffle=True)\n",
        "val_loader = DataLoader(val_dataset, batch_size=32, shuffle=False)\n",
        "test_loader = DataLoader(test_dataset, batch_size=32, shuffle=False)\n",
        "\n",
        "# Check a sample\n",
        "images, labels = next(iter(train_loader))\n",
        "print(f\"Sample batch shape: {images.shape}, labels: {labels[:5]}\")"
      ],
      "metadata": {
        "colab": {
          "base_uri": "https://localhost:8080/"
        },
        "id": "YOloTMLrdPRz",
        "outputId": "730eb352-1939-43db-ea06-591b540b0384"
      },
      "execution_count": null,
      "outputs": [
        {
          "output_type": "stream",
          "name": "stdout",
          "text": [
            "Sample batch shape: torch.Size([32, 3, 224, 224]), labels: tensor([0, 1, 1, 1, 0])\n"
          ]
        }
      ]
    },
    {
      "cell_type": "code",
      "source": [
        "print(f\"Train: {len(train_dataset)}, Val: {len(val_dataset)}, Test: {len(test_dataset)}\")"
      ],
      "metadata": {
        "colab": {
          "base_uri": "https://localhost:8080/"
        },
        "id": "ynxADfDr6ON6",
        "outputId": "baa2e806-7b5c-437e-8e62-86497dffb70d"
      },
      "execution_count": null,
      "outputs": [
        {
          "output_type": "stream",
          "name": "stdout",
          "text": [
            "Train: 210, Val: 45, Test: 45\n"
          ]
        }
      ]
    },
    {
      "cell_type": "markdown",
      "source": [
        "This code prepares satellite images for a flood detection system. First, it resizes all images to the same size (224×224 pixels) so they fit what the neural network expects. Then it converts the images to a format called tensors that deep learning models can work with, and normalizes the pixel values to make the training process more effective. The code splits the 28,300 images into three groups: **70%** for training the model, **15%** for checking its progress during training, and **15%** for final testing."
      ],
      "metadata": {
        "id": "VbQMdUsp4vrp"
      }
    },
    {
      "cell_type": "markdown",
      "source": [
        "1. Each folder = 1 spatial-temporal sample\n",
        "In Sen12Flood, each folder corresponds to a unique scene at a specific time and location. That means:\n",
        "\n",
        "The bands B04, B03, B02 inside a folder are all from the same spatial-temporal context.\n",
        "\n",
        "If you split at the image level instead of the folder level, you risk data leakage — similar-looking images (e.g., same area, different bands or timestamps) could end up in both training and test sets.\n",
        "\n",
        "2. Spatial autocorrelation\n",
        "Remote sensing data often suffers from spatial autocorrelation — nearby pixels or scenes are not independent. So randomly splitting pixels or even individual images across folders can make the test performance look better than it actually is.\n",
        "\n",
        "That’s why it’s best practice to:\n",
        "\n",
        "Split by scene or folder, not by image.\n",
        "\n",
        "Ensure each split contains unique scenes.\n",
        "\n",
        "3. Sen12Flood follows this pattern\n",
        "Sen12Flood isn't split randomly at the pixel or image level either. It’s typically split by folders/scenes for the same reason — to prevent leakage and ensure generalization across different geographic locations.\n",
        "\n",
        "So in short: Yes, your approach is the right way to handle Sen12Flood. Avoid splitting the dataset at the image level, especially in geospatial tasks. Folder-level splits based on scene ensure valid, non-leaky training and evaluation."
      ],
      "metadata": {
        "id": "TUJNXEQ6TIkA"
      }
    },
    {
      "cell_type": "code",
      "source": [
        "# Helper to unnormalize the image for display\n",
        "def unnormalize(tensor):\n",
        "    \"\"\"Convert normalized image tensor back to [0, 1] for display\"\"\"\n",
        "    tensor = tensor * 0.5 + 0.5  # Assuming normalization mean=0.5, std=0.5\n",
        "    return tensor\n",
        "\n",
        "# Define class label names for visualization\n",
        "label_names = {v: k for k, v in flood_labels.items()}  # e.g., {0: 'nonflooded', 1: 'flooded'}\n",
        "\n",
        "# Plot a few images from the training dataset\n",
        "def plot_samples(dataset, num_samples=9):\n",
        "    plt.figure(figsize=(10, 10))\n",
        "    for i in range(num_samples):\n",
        "        image, label = dataset[i]\n",
        "        image = unnormalize(image)  # Undo normalization\n",
        "        image_np = image.permute(1, 2, 0).numpy()  # Convert to HWC format for plotting\n",
        "\n",
        "        plt.subplot(3, 3, i + 1)\n",
        "        plt.imshow(image_np)\n",
        "        plt.title(f\"Label: {label_names.get(label, label)}\")\n",
        "        plt.axis('off')\n",
        "    plt.tight_layout()\n",
        "    plt.show()\n",
        "\n",
        "# Show samples\n",
        "plot_samples(train_dataset)"
      ],
      "metadata": {
        "colab": {
          "base_uri": "https://localhost:8080/",
          "height": 219
        },
        "id": "FP33JAWVkYgn",
        "outputId": "c3031ffb-4004-46a0-f3e9-1b61449911f6"
      },
      "execution_count": 6,
      "outputs": [
        {
          "output_type": "error",
          "ename": "NameError",
          "evalue": "name 'flood_labels' is not defined",
          "traceback": [
            "\u001b[0;31m---------------------------------------------------------------------------\u001b[0m",
            "\u001b[0;31mNameError\u001b[0m                                 Traceback (most recent call last)",
            "\u001b[0;32m<ipython-input-6-d8a83ea29914>\u001b[0m in \u001b[0;36m<cell line: 0>\u001b[0;34m()\u001b[0m\n\u001b[1;32m      6\u001b[0m \u001b[0;34m\u001b[0m\u001b[0m\n\u001b[1;32m      7\u001b[0m \u001b[0;31m# Define class label names for visualization\u001b[0m\u001b[0;34m\u001b[0m\u001b[0;34m\u001b[0m\u001b[0m\n\u001b[0;32m----> 8\u001b[0;31m \u001b[0mlabel_names\u001b[0m \u001b[0;34m=\u001b[0m \u001b[0;34m{\u001b[0m\u001b[0mv\u001b[0m\u001b[0;34m:\u001b[0m \u001b[0mk\u001b[0m \u001b[0;32mfor\u001b[0m \u001b[0mk\u001b[0m\u001b[0;34m,\u001b[0m \u001b[0mv\u001b[0m \u001b[0;32min\u001b[0m \u001b[0mflood_labels\u001b[0m\u001b[0;34m.\u001b[0m\u001b[0mitems\u001b[0m\u001b[0;34m(\u001b[0m\u001b[0;34m)\u001b[0m\u001b[0;34m}\u001b[0m  \u001b[0;31m# e.g., {0: 'nonflooded', 1: 'flooded'}\u001b[0m\u001b[0;34m\u001b[0m\u001b[0;34m\u001b[0m\u001b[0m\n\u001b[0m\u001b[1;32m      9\u001b[0m \u001b[0;34m\u001b[0m\u001b[0m\n\u001b[1;32m     10\u001b[0m \u001b[0;31m# Plot a few images from the training dataset\u001b[0m\u001b[0;34m\u001b[0m\u001b[0;34m\u001b[0m\u001b[0m\n",
            "\u001b[0;31mNameError\u001b[0m: name 'flood_labels' is not defined"
          ]
        }
      ]
    },
    {
      "cell_type": "markdown",
      "source": [
        "UN-SPIDER Workflow\n",
        "United Nations Platform for Space-based Information for Disaster Management and Emergency Response\n",
        "\n",
        "🔍 Model Type: Threshold-based / rule-based with optional ML integration\n",
        "Core Idea: Uses Sentinel-1 SAR (VV/VH) backscatter before and after the event.\n",
        "\n",
        "Methodology:\n",
        "\n",
        "Pre-event and post-event image comparison\n",
        "\n",
        "Apply thresholds (e.g., 2–3 dB difference) to detect permanent water vs flooded areas\n",
        "\n",
        "Uses Normalized Difference Flood Index (NDFI) or ratio/mean change detection\n",
        "\n",
        "📌 Sometimes integrates:\n",
        "Decision trees\n",
        "\n",
        "Simple classifiers (Random Forests, SVM) — if training data available\n",
        "\n",
        "Often paired with GIS layers (elevation, land use)\n",
        "\n",
        "Goal: Simple, operational, fast – especially when computational power is limited in disaster zones"
      ],
      "metadata": {
        "id": "duNoKJSvveH4"
      }
    },
    {
      "cell_type": "markdown",
      "source": [
        "WorldFloods (Oxford / Frontier Development Lab)\n",
        "🔍 Model Type: Deep Learning (U-Net)\n",
        "Developed as part of ESA’s WorldFloods with Oxford and the UN.\n",
        "\n",
        "Architecture:\n",
        "\n",
        "U-Net convolutional neural network\n",
        "\n",
        "Takes Sentinel-1 SAR (VV/VH) images as input\n",
        "\n",
        "Outputs a pixel-wise binary flood mask\n",
        "\n",
        "Key Features:\n",
        "\n",
        "Trained on 13 flood events across different countries\n",
        "\n",
        "Multi-temporal Sentinel-1 inputs (before, during, after)\n",
        "\n",
        "Works well in cloud-prone areas (where optical imagery fails)\n",
        "\n",
        "Model Characteristics:\n",
        "\n",
        "Input: 2-3 SAR bands (VV before, VV after, VH after)\n",
        "\n",
        "Output: Raster map of flooded areas (same size as input)\n",
        "\n",
        "Can run on low-cost hardware (e.g., Raspberry Pi)\n",
        "\n"
      ],
      "metadata": {
        "id": "KPH0wli2vlB4"
      }
    },
    {
      "cell_type": "markdown",
      "source": [
        "**Model Part start from here:**"
      ],
      "metadata": {
        "id": "Em8zPZVb25Eu"
      }
    },
    {
      "cell_type": "markdown",
      "source": [
        "Model\tType\tUse Case Fit\tNotes\n",
        "CNN\tDeep learning\tImage-level classification\tGreat for detecting if an image (or patch) is flooded\n",
        "U-Net\tDeep learning\tPixel-level segmentation\tIdeal for flood masks — where is the water?\n",
        "Random Forest\tTraditional ML\tPatch or feature-based classification\tGood baseline, but needs flattening + hand-crafted features"
      ],
      "metadata": {
        "id": "hA7lireXmUWd"
      }
    },
    {
      "cell_type": "markdown",
      "source": [
        "Random Forest"
      ],
      "metadata": {
        "id": "USMSTVgKqNqH"
      }
    },
    {
      "cell_type": "code",
      "source": [
        "# Step 1: Convert Images to Flattened Numpy Arrays\n",
        "from tqdm import tqdm\n",
        "\n",
        "def loader_to_numpy(dataloader):\n",
        "    images_list, labels_list = [], []\n",
        "    for images, labels in tqdm(dataloader):\n",
        "        imgs_np = images.numpy()  # Convert to numpy\n",
        "        lbls_np = labels.numpy()\n",
        "        imgs_np = imgs_np.reshape(imgs_np.shape[0], -1)  # Flatten: (3, 224, 224) → (150528,)\n",
        "        images_list.append(imgs_np)\n",
        "        labels_list.append(lbls_np)\n",
        "    return np.vstack(images_list), np.concatenate(labels_list)\n",
        "\n",
        "# Extract training and testing data\n",
        "X_train, y_train = loader_to_numpy(train_loader)\n",
        "X_test, y_test = loader_to_numpy(test_loader)\n"
      ],
      "metadata": {
        "colab": {
          "base_uri": "https://localhost:8080/"
        },
        "id": "pDuafgwSk5Om",
        "outputId": "1d669658-94ec-43f6-c673-21c59b023df2"
      },
      "execution_count": null,
      "outputs": [
        {
          "output_type": "stream",
          "name": "stderr",
          "text": [
            "100%|██████████| 7/7 [01:05<00:00,  9.33s/it]\n",
            "100%|██████████| 2/2 [00:18<00:00,  9.20s/it]\n"
          ]
        }
      ]
    },
    {
      "cell_type": "code",
      "source": [
        "# Step 2: Train Random Forest Classifier\n",
        "from sklearn.ensemble import RandomForestClassifier\n",
        "from sklearn.metrics import classification_report, confusion_matrix, accuracy_score\n",
        "\n",
        "# Initialize and train\n",
        "rf = RandomForestClassifier(n_estimators=100, max_depth=15, random_state=42)\n",
        "rf.fit(X_train, y_train)\n",
        "\n",
        "# Predict\n",
        "y_pred = rf.predict(X_test)"
      ],
      "metadata": {
        "id": "19LIwZoBk_KO"
      },
      "execution_count": null,
      "outputs": []
    },
    {
      "cell_type": "markdown",
      "source": [
        "used this as reference: https://nhess.copernicus.org/articles/21/807/2021/ for random forest features"
      ],
      "metadata": {
        "id": "iDiohwOJlwQe"
      }
    },
    {
      "cell_type": "code",
      "source": [
        "# Calculate performance metrics\n",
        "accuracy = accuracy_score(y_test, y_pred)\n",
        "precision = precision_score(y_test, y_pred)\n",
        "recall = recall_score(y_test, y_pred)\n",
        "f1 = f1_score(y_test, y_pred)\n",
        "\n",
        "print(\"🔍 Random Forest Performance on Test Set:\")\n",
        "print(f\"Accuracy : {accuracy:.4f}\")\n",
        "print(f\"Precision: {precision:.4f}\")\n",
        "print(f\"Recall   : {recall:.4f}\")\n",
        "print(f\"F1-score : {f1:.4f}\")\n",
        "\n",
        "# Print classification report\n",
        "print(\"\\n📋 Classification Report:\")\n",
        "print(classification_report(y_test, y_pred, target_names=[\"non-flooded\", \"flooded\"]))\n",
        "\n",
        "# Plot confusion matrix\n",
        "cm = confusion_matrix(y_test, y_pred)\n",
        "sns.heatmap(cm, annot=True, fmt=\"d\", cmap=\"Blues\", xticklabels=[\"non-flooded\", \"flooded\"], yticklabels=[\"non-flooded\", \"flooded\"])\n",
        "plt.xlabel(\"Predicted\")\n",
        "plt.ylabel(\"Actual\")\n",
        "plt.title(\"Confusion Matrix - Random Forest\")\n",
        "plt.show()\n"
      ],
      "metadata": {
        "id": "M7yflY6UqSzo",
        "colab": {
          "base_uri": "https://localhost:8080/",
          "height": 750
        },
        "outputId": "e853346b-90bd-4bbc-de09-994efb3fe162"
      },
      "execution_count": null,
      "outputs": [
        {
          "output_type": "stream",
          "name": "stdout",
          "text": [
            "🔍 Random Forest Performance on Test Set:\n",
            "Accuracy : 0.7111\n",
            "Precision: 0.7353\n",
            "Recall   : 0.8621\n",
            "F1-score : 0.7937\n",
            "\n",
            "📋 Classification Report:\n",
            "              precision    recall  f1-score   support\n",
            "\n",
            " non-flooded       0.64      0.44      0.52        16\n",
            "     flooded       0.74      0.86      0.79        29\n",
            "\n",
            "    accuracy                           0.71        45\n",
            "   macro avg       0.69      0.65      0.66        45\n",
            "weighted avg       0.70      0.71      0.70        45\n",
            "\n"
          ]
        },
        {
          "output_type": "display_data",
          "data": {
            "text/plain": [
              "<Figure size 640x480 with 2 Axes>"
            ],
            "image/png": "[encoded data removed]"
          },
          "metadata": {}
        }
      ]
    },
    {
      "cell_type": "markdown",
      "source": [
        "# SmallFlood CNN"
      ],
      "metadata": {
        "id": "qdMHeeBcmdpF"
      }
    },
    {
      "cell_type": "markdown",
      "source": [
        "1. CNN – Image Classification\n",
        "🔍 Goal:\n",
        "Classify full image or patches into categories: flooded vs non-flooded.\n",
        "\n",
        "✅ Pipeline:\n",
        "Input: RGB (or SAR) tiles resized to 224x224\n",
        "\n",
        "Model: Simple CNN or pre-trained ResNet/VGG via Keras\n",
        "\n",
        "Output: Single label (flooded = 1, nonflooded = 0)"
      ],
      "metadata": {
        "id": "f5LGRFpLmlYN"
      }
    },
    {
      "cell_type": "code",
      "source": [
        "import torch\n",
        "import torch.nn as nn\n",
        "import torch.nn.functional as F\n",
        "\n",
        "class SmallFloodCNN(nn.Module):\n",
        "    def __init__(self):\n",
        "        super(SmallFloodCNN, self).__init__()\n",
        "\n",
        "        self.conv1 = nn.Conv2d(3, 16, kernel_size=3, padding=1)  # (16, 224, 224)\n",
        "        self.pool = nn.MaxPool2d(2, 2)  # → (16, 112, 112)\n",
        "        self.conv2 = nn.Conv2d(16, 32, kernel_size=3, padding=1)  # (32, 112, 112) → (32, 56, 56)\n",
        "        self.conv3 = nn.Conv2d(32, 64, kernel_size=3, padding=1)  # (64, 28, 28)\n",
        "\n",
        "        self.dropout = nn.Dropout(0.4)\n",
        "\n",
        "        self.fc1 = nn.Linear(64 * 28 * 28, 64)\n",
        "        self.fc2 = nn.Linear(64, 2)  # 2 output classes\n",
        "\n",
        "    def forward(self, x):\n",
        "        x = self.pool(F.relu(self.conv1(x)))  # (16, 112, 112)\n",
        "        x = self.pool(F.relu(self.conv2(x)))  # (32, 56, 56)\n",
        "        x = self.pool(F.relu(self.conv3(x)))  # (64, 28, 28)\n",
        "\n",
        "        x = x.view(-1, 64 * 28 * 28)\n",
        "        x = F.relu(self.fc1(x))\n",
        "        x = self.dropout(x)\n",
        "        x = self.fc2(x)\n",
        "        return x\n"
      ],
      "metadata": {
        "id": "SAtIeUxjmAr-"
      },
      "execution_count": null,
      "outputs": []
    },
    {
      "cell_type": "code",
      "source": [
        "device = torch.device(\"cuda\" if torch.cuda.is_available() else \"cpu\")\n",
        "model = SmallFloodCNN().to(device)\n",
        "criterion = nn.CrossEntropyLoss()\n",
        "optimizer = torch.optim.Adam(model.parameters(), lr=0.001)\n"
      ],
      "metadata": {
        "id": "ueH7MDNPnjzM"
      },
      "execution_count": null,
      "outputs": []
    },
    {
      "cell_type": "code",
      "source": [
        "def train_model(model, train_loader, val_loader, epochs=10):\n",
        "    for epoch in range(epochs):\n",
        "        model.train()\n",
        "        running_loss = 0.0\n",
        "        correct, total = 0, 0\n",
        "\n",
        "        for images, labels in train_loader:\n",
        "            images, labels = images.to(device), labels.to(device)\n",
        "\n",
        "            optimizer.zero_grad()\n",
        "            outputs = model(images)\n",
        "            loss = criterion(outputs, labels)\n",
        "            loss.backward()\n",
        "            optimizer.step()\n",
        "\n",
        "            running_loss += loss.item()\n",
        "            _, predicted = torch.max(outputs.data, 1)\n",
        "            total += labels.size(0)\n",
        "            correct += (predicted == labels).sum().item()\n",
        "\n",
        "        train_acc = 100 * correct / total\n",
        "        print(f\"Epoch {epoch+1}/{epochs} - Loss: {running_loss:.4f} - Train Acc: {train_acc:.2f}%\")\n",
        "\n"
      ],
      "metadata": {
        "id": "BvNtBPlOnuOs"
      },
      "execution_count": null,
      "outputs": []
    },
    {
      "cell_type": "code",
      "source": [
        "def evaluate_model(model, test_loader):\n",
        "    model.eval()\n",
        "    correct, total = 0, 0\n",
        "    with torch.no_grad():\n",
        "        for images, labels in test_loader:\n",
        "            images, labels = images.to(device), labels.to(device)\n",
        "            outputs = model(images)\n",
        "            _, predicted = torch.max(outputs.data, 1)\n",
        "            total += labels.size(0)\n",
        "            correct += (predicted == labels).sum().item()\n",
        "\n",
        "    test_acc = 100 * correct / total\n",
        "    print(f\"Test Accuracy: {test_acc:.2f}%\")\n"
      ],
      "metadata": {
        "id": "giDUHrHrnwzM"
      },
      "execution_count": null,
      "outputs": []
    },
    {
      "cell_type": "code",
      "source": [
        "from sklearn.metrics import classification_report, confusion_matrix\n",
        "import seaborn as sns\n",
        "import matplotlib.pyplot as plt\n",
        "import numpy as np\n",
        "\n",
        "def evaluate_model(model, dataloader):\n",
        "    model.eval()\n",
        "    all_preds = []\n",
        "    all_labels = []\n",
        "\n",
        "    with torch.no_grad():\n",
        "        for images, labels in dataloader:\n",
        "            images = images.to(device)\n",
        "            labels = labels.to(device)\n",
        "            outputs = model(images)\n",
        "            _, preds = torch.max(outputs, 1)\n",
        "            all_preds.extend(preds.cpu().numpy())\n",
        "            all_labels.extend(labels.cpu().numpy())\n",
        "\n",
        "    return np.array(all_labels), np.array(all_preds)\n",
        "\n",
        "y_true, y_pred = evaluate_model(model, test_loader)\n"
      ],
      "metadata": {
        "id": "jCUErXEEoZ7c"
      },
      "execution_count": null,
      "outputs": []
    },
    {
      "cell_type": "code",
      "source": [
        "from sklearn.metrics import accuracy_score, precision_score, recall_score, f1_score\n",
        "\n",
        "print(\"Accuracy:\", accuracy_score(y_true, y_pred))\n",
        "print(\"Precision:\", precision_score(y_true, y_pred))\n",
        "print(\"Recall:\", recall_score(y_true, y_pred))\n",
        "print(\"F1 Score:\", f1_score(y_true, y_pred))\n",
        "\n",
        "target_names = ['No Flood', 'Flood']\n",
        "print(classification_report(y_true, y_pred, target_names=target_names))\n",
        "\n",
        "cm = confusion_matrix(y_true, y_pred)\n",
        "\n",
        "plt.figure(figsize=(6, 4))\n",
        "sns.heatmap(cm, annot=True, fmt=\"d\", cmap=\"Blues\", xticklabels=target_names, yticklabels=target_names)\n",
        "plt.xlabel(\"Predicted\")\n",
        "plt.ylabel(\"Actual\")\n",
        "plt.title(\"Confusion Matrix\")\n",
        "plt.show()\n"
      ],
      "metadata": {
        "colab": {
          "base_uri": "https://localhost:8080/",
          "height": 760
        },
        "id": "baJ13pnvobJe",
        "outputId": "921d51f7-11d8-409d-8a31-51127e97a170"
      },
      "execution_count": null,
      "outputs": [
        {
          "output_type": "stream",
          "name": "stdout",
          "text": [
            "Accuracy: 0.6444444444444445\n",
            "Precision: 0.6444444444444445\n",
            "Recall: 1.0\n",
            "F1 Score: 0.7837837837837838\n",
            "              precision    recall  f1-score   support\n",
            "\n",
            "    No Flood       0.00      0.00      0.00        16\n",
            "       Flood       0.64      1.00      0.78        29\n",
            "\n",
            "    accuracy                           0.64        45\n",
            "   macro avg       0.32      0.50      0.39        45\n",
            "weighted avg       0.42      0.64      0.51        45\n",
            "\n"
          ]
        },
        {
          "output_type": "stream",
          "name": "stderr",
          "text": [
            "/usr/local/lib/python3.11/dist-packages/sklearn/metrics/_classification.py:1565: UndefinedMetricWarning: Precision is ill-defined and being set to 0.0 in labels with no predicted samples. Use `zero_division` parameter to control this behavior.\n",
            "  _warn_prf(average, modifier, f\"{metric.capitalize()} is\", len(result))\n",
            "/usr/local/lib/python3.11/dist-packages/sklearn/metrics/_classification.py:1565: UndefinedMetricWarning: Precision is ill-defined and being set to 0.0 in labels with no predicted samples. Use `zero_division` parameter to control this behavior.\n",
            "  _warn_prf(average, modifier, f\"{metric.capitalize()} is\", len(result))\n",
            "/usr/local/lib/python3.11/dist-packages/sklearn/metrics/_classification.py:1565: UndefinedMetricWarning: Precision is ill-defined and being set to 0.0 in labels with no predicted samples. Use `zero_division` parameter to control this behavior.\n",
            "  _warn_prf(average, modifier, f\"{metric.capitalize()} is\", len(result))\n"
          ]
        },
        {
          "output_type": "display_data",
          "data": {
            "text/plain": [
              "<Figure size 600x400 with 2 Axes>"
            ],
            "image/png": "[encoded data removed]"
          },
          "metadata": {}
        }
      ]
    },
    {
      "cell_type": "markdown",
      "source": [
        "Your model never predicts \"No Flood\", which causes:\n",
        "\n",
        "Recall for \"Flood\" to be perfect (it never misses a flood).\n",
        "\n",
        "But Precision suffers (it often mistakes No Flood for Flood).\n",
        "\n",
        "This likely indicates class imbalance or bias in predictions."
      ],
      "metadata": {
        "id": "EkR8ApvtpF_b"
      }
    },
    {
      "cell_type": "markdown",
      "source": [
        "# ResNet CNN"
      ],
      "metadata": {
        "id": "FXiACqk6wLNn"
      }
    },
    {
      "cell_type": "code",
      "source": [
        "import torch\n",
        "import torch.nn as nn\n",
        "import torchvision.models as models\n",
        "\n",
        "# Load pretrained ResNet18\n",
        "class FloodResNet(nn.Module):\n",
        "    def __init__(self):\n",
        "        super(FloodResNet, self).__init__()\n",
        "        self.base_model = models.resnet18(pretrained=True)\n",
        "\n",
        "        # Modify final layer for binary classification\n",
        "        num_features = self.base_model.fc.in_features\n",
        "        self.base_model.fc = nn.Linear(num_features, 2)  # Binary output\n",
        "\n",
        "    def forward(self, x):\n",
        "        return self.base_model(x)\n"
      ],
      "metadata": {
        "id": "QpOmvDWGwR_f"
      },
      "execution_count": null,
      "outputs": []
    },
    {
      "cell_type": "code",
      "source": [
        "model = FloodResNet().to(device)\n",
        "\n",
        "criterion = nn.CrossEntropyLoss()  # Since output is 2 logits\n",
        "optimizer = torch.optim.Adam(model.parameters(), lr=1e-4)\n"
      ],
      "metadata": {
        "colab": {
          "base_uri": "https://localhost:8080/"
        },
        "id": "7kfAGG6CwXaP",
        "outputId": "4c42da65-7486-4a84-be5c-75cd33585d1c"
      },
      "execution_count": null,
      "outputs": [
        {
          "output_type": "stream",
          "name": "stderr",
          "text": [
            "/usr/local/lib/python3.11/dist-packages/torchvision/models/_utils.py:208: UserWarning: The parameter 'pretrained' is deprecated since 0.13 and may be removed in the future, please use 'weights' instead.\n",
            "  warnings.warn(\n",
            "/usr/local/lib/python3.11/dist-packages/torchvision/models/_utils.py:223: UserWarning: Arguments other than a weight enum or `None` for 'weights' are deprecated since 0.13 and may be removed in the future. The current behavior is equivalent to passing `weights=ResNet18_Weights.IMAGENET1K_V1`. You can also use `weights=ResNet18_Weights.DEFAULT` to get the most up-to-date weights.\n",
            "  warnings.warn(msg)\n",
            "Downloading: \"https://download.pytorch.org/models/resnet18-f37072fd.pth\" to /root/.cache/torch/hub/checkpoints/resnet18-f37072fd.pth\n",
            "100%|██████████| 44.7M/44.7M [00:00<00:00, 79.3MB/s]\n"
          ]
        }
      ]
    },
    {
      "cell_type": "code",
      "source": [
        "num_epochs = 10\n",
        "\n",
        "for epoch in range(num_epochs):\n",
        "    model.train()\n",
        "    running_loss = 0.0\n",
        "\n",
        "    for images, labels in train_loader:\n",
        "        images = images.to(device)\n",
        "        labels = labels.to(device)\n",
        "\n",
        "        optimizer.zero_grad()\n",
        "        outputs = model(images)\n",
        "        loss = criterion(outputs, labels)\n",
        "        loss.backward()\n",
        "        optimizer.step()\n",
        "\n",
        "        running_loss += loss.item()\n",
        "\n",
        "    print(f\"Epoch [{epoch+1}/{num_epochs}], Loss: {running_loss/len(train_loader):.4f}\")\n"
      ],
      "metadata": {
        "colab": {
          "base_uri": "https://localhost:8080/"
        },
        "id": "UF2WtMG1wY7H",
        "outputId": "9d292edf-48ea-43c6-a7a8-fb8919ef25f9"
      },
      "execution_count": null,
      "outputs": [
        {
          "output_type": "stream",
          "name": "stdout",
          "text": [
            "Epoch [1/10], Loss: 0.3527\n",
            "Epoch [2/10], Loss: 0.1749\n",
            "Epoch [3/10], Loss: 0.1190\n",
            "Epoch [4/10], Loss: 0.0888\n",
            "Epoch [5/10], Loss: 0.1002\n",
            "Epoch [6/10], Loss: 0.1197\n",
            "Epoch [7/10], Loss: 0.0854\n",
            "Epoch [8/10], Loss: 0.0783\n",
            "Epoch [9/10], Loss: 0.0748\n",
            "Epoch [10/10], Loss: 0.0687\n"
          ]
        }
      ]
    },
    {
      "cell_type": "code",
      "source": [
        "from sklearn.metrics import accuracy_score, classification_report, confusion_matrix\n",
        "import torch.nn.functional as F\n",
        "\n",
        "model.eval()\n",
        "all_preds = []\n",
        "all_labels = []\n",
        "\n",
        "with torch.no_grad():\n",
        "    for images, labels in test_loader:\n",
        "        images = images.to(device)\n",
        "        labels = labels.to(device)\n",
        "\n",
        "        outputs = model(images)\n",
        "        _, preds = torch.max(outputs, 1)\n",
        "\n",
        "        all_preds.extend(preds.cpu().numpy())\n",
        "        all_labels.extend(labels.cpu().numpy())\n",
        "\n",
        "# Metrics\n",
        "print(\"Accuracy:\", accuracy_score(all_labels, all_preds))\n",
        "print(\"Classification Report:\\n\", classification_report(all_labels, all_preds, digits=4))\n",
        "print(\"Confusion Matrix:\\n\", confusion_matrix(all_labels, all_preds))\n"
      ],
      "metadata": {
        "colab": {
          "base_uri": "https://localhost:8080/"
        },
        "id": "Wtr2DJNJwbco",
        "outputId": "9ffd0d69-9215-4f94-c47c-26e49e42816b"
      },
      "execution_count": null,
      "outputs": [
        {
          "output_type": "stream",
          "name": "stdout",
          "text": [
            "Accuracy: 0.8444444444444444\n",
            "Classification Report:\n",
            "               precision    recall  f1-score   support\n",
            "\n",
            "           0     0.8947    0.7727    0.8293        22\n",
            "           1     0.8077    0.9130    0.8571        23\n",
            "\n",
            "    accuracy                         0.8444        45\n",
            "   macro avg     0.8512    0.8429    0.8432        45\n",
            "weighted avg     0.8502    0.8444    0.8435        45\n",
            "\n",
            "Confusion Matrix:\n",
            " [[17  5]\n",
            " [ 2 21]]\n"
          ]
        }
      ]
    },
    {
      "cell_type": "code",
      "source": [
        "import matplotlib.pyplot as plt\n",
        "import seaborn as sns\n",
        "from sklearn.metrics import confusion_matrix\n",
        "\n",
        "cm = [[17, 5], [2, 21]]\n",
        "sns.heatmap(cm, annot=True, fmt=\"d\", cmap=\"Blues\", xticklabels=[\"non-flooded\", \"flooded\"], yticklabels=[\"non-flooded\", \"flooded\"])\n",
        "plt.xlabel(\"Predicted\")\n",
        "plt.ylabel(\"Actual\")\n",
        "plt.title(\"Confusion Matrix\")\n",
        "plt.show()\n"
      ],
      "metadata": {
        "colab": {
          "base_uri": "https://localhost:8080/",
          "height": 472
        },
        "id": "F9bOlApM0dTO",
        "outputId": "51c64a10-7395-438d-e91b-d5ef8bdc0669"
      },
      "execution_count": null,
      "outputs": [
        {
          "output_type": "display_data",
          "data": {
            "text/plain": [
              "<Figure size 640x480 with 2 Axes>"
            ],
            "image/png": "[encoded data removed]"
          },
          "metadata": {}
        }
      ]
    },
    {
      "cell_type": "markdown",
      "source": [
        "# UNET"
      ],
      "metadata": {
        "id": "oCqrfSzxpHOr"
      }
    },
    {
      "cell_type": "markdown",
      "source": [
        "Your dataset is currently not suited for semantic segmentation (e.g., with U-Net), because:\n",
        "\n",
        "U-Net requires pixel-level labels, but your data only includes imagery (no mask to learn from). CANNOT RUN U-NET"
      ],
      "metadata": {
        "id": "NAJDpRQMu6cY"
      }
    },
    {
      "cell_type": "markdown",
      "source": [
        "U-Net – Image Segmentation\n",
        "🔍 Goal:\n",
        "Predict a pixel-wise flood mask. Useful if SEN12FLOOD includes ground truth labels as masks.\n",
        "\n",
        "✅ Pipeline:\n",
        "Input: Image tiles (e.g., 256x256 or 512x512)\n",
        "\n",
        "Model: U-Net (custom or segmentation_models library)\n",
        "\n",
        "Output: Binary mask of same size as input\n",
        "\n",
        "✅ Notes:\n",
        "Your data must include segmentation masks.\n",
        "\n",
        "Use binary cross-entropy or dice loss."
      ],
      "metadata": {
        "id": "l5kXvnjWmrgV"
      }
    },
    {
      "cell_type": "code",
      "source": [
        "import torch\n",
        "import torch.nn as nn\n",
        "import torch.nn.functional as F\n",
        "\n",
        "class DoubleConv(nn.Module):\n",
        "    def __init__(self, in_channels, out_channels):\n",
        "        super().__init__()\n",
        "        self.double_conv = nn.Sequential(\n",
        "            nn.Conv2d(in_channels, out_channels, 3, padding=1),\n",
        "            nn.ReLU(inplace=True),\n",
        "            nn.Conv2d(out_channels, out_channels, 3, padding=1),\n",
        "            nn.ReLU(inplace=True)\n",
        "        )\n",
        "    def forward(self, x):\n",
        "        return self.double_conv(x)\n",
        "\n",
        "class UNet(nn.Module):\n",
        "    def __init__(self, in_channels=3, out_channels=1):\n",
        "        super().__init__()\n",
        "        self.enc1 = DoubleConv(in_channels, 64)\n",
        "        self.enc2 = DoubleConv(64, 128)\n",
        "        self.enc3 = DoubleConv(128, 256)\n",
        "        self.enc4 = DoubleConv(256, 512)\n",
        "\n",
        "        self.pool = nn.MaxPool2d(2)\n",
        "\n",
        "        self.bottleneck = DoubleConv(512, 1024)\n",
        "\n",
        "        self.upconv4 = nn.ConvTranspose2d(1024, 512, kernel_size=2, stride=2)\n",
        "        self.dec4 = DoubleConv(1024, 512)\n",
        "\n",
        "        self.upconv3 = nn.ConvTranspose2d(512, 256, kernel_size=2, stride=2)\n",
        "        self.dec3 = DoubleConv(512, 256)\n",
        "\n",
        "        self.upconv2 = nn.ConvTranspose2d(256, 128, kernel_size=2, stride=2)\n",
        "        self.dec2 = DoubleConv(256, 128)\n",
        "\n",
        "        self.upconv1 = nn.ConvTranspose2d(128, 64, kernel_size=2, stride=2)\n",
        "        self.dec1 = DoubleConv(128, 64)\n",
        "\n",
        "        self.final_conv = nn.Conv2d(64, out_channels, kernel_size=1)\n",
        "\n",
        "    def forward(self, x):\n",
        "        # Encoder\n",
        "        e1 = self.enc1(x)\n",
        "        e2 = self.enc2(self.pool(e1))\n",
        "        e3 = self.enc3(self.pool(e2))\n",
        "        e4 = self.enc4(self.pool(e3))\n",
        "\n",
        "        # Bottleneck\n",
        "        b = self.bottleneck(self.pool(e4))\n",
        "\n",
        "        # Decoder\n",
        "        d4 = self.upconv4(b)\n",
        "        d4 = torch.cat((d4, e4), dim=1)\n",
        "        d4 = self.dec4(d4)\n",
        "\n",
        "        d3 = self.upconv3(d4)\n",
        "        d3 = torch.cat((d3, e3), dim=1)\n",
        "        d3 = self.dec3(d3)\n",
        "\n",
        "        d2 = self.upconv2(d3)\n",
        "        d2 = torch.cat((d2, e2), dim=1)\n",
        "        d2 = self.dec2(d2)\n",
        "\n",
        "        d1 = self.upconv1(d2)\n",
        "        d1 = torch.cat((d1, e1), dim=1)\n",
        "        d1 = self.dec1(d1)\n",
        "\n",
        "        return torch.sigmoid(self.final_conv(d1))\n"
      ],
      "metadata": {
        "id": "c67ZrFEJmuHF"
      },
      "execution_count": null,
      "outputs": []
    },
    {
      "cell_type": "code",
      "source": [
        "model = UNet(in_channels=3, out_channels=1).to(device)"
      ],
      "metadata": {
        "id": "mihFclZbpct0"
      },
      "execution_count": null,
      "outputs": []
    },
    {
      "cell_type": "code",
      "source": [
        "num_epochs = 10\n",
        "\n",
        "for epoch in range(num_epochs):\n",
        "    model.train()\n",
        "    total_loss = 0\n",
        "    for images, masks in train_loader:\n",
        "        images = images.to(device)\n",
        "        masks = masks.to(device).float()\n",
        "\n",
        "        outputs = model(images)\n",
        "        loss = criterion(outputs, masks)\n",
        "\n",
        "        optimizer.zero_grad()\n",
        "        loss.backward()\n",
        "        optimizer.step()\n",
        "\n",
        "        total_loss += loss.item()\n",
        "\n",
        "    print(f\"Epoch [{epoch+1}/{num_epochs}], Loss: {total_loss/len(train_loader):.4f}\")\n"
      ],
      "metadata": {
        "colab": {
          "base_uri": "https://localhost:8080/",
          "height": 356
        },
        "id": "8lv_Zq8Epfr7",
        "outputId": "823472c8-f160-45ef-a168-192c5209cc24"
      },
      "execution_count": null,
      "outputs": [
        {
          "output_type": "error",
          "ename": "ValueError",
          "evalue": "Using a target size (torch.Size([32])) that is different to the input size (torch.Size([32, 1, 224, 224])) is deprecated. Please ensure they have the same size.",
          "traceback": [
            "\u001b[0;31m---------------------------------------------------------------------------\u001b[0m",
            "\u001b[0;31mValueError\u001b[0m                                Traceback (most recent call last)",
            "\u001b[0;32m<ipython-input-30-97dd5e1b7da3>\u001b[0m in \u001b[0;36m<cell line: 0>\u001b[0;34m()\u001b[0m\n\u001b[1;32m      9\u001b[0m \u001b[0;34m\u001b[0m\u001b[0m\n\u001b[1;32m     10\u001b[0m         \u001b[0moutputs\u001b[0m \u001b[0;34m=\u001b[0m \u001b[0mmodel\u001b[0m\u001b[0;34m(\u001b[0m\u001b[0mimages\u001b[0m\u001b[0;34m)\u001b[0m\u001b[0;34m\u001b[0m\u001b[0;34m\u001b[0m\u001b[0m\n\u001b[0;32m---> 11\u001b[0;31m         \u001b[0mloss\u001b[0m \u001b[0;34m=\u001b[0m \u001b[0mcriterion\u001b[0m\u001b[0;34m(\u001b[0m\u001b[0moutputs\u001b[0m\u001b[0;34m,\u001b[0m \u001b[0mmasks\u001b[0m\u001b[0;34m)\u001b[0m\u001b[0;34m\u001b[0m\u001b[0;34m\u001b[0m\u001b[0m\n\u001b[0m\u001b[1;32m     12\u001b[0m \u001b[0;34m\u001b[0m\u001b[0m\n\u001b[1;32m     13\u001b[0m         \u001b[0moptimizer\u001b[0m\u001b[0;34m.\u001b[0m\u001b[0mzero_grad\u001b[0m\u001b[0;34m(\u001b[0m\u001b[0;34m)\u001b[0m\u001b[0;34m\u001b[0m\u001b[0;34m\u001b[0m\u001b[0m\n",
            "\u001b[0;32m/usr/local/lib/python3.11/dist-packages/torch/nn/modules/module.py\u001b[0m in \u001b[0;36m_wrapped_call_impl\u001b[0;34m(self, *args, **kwargs)\u001b[0m\n\u001b[1;32m   1737\u001b[0m             \u001b[0;32mreturn\u001b[0m \u001b[0mself\u001b[0m\u001b[0;34m.\u001b[0m\u001b[0m_compiled_call_impl\u001b[0m\u001b[0;34m(\u001b[0m\u001b[0;34m*\u001b[0m\u001b[0margs\u001b[0m\u001b[0;34m,\u001b[0m \u001b[0;34m**\u001b[0m\u001b[0mkwargs\u001b[0m\u001b[0;34m)\u001b[0m  \u001b[0;31m# type: ignore[misc]\u001b[0m\u001b[0;34m\u001b[0m\u001b[0;34m\u001b[0m\u001b[0m\n\u001b[1;32m   1738\u001b[0m         \u001b[0;32melse\u001b[0m\u001b[0;34m:\u001b[0m\u001b[0;34m\u001b[0m\u001b[0;34m\u001b[0m\u001b[0m\n\u001b[0;32m-> 1739\u001b[0;31m             \u001b[0;32mreturn\u001b[0m \u001b[0mself\u001b[0m\u001b[0;34m.\u001b[0m\u001b[0m_call_impl\u001b[0m\u001b[0;34m(\u001b[0m\u001b[0;34m*\u001b[0m\u001b[0margs\u001b[0m\u001b[0;34m,\u001b[0m \u001b[0;34m**\u001b[0m\u001b[0mkwargs\u001b[0m\u001b[0;34m)\u001b[0m\u001b[0;34m\u001b[0m\u001b[0;34m\u001b[0m\u001b[0m\n\u001b[0m\u001b[1;32m   1740\u001b[0m \u001b[0;34m\u001b[0m\u001b[0m\n\u001b[1;32m   1741\u001b[0m     \u001b[0;31m# torchrec tests the code consistency with the following code\u001b[0m\u001b[0;34m\u001b[0m\u001b[0;34m\u001b[0m\u001b[0m\n",
            "\u001b[0;32m/usr/local/lib/python3.11/dist-packages/torch/nn/modules/module.py\u001b[0m in \u001b[0;36m_call_impl\u001b[0;34m(self, *args, **kwargs)\u001b[0m\n\u001b[1;32m   1748\u001b[0m                 \u001b[0;32mor\u001b[0m \u001b[0m_global_backward_pre_hooks\u001b[0m \u001b[0;32mor\u001b[0m \u001b[0m_global_backward_hooks\u001b[0m\u001b[0;34m\u001b[0m\u001b[0;34m\u001b[0m\u001b[0m\n\u001b[1;32m   1749\u001b[0m                 or _global_forward_hooks or _global_forward_pre_hooks):\n\u001b[0;32m-> 1750\u001b[0;31m             \u001b[0;32mreturn\u001b[0m \u001b[0mforward_call\u001b[0m\u001b[0;34m(\u001b[0m\u001b[0;34m*\u001b[0m\u001b[0margs\u001b[0m\u001b[0;34m,\u001b[0m \u001b[0;34m**\u001b[0m\u001b[0mkwargs\u001b[0m\u001b[0;34m)\u001b[0m\u001b[0;34m\u001b[0m\u001b[0;34m\u001b[0m\u001b[0m\n\u001b[0m\u001b[1;32m   1751\u001b[0m \u001b[0;34m\u001b[0m\u001b[0m\n\u001b[1;32m   1752\u001b[0m         \u001b[0mresult\u001b[0m \u001b[0;34m=\u001b[0m \u001b[0;32mNone\u001b[0m\u001b[0;34m\u001b[0m\u001b[0;34m\u001b[0m\u001b[0m\n",
            "\u001b[0;32m/usr/local/lib/python3.11/dist-packages/torch/nn/modules/loss.py\u001b[0m in \u001b[0;36mforward\u001b[0;34m(self, input, target)\u001b[0m\n\u001b[1;32m    697\u001b[0m \u001b[0;34m\u001b[0m\u001b[0m\n\u001b[1;32m    698\u001b[0m     \u001b[0;32mdef\u001b[0m \u001b[0mforward\u001b[0m\u001b[0;34m(\u001b[0m\u001b[0mself\u001b[0m\u001b[0;34m,\u001b[0m \u001b[0minput\u001b[0m\u001b[0;34m:\u001b[0m \u001b[0mTensor\u001b[0m\u001b[0;34m,\u001b[0m \u001b[0mtarget\u001b[0m\u001b[0;34m:\u001b[0m \u001b[0mTensor\u001b[0m\u001b[0;34m)\u001b[0m \u001b[0;34m->\u001b[0m \u001b[0mTensor\u001b[0m\u001b[0;34m:\u001b[0m\u001b[0;34m\u001b[0m\u001b[0;34m\u001b[0m\u001b[0m\n\u001b[0;32m--> 699\u001b[0;31m         return F.binary_cross_entropy(\n\u001b[0m\u001b[1;32m    700\u001b[0m             \u001b[0minput\u001b[0m\u001b[0;34m,\u001b[0m \u001b[0mtarget\u001b[0m\u001b[0;34m,\u001b[0m \u001b[0mweight\u001b[0m\u001b[0;34m=\u001b[0m\u001b[0mself\u001b[0m\u001b[0;34m.\u001b[0m\u001b[0mweight\u001b[0m\u001b[0;34m,\u001b[0m \u001b[0mreduction\u001b[0m\u001b[0;34m=\u001b[0m\u001b[0mself\u001b[0m\u001b[0;34m.\u001b[0m\u001b[0mreduction\u001b[0m\u001b[0;34m\u001b[0m\u001b[0;34m\u001b[0m\u001b[0m\n\u001b[1;32m    701\u001b[0m         )\n",
            "\u001b[0;32m/usr/local/lib/python3.11/dist-packages/torch/nn/functional.py\u001b[0m in \u001b[0;36mbinary_cross_entropy\u001b[0;34m(input, target, weight, size_average, reduce, reduction)\u001b[0m\n\u001b[1;32m   3558\u001b[0m         \u001b[0mreduction_enum\u001b[0m \u001b[0;34m=\u001b[0m \u001b[0m_Reduction\u001b[0m\u001b[0;34m.\u001b[0m\u001b[0mget_enum\u001b[0m\u001b[0;34m(\u001b[0m\u001b[0mreduction\u001b[0m\u001b[0;34m)\u001b[0m\u001b[0;34m\u001b[0m\u001b[0;34m\u001b[0m\u001b[0m\n\u001b[1;32m   3559\u001b[0m     \u001b[0;32mif\u001b[0m \u001b[0mtarget\u001b[0m\u001b[0;34m.\u001b[0m\u001b[0msize\u001b[0m\u001b[0;34m(\u001b[0m\u001b[0;34m)\u001b[0m \u001b[0;34m!=\u001b[0m \u001b[0minput\u001b[0m\u001b[0;34m.\u001b[0m\u001b[0msize\u001b[0m\u001b[0;34m(\u001b[0m\u001b[0;34m)\u001b[0m\u001b[0;34m:\u001b[0m\u001b[0;34m\u001b[0m\u001b[0;34m\u001b[0m\u001b[0m\n\u001b[0;32m-> 3560\u001b[0;31m         raise ValueError(\n\u001b[0m\u001b[1;32m   3561\u001b[0m             \u001b[0;34mf\"Using a target size ({target.size()}) that is different to the input size ({input.size()}) is deprecated. \"\u001b[0m\u001b[0;34m\u001b[0m\u001b[0;34m\u001b[0m\u001b[0m\n\u001b[1;32m   3562\u001b[0m             \u001b[0;34m\"Please ensure they have the same size.\"\u001b[0m\u001b[0;34m\u001b[0m\u001b[0;34m\u001b[0m\u001b[0m\n",
            "\u001b[0;31mValueError\u001b[0m: Using a target size (torch.Size([32])) that is different to the input size (torch.Size([32, 1, 224, 224])) is deprecated. Please ensure they have the same size."
          ]
        }
      ]
    },
    {
      "cell_type": "code",
      "source": [
        "from sklearn.metrics import accuracy_score, precision_score, recall_score, f1_score, confusion_matrix\n",
        "\n",
        "def evaluate_unet(model, dataloader, threshold=0.5):\n",
        "    model.eval()\n",
        "    all_preds = []\n",
        "    all_labels = []\n",
        "\n",
        "    with torch.no_grad():\n",
        "        for images, masks in dataloader:\n",
        "            images = images.to(device)\n",
        "            masks = masks.to(device).unsqueeze(1).float()  # (B, 1, H, W)\n",
        "\n",
        "            outputs = model(images)\n",
        "            preds = (outputs > threshold).float()\n",
        "\n",
        "            # Flatten for metrics\n",
        "            all_preds.extend(preds.cpu().numpy().flatten())\n",
        "            all_labels.extend(masks.cpu().numpy().flatten())\n",
        "\n",
        "    # Convert to binary\n",
        "    all_preds = np.array(all_preds).astype(int)\n",
        "    all_labels = np.array(all_labels).astype(int)\n",
        "\n",
        "    acc = accuracy_score(all_labels, all_preds)\n",
        "    prec = precision_score(all_labels, all_preds, zero_division=0)\n",
        "    rec = recall_score(all_labels, all_preds, zero_division=0)\n",
        "    f1 = f1_score(all_labels, all_preds, zero_division=0)\n",
        "    cm = confusion_matrix(all_labels, all_preds)\n",
        "\n",
        "    print(f\"Accuracy : {acc:.4f}\")\n",
        "    print(f\"Precision: {prec:.4f}\")\n",
        "    print(f\"Recall   : {rec:.4f}\")\n",
        "    print(f\"F1 Score : {f1:.4f}\")\n",
        "\n",
        "    return cm\n"
      ],
      "metadata": {
        "id": "7A0G-c9Ypj67"
      },
      "execution_count": null,
      "outputs": []
    },
    {
      "cell_type": "code",
      "source": [
        "import seaborn as sns\n",
        "import matplotlib.pyplot as plt\n",
        "\n",
        "def plot_confusion(cm):\n",
        "    plt.figure(figsize=(6, 5))\n",
        "    sns.heatmap(cm, annot=True, fmt=\"d\", cmap=\"Blues\",\n",
        "                xticklabels=[\"No Flood\", \"Flood\"],\n",
        "                yticklabels=[\"No Flood\", \"Flood\"])\n",
        "    plt.xlabel(\"Predicted\")\n",
        "    plt.ylabel(\"Actual\")\n",
        "    plt.title(\"Confusion Matrix\")\n",
        "    plt.show()\n"
      ],
      "metadata": {
        "id": "iYh_ENE4pwwm"
      },
      "execution_count": null,
      "outputs": []
    },
    {
      "cell_type": "code",
      "source": [
        "cm = evaluate_unet(model, test_loader, threshold=0.5)\n",
        "plot_confusion(cm)\n"
      ],
      "metadata": {
        "id": "PwRDs0QMpzYd"
      },
      "execution_count": null,
      "outputs": []
    },
    {
      "cell_type": "markdown",
      "source": [
        "Old code"
      ],
      "metadata": {
        "id": "bpzjwquCmpl3"
      }
    },
    {
      "cell_type": "code",
      "source": [
        "# 1. Load and modify ResNet-50\n",
        "resnet_model = models.resnet50(pretrained=True)\n",
        "num_features = resnet_model.fc.in_features\n",
        "resnet_model.fc = nn.Linear(num_features, 2)  # 2 = binary classification\n",
        "resnet_model = resnet_model.to(device)\n",
        "\n",
        "# 2. Define optimizer and loss function\n",
        "criterion = nn.CrossEntropyLoss()\n",
        "optimizer_resnet = optim.AdamW(resnet_model.parameters(), lr=1e-4)\n",
        "\n",
        "# 3. Hyperparameters for training\n",
        "num_epochs = 10\n",
        "patience = 3\n",
        "early_stop_threshold = 0.001\n",
        "\n",
        "best_val_loss = float('inf')\n",
        "epochs_no_improve = 0\n",
        "\n",
        "# Lists to store metrics for plotting\n",
        "train_losses, train_accuracies = [], []\n",
        "val_losses, val_accuracies = [], []\n",
        "\n",
        "# 4. Training loop\n",
        "for epoch in range(num_epochs):\n",
        "    train_loss, train_acc = train_epoch(resnet_model, train_loader, optimizer_resnet, criterion, device)\n",
        "    val_loss, val_acc = validate_epoch(resnet_model, val_loader, criterion, device)\n",
        "\n",
        "    train_losses.append(train_loss)\n",
        "    train_accuracies.append(train_acc)\n",
        "    val_losses.append(val_loss)\n",
        "    val_accuracies.append(val_acc)\n",
        "\n",
        "    print(f\"Epoch {epoch+1}/{num_epochs}\")\n",
        "    print(f\"Train Loss: {train_loss:.4f} | Train Acc: {train_acc:.4f}\")\n",
        "    print(f\"Val   Loss: {val_loss:.4f} | Val   Acc: {val_acc:.4f}\")\n",
        "\n",
        "    # Early stopping conditions\n",
        "    if val_loss < early_stop_threshold:\n",
        "        print(\"Validation loss is very low; stopping training early.\")\n",
        "        break\n",
        "\n",
        "    if val_loss < best_val_loss:\n",
        "        best_val_loss = val_loss\n",
        "        epochs_no_improve = 0\n",
        "    else:\n",
        "        epochs_no_improve += 1\n",
        "        if epochs_no_improve >= patience:\n",
        "            print(f\"Validation loss did not improve for {patience} epochs; stopping training.\")\n",
        "            break\n"
      ],
      "metadata": {
        "trusted": true,
        "execution": {
          "iopub.status.busy": "2025-04-02T15:10:11.273465Z",
          "iopub.execute_input": "2025-04-02T15:10:11.273687Z",
          "iopub.status.idle": "2025-04-02T15:22:32.052352Z",
          "shell.execute_reply.started": "2025-04-02T15:10:11.273668Z",
          "shell.execute_reply": "2025-04-02T15:22:32.051358Z"
        },
        "id": "4P8ANQVTyjS6"
      },
      "outputs": [],
      "execution_count": null
    },
    {
      "cell_type": "code",
      "source": [
        "epochs = range(1, len(train_losses) + 1)\n",
        "\n",
        "plt.figure(figsize=(12, 5))\n",
        "\n",
        "# Plot Training vs Validation Loss\n",
        "plt.subplot(1, 2, 1)\n",
        "plt.plot(epochs, train_losses, 'b-', label=\"Train Loss\")\n",
        "plt.plot(epochs, val_losses, 'r-', label=\"Val Loss\")\n",
        "plt.xlabel(\"Epoch\")\n",
        "plt.ylabel(\"Loss\")\n",
        "plt.title(\"Train vs. Validation Loss\")\n",
        "plt.legend()\n",
        "\n",
        "# Plot Training vs Validation Accuracy\n",
        "plt.subplot(1, 2, 2)\n",
        "plt.plot(epochs, train_accuracies, 'b-', label=\"Train Accuracy\")\n",
        "plt.plot(epochs, val_accuracies, 'r-', label=\"Val Accuracy\")\n",
        "plt.xlabel(\"Epoch\")\n",
        "plt.ylabel(\"Accuracy\")\n",
        "plt.title(\"Train vs. Validation Accuracy\")\n",
        "plt.legend()\n",
        "\n",
        "plt.tight_layout()\n",
        "plt.show()\n"
      ],
      "metadata": {
        "trusted": true,
        "execution": {
          "iopub.status.busy": "2025-04-02T15:22:32.055236Z",
          "iopub.execute_input": "2025-04-02T15:22:32.05553Z",
          "iopub.status.idle": "2025-04-02T15:22:32.481296Z",
          "shell.execute_reply.started": "2025-04-02T15:22:32.055506Z",
          "shell.execute_reply": "2025-04-02T15:22:32.48019Z"
        },
        "id": "uAH36cYCyjS6"
      },
      "outputs": [],
      "execution_count": null
    },
    {
      "cell_type": "code",
      "source": [
        "from sklearn.metrics import accuracy_score, precision_score, recall_score, f1_score, confusion_matrix, classification_report\n",
        "\n",
        "def evaluate_model(model, dataloader, device):\n",
        "    model.eval()\n",
        "    all_preds, all_labels = [], []\n",
        "\n",
        "    with torch.no_grad():\n",
        "        for images, labels in dataloader:\n",
        "            images, labels = images.to(device), labels.to(device)\n",
        "            with autocast(device_type='cuda'):\n",
        "                outputs = model(images)\n",
        "                if hasattr(outputs, \"logits\"):\n",
        "                    outputs = outputs.logits\n",
        "            _, preds = torch.max(outputs, 1)\n",
        "            all_preds.extend(preds.cpu().numpy())\n",
        "            all_labels.extend(labels.cpu().numpy())\n",
        "\n",
        "    acc = accuracy_score(all_labels, all_preds)\n",
        "    prec = precision_score(all_labels, all_preds, average='weighted')\n",
        "    rec = recall_score(all_labels, all_preds, average='weighted')\n",
        "    f1 = f1_score(all_labels, all_preds, average='weighted')\n",
        "    cm = confusion_matrix(all_labels, all_preds)\n",
        "    cr = classification_report(all_labels, all_preds)\n",
        "\n",
        "    return acc, prec, rec, f1, cm, cr\n",
        "\n",
        "# Evaluate ResNet on test set\n",
        "acc, prec, rec, f1, cm, cr = evaluate_model(resnet_model, test_loader, device)\n",
        "\n",
        "print(f\"Test Accuracy:  {acc:.4f}\")\n",
        "print(f\"Test Precision: {prec:.4f}\")\n",
        "print(f\"Test Recall:    {rec:.4f}\")\n",
        "print(f\"Test F1-Score: {f1:.4f}\")\n",
        "print(\"\\nClassification Report:\")\n",
        "print(cr)\n",
        "\n",
        "# Plot confusion matrix\n",
        "plt.figure(figsize=(5, 4))\n",
        "sns.heatmap(cm, annot=True, fmt='d', cmap='Blues')\n",
        "plt.title(\"Confusion Matrix\")\n",
        "plt.xlabel(\"Predicted\")\n",
        "plt.ylabel(\"True\")\n",
        "plt.show()\n"
      ],
      "metadata": {
        "trusted": true,
        "execution": {
          "iopub.status.busy": "2025-04-02T15:22:32.483242Z",
          "iopub.execute_input": "2025-04-02T15:22:32.48353Z",
          "iopub.status.idle": "2025-04-02T15:22:47.598708Z",
          "shell.execute_reply.started": "2025-04-02T15:22:32.483506Z",
          "shell.execute_reply": "2025-04-02T15:22:47.597859Z"
        },
        "id": "SkL_y3msyjS6"
      },
      "outputs": [],
      "execution_count": null
    },
    {
      "cell_type": "code",
      "source": [
        "import torch\n",
        "\n",
        "# Save model checkpoint\n",
        "torch.save(resnet_model.state_dict(), \"resnet_model_checkpoint.pth\")\n",
        "print(\"Model checkpoint saved as 'resnet_model_checkpoint.pth'.\")\n",
        "\n",
        "# Optionally, save training metrics\n",
        "import pickle\n",
        "\n",
        "metrics = {\n",
        "    \"train_losses\": train_losses,\n",
        "    \"val_losses\": val_losses,\n",
        "    \"train_accuracies\": train_accuracies,\n",
        "    \"val_accuracies\": val_accuracies\n",
        "}\n",
        "\n",
        "with open(\"resnet_metrics.pkl\", \"wb\") as f:\n",
        "    pickle.dump(metrics, f)\n",
        "\n",
        "print(\"Training metrics saved as 'resnet_metrics.pkl'.\")\n"
      ],
      "metadata": {
        "trusted": true,
        "execution": {
          "iopub.status.busy": "2025-04-02T15:22:47.599613Z",
          "iopub.execute_input": "2025-04-02T15:22:47.599892Z",
          "iopub.status.idle": "2025-04-02T15:22:47.865001Z",
          "shell.execute_reply.started": "2025-04-02T15:22:47.599859Z",
          "shell.execute_reply": "2025-04-02T15:22:47.864177Z"
        },
        "id": "okVnu-DkyjS6"
      },
      "outputs": [],
      "execution_count": null
    },
    {
      "cell_type": "code",
      "source": [
        "# Re-create the model architecture\n",
        "loaded_resnet = models.resnet50(pretrained=False)\n",
        "loaded_resnet.fc = nn.Linear(loaded_resnet.fc.in_features, 2)\n",
        "\n",
        "# Load the saved state dict\n",
        "loaded_resnet.load_state_dict(torch.load(\"resnet_model_checkpoint.pth\"))\n",
        "\n",
        "# Move to device and set to eval mode\n",
        "loaded_resnet = loaded_resnet.to(device)\n",
        "loaded_resnet.eval()\n",
        "\n",
        "print(\"Model loaded from 'resnet_model_checkpoint.pth' and set to eval mode.\")"
      ],
      "metadata": {
        "trusted": true,
        "execution": {
          "iopub.status.busy": "2025-04-02T15:22:47.865875Z",
          "iopub.execute_input": "2025-04-02T15:22:47.866142Z",
          "iopub.status.idle": "2025-04-02T15:22:48.391769Z",
          "shell.execute_reply.started": "2025-04-02T15:22:47.866119Z",
          "shell.execute_reply": "2025-04-02T15:22:48.390726Z"
        },
        "id": "vnKOSnkFyjS6"
      },
      "outputs": [],
      "execution_count": null
    },
    {
      "cell_type": "code",
      "source": [
        "# Load pre-trained DenseNet-121 and modify it for binary classification\n",
        "densenet_model = models.densenet121(pretrained=True)\n",
        "num_features = densenet_model.classifier.in_features\n",
        "densenet_model.classifier = nn.Linear(num_features, 2)\n",
        "densenet_model = densenet_model.to(device)\n",
        "print(\"DenseNet-121 loaded and modified for binary classification.\")\n",
        "\n",
        "# Create a new optimizer for DenseNet\n",
        "optimizer_dense = optim.AdamW(densenet_model.parameters(), lr=1e-4)\n",
        "\n",
        "# Define loss function if not already defined\n",
        "criterion = nn.CrossEntropyLoss()\n",
        "\n",
        "# Set hyperparameters for training\n",
        "num_epochs = 50\n",
        "patience = 3\n",
        "early_stop_threshold = 0.001\n",
        "\n",
        "best_val_loss = float('inf')\n",
        "epochs_no_improve = 0\n",
        "\n",
        "# Initialize lists to record training and validation metrics\n",
        "dense_train_losses, dense_train_accuracies = [], []\n",
        "dense_val_losses, dense_val_accuracies = [], []\n",
        "\n",
        "# Training loop for DenseNet\n",
        "for epoch in range(num_epochs):\n",
        "    train_loss, train_acc = train_epoch(densenet_model, train_loader, optimizer_dense, criterion, device)\n",
        "    val_loss, val_acc = validate_epoch(densenet_model, val_loader, criterion, device)\n",
        "\n",
        "    dense_train_losses.append(train_loss)\n",
        "    dense_train_accuracies.append(train_acc)\n",
        "    dense_val_losses.append(val_loss)\n",
        "    dense_val_accuracies.append(val_acc)\n",
        "\n",
        "    print(f\"DenseNet - Epoch {epoch+1}/{num_epochs}\")\n",
        "    print(f\"Train Loss: {train_loss:.4f} | Train Acc: {train_acc:.4f}\")\n",
        "    print(f\"Val Loss: {val_loss:.4f} | Val Acc: {val_acc:.4f}\")\n",
        "\n",
        "    # Early stopping checks\n",
        "    if val_loss < early_stop_threshold:\n",
        "        print(\"Validation loss is negligible; stopping training early.\")\n",
        "        break\n",
        "    if val_loss < best_val_loss:\n",
        "        best_val_loss = val_loss\n",
        "        epochs_no_improve = 0\n",
        "    else:\n",
        "        epochs_no_improve += 1\n",
        "        if epochs_no_improve >= patience:\n",
        "            print(f\"Validation loss did not improve for {patience} consecutive epochs; stopping training.\")\n",
        "            break\n"
      ],
      "metadata": {
        "trusted": true,
        "execution": {
          "iopub.status.busy": "2025-04-02T15:22:48.392655Z",
          "iopub.execute_input": "2025-04-02T15:22:48.392868Z",
          "iopub.status.idle": "2025-04-02T15:39:26.128004Z",
          "shell.execute_reply.started": "2025-04-02T15:22:48.392849Z",
          "shell.execute_reply": "2025-04-02T15:39:26.12677Z"
        },
        "id": "O-jfMfr2yjS6"
      },
      "outputs": [],
      "execution_count": null
    },
    {
      "cell_type": "code",
      "source": [
        "# Plot Training vs Validation Loss and Accuracy for DenseNet\n",
        "epochs_range = range(1, len(dense_train_losses) + 1)\n",
        "\n",
        "plt.figure(figsize=(12, 5))\n",
        "\n",
        "# Loss Plot\n",
        "plt.subplot(1, 2, 1)\n",
        "plt.plot(epochs_range, dense_train_losses, 'b-', label=\"Train Loss\")\n",
        "plt.plot(epochs_range, dense_val_losses, 'r-', label=\"Validation Loss\")\n",
        "plt.xlabel(\"Epoch\")\n",
        "plt.ylabel(\"Loss\")\n",
        "plt.title(\"DenseNet: Train vs Validation Loss\")\n",
        "plt.legend()\n",
        "\n",
        "# Accuracy Plot\n",
        "plt.subplot(1, 2, 2)\n",
        "plt.plot(epochs_range, dense_train_accuracies, 'b-', label=\"Train Accuracy\")\n",
        "plt.plot(epochs_range, dense_val_accuracies, 'r-', label=\"Validation Accuracy\")\n",
        "plt.xlabel(\"Epoch\")\n",
        "plt.ylabel(\"Accuracy\")\n",
        "plt.title(\"DenseNet: Train vs Validation Accuracy\")\n",
        "plt.legend()\n",
        "\n",
        "plt.tight_layout()\n",
        "plt.show()"
      ],
      "metadata": {
        "trusted": true,
        "execution": {
          "iopub.status.busy": "2025-04-02T15:39:26.129642Z",
          "iopub.execute_input": "2025-04-02T15:39:26.130087Z",
          "iopub.status.idle": "2025-04-02T15:39:26.625144Z",
          "shell.execute_reply.started": "2025-04-02T15:39:26.130039Z",
          "shell.execute_reply": "2025-04-02T15:39:26.624159Z"
        },
        "id": "f-xR42D4yjS7"
      },
      "outputs": [],
      "execution_count": null
    },
    {
      "cell_type": "code",
      "source": [
        "from sklearn.metrics import accuracy_score, precision_score, recall_score, f1_score, confusion_matrix, classification_report\n",
        "\n",
        "def evaluate_model(model, dataloader, device):\n",
        "    model.eval()\n",
        "    all_preds, all_labels = [], []\n",
        "    with torch.no_grad():\n",
        "        for images, labels in dataloader:\n",
        "            images, labels = images.to(device), labels.to(device)\n",
        "            with autocast(device_type='cuda'):\n",
        "                outputs = model(images)\n",
        "                # For models like ViT, extract logits if necessary\n",
        "                if hasattr(outputs, \"logits\"):\n",
        "                    outputs = outputs.logits\n",
        "            _, preds = torch.max(outputs, 1)\n",
        "            all_preds.extend(preds.cpu().numpy())\n",
        "            all_labels.extend(labels.cpu().numpy())\n",
        "    acc = accuracy_score(all_labels, all_preds)\n",
        "    prec = precision_score(all_labels, all_preds, average='weighted')\n",
        "    rec = recall_score(all_labels, all_preds, average='weighted')\n",
        "    f1 = f1_score(all_labels, all_preds, average='weighted')\n",
        "    cm = confusion_matrix(all_labels, all_preds)\n",
        "    cr = classification_report(all_labels, all_preds)\n",
        "    return acc, prec, rec, f1, cm, cr\n",
        "\n",
        "# Evaluate DenseNet on test set\n",
        "acc, prec, rec, f1, cm, cr = evaluate_model(densenet_model, test_loader, device)\n",
        "print(\"DenseNet Test Metrics:\")\n",
        "print(f\"Accuracy:  {acc:.4f}\")\n",
        "print(f\"Precision: {prec:.4f}\")\n",
        "print(f\"Recall:    {rec:.4f}\")\n",
        "print(f\"F1 Score:  {f1:.4f}\")\n",
        "print(\"\\nClassification Report:\")\n",
        "print(cr)\n",
        "\n",
        "# Plot confusion matrix\n",
        "plt.figure(figsize=(5, 4))\n",
        "sns.heatmap(cm, annot=True, fmt='d', cmap='Blues')\n",
        "plt.title(\"DenseNet Confusion Matrix\")\n",
        "plt.xlabel(\"Predicted Label\")\n",
        "plt.ylabel(\"True Label\")\n",
        "plt.show()"
      ],
      "metadata": {
        "trusted": true,
        "execution": {
          "iopub.status.busy": "2025-04-02T15:39:26.626064Z",
          "iopub.execute_input": "2025-04-02T15:39:26.626322Z",
          "iopub.status.idle": "2025-04-02T15:39:42.725828Z",
          "shell.execute_reply.started": "2025-04-02T15:39:26.626298Z",
          "shell.execute_reply": "2025-04-02T15:39:42.724866Z"
        },
        "id": "qNzYvg0oyjS7"
      },
      "outputs": [],
      "execution_count": null
    },
    {
      "cell_type": "code",
      "source": [
        "# Save the DenseNet model checkpoint\n",
        "torch.save(densenet_model.state_dict(), \"densenet_model_checkpoint.pth\")\n",
        "print(\"DenseNet model checkpoint saved as 'densenet_model_checkpoint.pth'.\")\n",
        "\n",
        "# Save DenseNet training metrics using pickle\n",
        "dense_metrics = {\n",
        "    \"train_losses\": dense_train_losses,\n",
        "    \"train_accuracies\": dense_train_accuracies,\n",
        "    \"val_losses\": dense_val_losses,\n",
        "    \"val_accuracies\": dense_val_accuracies,\n",
        "    \"test_metrics\": {\"accuracy\": acc, \"precision\": prec, \"recall\": rec, \"f1\": f1}\n",
        "}\n",
        "\n",
        "with open(\"densenet_metrics.pkl\", \"wb\") as f:\n",
        "    pickle.dump(dense_metrics, f)\n",
        "\n",
        "print(\"DenseNet training metrics saved as 'densenet_metrics.pkl'.\")"
      ],
      "metadata": {
        "trusted": true,
        "execution": {
          "iopub.status.busy": "2025-04-02T15:39:42.727049Z",
          "iopub.execute_input": "2025-04-02T15:39:42.727408Z",
          "iopub.status.idle": "2025-04-02T15:39:42.860663Z",
          "shell.execute_reply.started": "2025-04-02T15:39:42.727372Z",
          "shell.execute_reply": "2025-04-02T15:39:42.859895Z"
        },
        "id": "0mdUvYZ6yjS7"
      },
      "outputs": [],
      "execution_count": null
    },
    {
      "cell_type": "code",
      "source": [
        "# Re-create the DenseNet-121 architecture\n",
        "loaded_densenet = models.densenet121(pretrained=False)\n",
        "num_features = loaded_densenet.classifier.in_features\n",
        "loaded_densenet.classifier = nn.Linear(num_features, 2)\n",
        "\n",
        "# Load the saved state dictionary (ensure the path matches where you saved it)\n",
        "loaded_densenet.load_state_dict(torch.load(\"densenet_model_checkpoint.pth\", map_location=device))\n",
        "\n",
        "# Move the model to the device and set it to evaluation mode\n",
        "loaded_densenet = loaded_densenet.to(device)\n",
        "loaded_densenet.eval()\n",
        "\n",
        "print(\"DenseNet model loaded from checkpoint and set to eval mode.\")\n"
      ],
      "metadata": {
        "trusted": true,
        "execution": {
          "iopub.status.busy": "2025-04-02T15:39:42.861627Z",
          "iopub.execute_input": "2025-04-02T15:39:42.861942Z",
          "iopub.status.idle": "2025-04-02T15:39:43.180868Z",
          "shell.execute_reply.started": "2025-04-02T15:39:42.861912Z",
          "shell.execute_reply": "2025-04-02T15:39:43.180156Z"
        },
        "id": "HYWss4TEyjS7"
      },
      "outputs": [],
      "execution_count": null
    },
    {
      "cell_type": "code",
      "source": [
        "# Load EfficientNet-B0 using timm and modify for binary classification\n",
        "efficientnet_model = timm.create_model('efficientnet_b0', pretrained=True)\n",
        "num_features = efficientnet_model.get_classifier().in_features\n",
        "efficientnet_model.classifier = nn.Linear(num_features, 2)\n",
        "efficientnet_model = efficientnet_model.to(device)\n",
        "print(\"EfficientNet-B0 loaded and modified for binary classification.\")\n",
        "\n",
        "# Create a new optimizer for EfficientNet\n",
        "optimizer_eff = optim.AdamW(efficientnet_model.parameters(), lr=1e-4)\n",
        "\n",
        "# Define loss function (if not defined already)\n",
        "criterion = nn.CrossEntropyLoss()\n",
        "\n",
        "# Hyperparameters for training\n",
        "num_epochs = 50\n",
        "patience = 3\n",
        "early_stop_threshold = 0.001\n",
        "best_val_loss = float('inf')\n",
        "epochs_no_improve = 0\n",
        "\n",
        "# Lists to record training and validation metrics\n",
        "eff_train_losses, eff_train_accuracies = [], []\n",
        "eff_val_losses, eff_val_accuracies = [], []\n",
        "\n",
        "for epoch in range(num_epochs):\n",
        "    train_loss, train_acc = train_epoch(efficientnet_model, train_loader, optimizer_eff, criterion, device)\n",
        "    val_loss, val_acc = validate_epoch(efficientnet_model, val_loader, criterion, device)\n",
        "\n",
        "    eff_train_losses.append(train_loss)\n",
        "    eff_train_accuracies.append(train_acc)\n",
        "    eff_val_losses.append(val_loss)\n",
        "    eff_val_accuracies.append(val_acc)\n",
        "\n",
        "    print(f\"EfficientNet - Epoch {epoch+1}/{num_epochs}\")\n",
        "    print(f\"Train Loss: {train_loss:.4f} | Train Acc: {train_acc:.4f}\")\n",
        "    print(f\"Val Loss: {val_loss:.4f} | Val Acc: {val_acc:.4f}\")\n",
        "\n",
        "    if val_loss < early_stop_threshold:\n",
        "        print(\"Validation loss is negligible; stopping training early.\")\n",
        "        break\n",
        "    if val_loss < best_val_loss:\n",
        "        best_val_loss = val_loss\n",
        "        epochs_no_improve = 0\n",
        "    else:\n",
        "        epochs_no_improve += 1\n",
        "        if epochs_no_improve >= patience:\n",
        "            print(f\"Validation loss did not improve for {patience} consecutive epochs; stopping training.\")\n",
        "            break\n"
      ],
      "metadata": {
        "trusted": true,
        "execution": {
          "iopub.status.busy": "2025-04-02T15:39:43.181695Z",
          "iopub.execute_input": "2025-04-02T15:39:43.181907Z",
          "iopub.status.idle": "2025-04-02T15:48:42.057732Z",
          "shell.execute_reply.started": "2025-04-02T15:39:43.181889Z",
          "shell.execute_reply": "2025-04-02T15:48:42.056701Z"
        },
        "id": "fr5WNboLyjS7"
      },
      "outputs": [],
      "execution_count": null
    },
    {
      "cell_type": "code",
      "source": [
        "# Plotting training vs. validation loss and accuracy for EfficientNet\n",
        "epochs_range = range(1, len(eff_train_losses) + 1)\n",
        "\n",
        "plt.figure(figsize=(12, 5))\n",
        "\n",
        "# Loss Plot\n",
        "plt.subplot(1, 2, 1)\n",
        "plt.plot(epochs_range, eff_train_losses, 'b-', label=\"Train Loss\")\n",
        "plt.plot(epochs_range, eff_val_losses, 'r-', label=\"Val Loss\")\n",
        "plt.xlabel(\"Epoch\")\n",
        "plt.ylabel(\"Loss\")\n",
        "plt.title(\"EfficientNet: Train vs Validation Loss\")\n",
        "plt.legend()\n",
        "\n",
        "# Accuracy Plot\n",
        "plt.subplot(1, 2, 2)\n",
        "plt.plot(epochs_range, eff_train_accuracies, 'b-', label=\"Train Accuracy\")\n",
        "plt.plot(epochs_range, eff_val_accuracies, 'r-', label=\"Val Accuracy\")\n",
        "plt.xlabel(\"Epoch\")\n",
        "plt.ylabel(\"Accuracy\")\n",
        "plt.title(\"EfficientNet: Train vs Validation Accuracy\")\n",
        "plt.legend()\n",
        "\n",
        "plt.tight_layout()\n",
        "plt.show()\n"
      ],
      "metadata": {
        "trusted": true,
        "execution": {
          "iopub.status.busy": "2025-04-02T15:48:42.058786Z",
          "iopub.execute_input": "2025-04-02T15:48:42.059121Z",
          "iopub.status.idle": "2025-04-02T15:48:42.484455Z",
          "shell.execute_reply.started": "2025-04-02T15:48:42.059092Z",
          "shell.execute_reply": "2025-04-02T15:48:42.48364Z"
        },
        "id": "hhBUtkFOyjS7"
      },
      "outputs": [],
      "execution_count": null
    },
    {
      "cell_type": "code",
      "source": [
        "from sklearn.metrics import accuracy_score, precision_score, recall_score, f1_score, confusion_matrix, classification_report\n",
        "\n",
        "def evaluate_model(model, dataloader, device):\n",
        "    model.eval()\n",
        "    all_preds, all_labels = [], []\n",
        "    with torch.no_grad():\n",
        "        for images, labels in dataloader:\n",
        "            images, labels = images.to(device), labels.to(device)\n",
        "            with autocast(device_type='cuda'):\n",
        "                outputs = model(images)\n",
        "                if hasattr(outputs, \"logits\"):\n",
        "                    outputs = outputs.logits\n",
        "            _, preds = torch.max(outputs, 1)\n",
        "            all_preds.extend(preds.cpu().numpy())\n",
        "            all_labels.extend(labels.cpu().numpy())\n",
        "    acc = accuracy_score(all_labels, all_preds)\n",
        "    prec = precision_score(all_labels, all_preds, average='weighted')\n",
        "    rec = recall_score(all_labels, all_preds, average='weighted')\n",
        "    f1 = f1_score(all_labels, all_preds, average='weighted')\n",
        "    cm = confusion_matrix(all_labels, all_preds)\n",
        "    cr = classification_report(all_labels, all_preds)\n",
        "    return acc, prec, rec, f1, cm, cr\n",
        "\n",
        "# Evaluate EfficientNet on the test set\n",
        "eff_acc, eff_prec, eff_rec, eff_f1, eff_cm, eff_cr = evaluate_model(efficientnet_model, test_loader, device)\n",
        "\n",
        "print(\"EfficientNet Test Metrics:\")\n",
        "print(f\"Accuracy:  {eff_acc:.4f}\")\n",
        "print(f\"Precision: {eff_prec:.4f}\")\n",
        "print(f\"Recall:    {eff_rec:.4f}\")\n",
        "print(f\"F1 Score:  {eff_f1:.4f}\")\n",
        "print(\"\\nClassification Report:\")\n",
        "print(eff_cr)\n",
        "\n",
        "# Plot confusion matrix\n",
        "plt.figure(figsize=(5, 4))\n",
        "sns.heatmap(eff_cm, annot=True, fmt='d', cmap='Blues')\n",
        "plt.title(\"EfficientNet Confusion Matrix\")\n",
        "plt.xlabel(\"Predicted\")\n",
        "plt.ylabel(\"True\")\n",
        "plt.show()\n"
      ],
      "metadata": {
        "trusted": true,
        "execution": {
          "iopub.status.busy": "2025-04-02T15:48:42.485497Z",
          "iopub.execute_input": "2025-04-02T15:48:42.48582Z",
          "iopub.status.idle": "2025-04-02T15:48:57.823582Z",
          "shell.execute_reply.started": "2025-04-02T15:48:42.485788Z",
          "shell.execute_reply": "2025-04-02T15:48:57.822728Z"
        },
        "id": "OlkqiDszyjS7"
      },
      "outputs": [],
      "execution_count": null
    },
    {
      "cell_type": "code",
      "source": [
        "# Save the EfficientNet model checkpoint\n",
        "torch.save(efficientnet_model.state_dict(), \"efficientnet_model_checkpoint.pth\")\n",
        "print(\"EfficientNet model checkpoint saved as 'efficientnet_model_checkpoint.pth'.\")\n",
        "\n",
        "# Save the training metrics using pickle\n",
        "eff_metrics_dict = {\n",
        "    \"train_losses\": eff_train_losses,\n",
        "    \"train_accuracies\": eff_train_accuracies,\n",
        "    \"val_losses\": eff_val_losses,\n",
        "    \"val_accuracies\": eff_val_accuracies,\n",
        "    \"test_metrics\": {\"accuracy\": eff_acc, \"precision\": eff_prec, \"recall\": eff_rec, \"f1\": eff_f1}\n",
        "}\n",
        "\n",
        "with open(\"efficientnet_metrics.pkl\", \"wb\") as f:\n",
        "    pickle.dump(eff_metrics_dict, f)\n",
        "\n",
        "print(\"EfficientNet training metrics saved as 'efficientnet_metrics.pkl'.\")\n"
      ],
      "metadata": {
        "trusted": true,
        "execution": {
          "iopub.status.busy": "2025-04-02T15:48:57.824557Z",
          "iopub.execute_input": "2025-04-02T15:48:57.824789Z",
          "iopub.status.idle": "2025-04-02T15:48:57.901228Z",
          "shell.execute_reply.started": "2025-04-02T15:48:57.824769Z",
          "shell.execute_reply": "2025-04-02T15:48:57.900573Z"
        },
        "id": "JETvfyxlyjS7"
      },
      "outputs": [],
      "execution_count": null
    },
    {
      "cell_type": "code",
      "source": [
        "# Code to load the saved EfficientNet model checkpoint\n",
        "loaded_efficientnet = timm.create_model('efficientnet_b0', pretrained=False)\n",
        "num_features = loaded_efficientnet.get_classifier().in_features\n",
        "loaded_efficientnet.classifier = nn.Linear(num_features, 2)\n",
        "loaded_efficientnet.load_state_dict(torch.load(\"efficientnet_model_checkpoint.pth\", map_location=device))\n",
        "loaded_efficientnet = loaded_efficientnet.to(device)\n",
        "loaded_efficientnet.eval()\n",
        "print(\"EfficientNet model loaded from checkpoint and set to eval mode.\")\n"
      ],
      "metadata": {
        "trusted": true,
        "execution": {
          "iopub.status.busy": "2025-04-02T15:48:57.901869Z",
          "iopub.execute_input": "2025-04-02T15:48:57.902064Z",
          "iopub.status.idle": "2025-04-02T15:48:58.093518Z",
          "shell.execute_reply.started": "2025-04-02T15:48:57.902047Z",
          "shell.execute_reply": "2025-04-02T15:48:58.092569Z"
        },
        "id": "MSAjWLu_yjS7"
      },
      "outputs": [],
      "execution_count": null
    },
    {
      "cell_type": "code",
      "source": [
        "from transformers import ViTForImageClassification\n",
        "import torch.optim as optim\n",
        "import torch.nn as nn\n",
        "\n",
        "# Load pre-trained ViT and modify for binary classification\n",
        "vit_model = ViTForImageClassification.from_pretrained(\n",
        "    \"google/vit-base-patch16-224-in21k\",\n",
        "    num_labels=2\n",
        ")\n",
        "vit_model.to(device)\n",
        "print(\"ViT model loaded and modified for binary classification.\")\n",
        "\n",
        "# Create an optimizer for ViT (adjust learning rate as needed)\n",
        "optimizer_vit = optim.AdamW(vit_model.parameters(), lr=5e-5)\n",
        "\n",
        "# Define loss function if not defined already\n",
        "criterion = nn.CrossEntropyLoss()\n",
        "\n",
        "# Hyperparameters for training\n",
        "num_epochs = 50\n",
        "patience = 3\n",
        "early_stop_threshold = 0.001\n",
        "best_val_loss = float('inf')\n",
        "epochs_no_improve = 0\n",
        "\n",
        "# Lists to record training and validation metrics for ViT\n",
        "vit_train_losses, vit_train_accuracies = [], []\n",
        "vit_val_losses, vit_val_accuracies = [], []\n",
        "\n",
        "for epoch in range(num_epochs):\n",
        "    train_loss, train_acc = train_epoch(vit_model, train_loader, optimizer_vit, criterion, device)\n",
        "    val_loss, val_acc = validate_epoch(vit_model, val_loader, criterion, device)\n",
        "\n",
        "    vit_train_losses.append(train_loss)\n",
        "    vit_train_accuracies.append(train_acc)\n",
        "    vit_val_losses.append(val_loss)\n",
        "    vit_val_accuracies.append(val_acc)\n",
        "\n",
        "    print(f\"ViT - Epoch {epoch+1}/{num_epochs}\")\n",
        "    print(f\"Train Loss: {train_loss:.4f} | Train Acc: {train_acc:.4f}\")\n",
        "    print(f\"Val Loss: {val_loss:.4f} | Val Acc: {val_acc:.4f}\")\n",
        "\n",
        "    if val_loss < early_stop_threshold:\n",
        "        print(\"Validation loss is negligible; stopping training early.\")\n",
        "        break\n",
        "    if val_loss < best_val_loss:\n",
        "        best_val_loss = val_loss\n",
        "        epochs_no_improve = 0\n",
        "    else:\n",
        "        epochs_no_improve += 1\n",
        "        if epochs_no_improve >= patience:\n",
        "            print(f\"Validation loss did not improve for {patience} consecutive epochs; stopping training.\")\n",
        "            break\n"
      ],
      "metadata": {
        "trusted": true,
        "execution": {
          "iopub.status.busy": "2025-04-02T15:48:58.094581Z",
          "iopub.execute_input": "2025-04-02T15:48:58.094912Z",
          "iopub.status.idle": "2025-04-02T16:13:17.483089Z",
          "shell.execute_reply.started": "2025-04-02T15:48:58.094879Z",
          "shell.execute_reply": "2025-04-02T16:13:17.481975Z"
        },
        "id": "5Y1WJhfFyjS7"
      },
      "outputs": [],
      "execution_count": null
    },
    {
      "cell_type": "code",
      "source": [
        "# Plot training and validation loss and accuracy for ViT\n",
        "epochs_range = range(1, len(vit_train_losses) + 1)\n",
        "\n",
        "plt.figure(figsize=(12, 5))\n",
        "\n",
        "# Loss Plot\n",
        "plt.subplot(1, 2, 1)\n",
        "plt.plot(epochs_range, vit_train_losses, 'b-', label=\"Train Loss\")\n",
        "plt.plot(epochs_range, vit_val_losses, 'r-', label=\"Validation Loss\")\n",
        "plt.xlabel(\"Epoch\")\n",
        "plt.ylabel(\"Loss\")\n",
        "plt.title(\"ViT: Train vs Validation Loss\")\n",
        "plt.legend()\n",
        "\n",
        "# Accuracy Plot\n",
        "plt.subplot(1, 2, 2)\n",
        "plt.plot(epochs_range, vit_train_accuracies, 'b-', label=\"Train Accuracy\")\n",
        "plt.plot(epochs_range, vit_val_accuracies, 'r-', label=\"Validation Accuracy\")\n",
        "plt.xlabel(\"Epoch\")\n",
        "plt.ylabel(\"Accuracy\")\n",
        "plt.title(\"ViT: Train vs Validation Accuracy\")\n",
        "plt.legend()\n",
        "\n",
        "plt.tight_layout()\n",
        "plt.show()\n"
      ],
      "metadata": {
        "trusted": true,
        "execution": {
          "iopub.status.busy": "2025-04-02T16:13:17.48451Z",
          "iopub.execute_input": "2025-04-02T16:13:17.48489Z",
          "iopub.status.idle": "2025-04-02T16:13:17.928864Z",
          "shell.execute_reply.started": "2025-04-02T16:13:17.484853Z",
          "shell.execute_reply": "2025-04-02T16:13:17.927842Z"
        },
        "id": "Z3Ae4K3yyjS7"
      },
      "outputs": [],
      "execution_count": null
    },
    {
      "cell_type": "code",
      "source": [
        "from sklearn.metrics import accuracy_score, precision_score, recall_score, f1_score, confusion_matrix, classification_report\n",
        "\n",
        "def evaluate_model(model, dataloader, device):\n",
        "    model.eval()\n",
        "    all_preds, all_labels = [], []\n",
        "    with torch.no_grad():\n",
        "        for images, labels in dataloader:\n",
        "            images, labels = images.to(device), labels.to(device)\n",
        "            with autocast(device_type='cuda'):\n",
        "                outputs = model(images)\n",
        "                # Extract logits if available (ViT returns a structure with logits)\n",
        "                if hasattr(outputs, \"logits\"):\n",
        "                    outputs = outputs.logits\n",
        "            _, preds = torch.max(outputs, 1)\n",
        "            all_preds.extend(preds.cpu().numpy())\n",
        "            all_labels.extend(labels.cpu().numpy())\n",
        "    acc = accuracy_score(all_labels, all_preds)\n",
        "    prec = precision_score(all_labels, all_preds, average='weighted')\n",
        "    rec = recall_score(all_labels, all_preds, average='weighted')\n",
        "    f1 = f1_score(all_labels, all_preds, average='weighted')\n",
        "    cm = confusion_matrix(all_labels, all_preds)\n",
        "    cr = classification_report(all_labels, all_preds)\n",
        "    return acc, prec, rec, f1, cm, cr\n",
        "\n",
        "# Evaluate ViT on the test set\n",
        "vit_acc, vit_prec, vit_rec, vit_f1, vit_cm, vit_cr = evaluate_model(vit_model, test_loader, device)\n",
        "\n",
        "print(\"ViT Test Metrics:\")\n",
        "print(f\"Accuracy:  {vit_acc:.4f}\")\n",
        "print(f\"Precision: {vit_prec:.4f}\")\n",
        "print(f\"Recall:    {vit_rec:.4f}\")\n",
        "print(f\"F1 Score:  {vit_f1:.4f}\")\n",
        "print(\"\\nClassification Report:\")\n",
        "print(vit_cr)\n",
        "\n",
        "# Plot confusion matrix for ViT\n",
        "plt.figure(figsize=(5, 4))\n",
        "sns.heatmap(vit_cm, annot=True, fmt='d', cmap='Blues')\n",
        "plt.title(\"ViT Confusion Matrix\")\n",
        "plt.xlabel(\"Predicted Label\")\n",
        "plt.ylabel(\"True Label\")\n",
        "plt.show()\n"
      ],
      "metadata": {
        "trusted": true,
        "execution": {
          "iopub.status.busy": "2025-04-02T16:13:17.929618Z",
          "iopub.execute_input": "2025-04-02T16:13:17.929843Z",
          "iopub.status.idle": "2025-04-02T16:13:34.996231Z",
          "shell.execute_reply.started": "2025-04-02T16:13:17.929823Z",
          "shell.execute_reply": "2025-04-02T16:13:34.995389Z"
        },
        "id": "QlVyTlKqyjS7"
      },
      "outputs": [],
      "execution_count": null
    },
    {
      "cell_type": "code",
      "source": [
        "# Save the ViT model checkpoint\n",
        "torch.save(vit_model.state_dict(), \"vit_model_checkpoint.pth\")\n",
        "print(\"ViT model checkpoint saved as 'vit_model_checkpoint.pth'.\")\n",
        "\n",
        "# Save the training metrics using pickle\n",
        "vit_metrics = {\n",
        "    \"train_losses\": vit_train_losses,\n",
        "    \"train_accuracies\": vit_train_accuracies,\n",
        "    \"val_losses\": vit_val_losses,\n",
        "    \"val_accuracies\": vit_val_accuracies,\n",
        "    \"test_metrics\": {\"accuracy\": vit_acc, \"precision\": vit_prec, \"recall\": vit_rec, \"f1\": vit_f1}\n",
        "}\n",
        "\n",
        "with open(\"vit_metrics.pkl\", \"wb\") as f:\n",
        "    pickle.dump(vit_metrics, f)\n",
        "\n",
        "print(\"ViT training metrics saved as 'vit_metrics.pkl'.\")\n"
      ],
      "metadata": {
        "trusted": true,
        "execution": {
          "iopub.status.busy": "2025-04-02T16:13:34.997167Z",
          "iopub.execute_input": "2025-04-02T16:13:34.997506Z",
          "iopub.status.idle": "2025-04-02T16:13:35.780784Z",
          "shell.execute_reply.started": "2025-04-02T16:13:34.997481Z",
          "shell.execute_reply": "2025-04-02T16:13:35.779632Z"
        },
        "id": "8GAGTXd7yjS7"
      },
      "outputs": [],
      "execution_count": null
    },
    {
      "cell_type": "code",
      "source": [
        "from transformers import ViTForImageClassification\n",
        "\n",
        "# Re-create the ViT model architecture\n",
        "loaded_vit = ViTForImageClassification.from_pretrained(\n",
        "    \"google/vit-base-patch16-224-in21k\",\n",
        "    num_labels=2\n",
        ")\n",
        "loaded_vit.load_state_dict(torch.load(\"vit_model_checkpoint.pth\", map_location=device))\n",
        "loaded_vit = loaded_vit.to(device)\n",
        "loaded_vit.eval()\n",
        "\n",
        "print(\"ViT model loaded from checkpoint and set to eval mode.\")\n"
      ],
      "metadata": {
        "trusted": true,
        "execution": {
          "iopub.status.busy": "2025-04-02T16:13:35.791108Z",
          "iopub.execute_input": "2025-04-02T16:13:35.791465Z",
          "iopub.status.idle": "2025-04-02T16:13:36.809993Z",
          "shell.execute_reply.started": "2025-04-02T16:13:35.791431Z",
          "shell.execute_reply": "2025-04-02T16:13:36.809114Z"
        },
        "id": "2LMoIhkgyjS7"
      },
      "outputs": [],
      "execution_count": null
    },
    {
      "cell_type": "code",
      "source": [
        "import pandas as pd\n",
        "\n",
        "# Metrics for each model (Accuracy, Precision, Recall, F1)\n",
        "model_results = [\n",
        "    [\"ResNet-50\",        0.8040, 0.8115, 0.8040, 0.8066],\n",
        "    [\"DenseNet-121\",     0.7635, 0.7945, 0.7635, 0.7216],\n",
        "    [\"EfficientNet-B0\",  0.8066, 0.8022, 0.8066, 0.8029],\n",
        "    [\"Vision Transformer (ViT)\", 0.7776, 0.7727, 0.7776, 0.7742],\n",
        "]\n",
        "\n",
        "# Create a DataFrame\n",
        "df_results = pd.DataFrame(\n",
        "    model_results,\n",
        "    columns=[\"Model\", \"Accuracy\", \"Precision\", \"Recall\", \"F1-Score\"]\n",
        ")\n",
        "\n",
        "# Print the comparison table\n",
        "print(df_results)\n"
      ],
      "metadata": {
        "trusted": true,
        "execution": {
          "iopub.status.busy": "2025-04-02T16:13:36.81213Z",
          "iopub.execute_input": "2025-04-02T16:13:36.812354Z",
          "iopub.status.idle": "2025-04-02T16:13:36.828515Z",
          "shell.execute_reply.started": "2025-04-02T16:13:36.812335Z",
          "shell.execute_reply": "2025-04-02T16:13:36.827573Z"
        },
        "id": "dwe-GjHKyjS7"
      },
      "outputs": [],
      "execution_count": null
    },
    {
      "cell_type": "code",
      "source": [
        "def get_hard_predictions(model, dataloader):\n",
        "    \"\"\"\n",
        "    Returns a list of predicted classes (0 or 1) for all samples in the dataloader.\n",
        "    \"\"\"\n",
        "    model.eval()\n",
        "    predictions = []\n",
        "    with torch.no_grad():\n",
        "        for images, _ in dataloader:\n",
        "            images = images.to(device)\n",
        "            with autocast(device_type='cuda'):\n",
        "                outputs = model(images)\n",
        "                # If the model returns an object with logits (like ViT), extract it.\n",
        "                if hasattr(outputs, \"logits\"):\n",
        "                    outputs = outputs.logits\n",
        "            # Get the predicted class\n",
        "            _, preds = torch.max(outputs, 1)\n",
        "            predictions.extend(preds.cpu().numpy())\n",
        "    return predictions\n",
        "\n",
        "# Get hard predictions from each model (assuming your models are loaded and in eval mode)\n",
        "resnet_preds = get_hard_predictions(loaded_resnet, test_loader)\n",
        "dense_preds  = get_hard_predictions(loaded_densenet, test_loader)\n",
        "eff_preds    = get_hard_predictions(loaded_efficientnet, test_loader)\n",
        "vit_preds    = get_hard_predictions(loaded_vit, test_loader)\n"
      ],
      "metadata": {
        "trusted": true,
        "execution": {
          "iopub.status.busy": "2025-04-02T16:13:36.829322Z",
          "iopub.execute_input": "2025-04-02T16:13:36.829588Z",
          "iopub.status.idle": "2025-04-02T16:14:36.331354Z",
          "shell.execute_reply.started": "2025-04-02T16:13:36.829568Z",
          "shell.execute_reply": "2025-04-02T16:14:36.330081Z"
        },
        "id": "8m-aUJr9yjS8"
      },
      "outputs": [],
      "execution_count": null
    },
    {
      "cell_type": "code",
      "source": [
        "import numpy as np\n",
        "from sklearn.metrics import accuracy_score, precision_score, recall_score, f1_score, confusion_matrix, classification_report\n",
        "\n",
        "# Combine hard predictions using majority voting\n",
        "ensemble_hard_preds = []\n",
        "# Zip predictions from all models\n",
        "for r, d, e, v in zip(resnet_preds, dense_preds, eff_preds, vit_preds):\n",
        "    votes = [r, d, e, v]\n",
        "    # Majority vote: if tie, you can choose a default (here, we'll use max() over count)\n",
        "    ensemble_hard_preds.append(max(set(votes), key=votes.count))\n",
        "\n",
        "# Get true labels from the test set\n",
        "true_labels = []\n",
        "for _, labels in test_loader:\n",
        "    true_labels.extend(labels.cpu().numpy())\n",
        "\n",
        "# Evaluate ensemble with hard voting\n",
        "acc_hard = accuracy_score(true_labels, ensemble_hard_preds)\n",
        "prec_hard = precision_score(true_labels, ensemble_hard_preds, average='weighted')\n",
        "rec_hard = recall_score(true_labels, ensemble_hard_preds, average='weighted')\n",
        "f1_hard = f1_score(true_labels, ensemble_hard_preds, average='weighted')\n",
        "cm_hard = confusion_matrix(true_labels, ensemble_hard_preds)\n",
        "cr_hard = classification_report(true_labels, ensemble_hard_preds)\n",
        "\n",
        "print(\"Ensemble (Hard Voting) Test Metrics:\")\n",
        "print(f\"Accuracy:  {acc_hard:.4f}\")\n",
        "print(f\"Precision: {prec_hard:.4f}\")\n",
        "print(f\"Recall:    {rec_hard:.4f}\")\n",
        "print(f\"F1 Score:  {f1_hard:.4f}\")\n",
        "print(\"\\nClassification Report:\")\n",
        "print(cr_hard)\n",
        "\n",
        "# Plot confusion matrix for hard voting ensemble\n",
        "plt.figure(figsize=(5, 4))\n",
        "sns.heatmap(cm_hard, annot=True, fmt='d', cmap='Blues')\n",
        "plt.title(\"Ensemble (Hard Voting) Confusion Matrix\")\n",
        "plt.xlabel(\"Predicted Label\")\n",
        "plt.ylabel(\"True Label\")\n",
        "plt.show()\n"
      ],
      "metadata": {
        "trusted": true,
        "execution": {
          "iopub.status.busy": "2025-04-02T16:14:36.332565Z",
          "iopub.execute_input": "2025-04-02T16:14:36.332857Z",
          "iopub.status.idle": "2025-04-02T16:14:50.122304Z",
          "shell.execute_reply.started": "2025-04-02T16:14:36.332819Z",
          "shell.execute_reply": "2025-04-02T16:14:50.121483Z"
        },
        "id": "_OosR1ITyjS8"
      },
      "outputs": [],
      "execution_count": null
    },
    {
      "cell_type": "code",
      "source": [
        "def get_probabilities(model, dataloader):\n",
        "    \"\"\"\n",
        "    Returns a numpy array of probability distributions for each sample.\n",
        "    Each row corresponds to a sample and contains probabilities for each class.\n",
        "    \"\"\"\n",
        "    model.eval()\n",
        "    probabilities = []\n",
        "    softmax = nn.Softmax(dim=1)\n",
        "    with torch.no_grad():\n",
        "        for images, _ in dataloader:\n",
        "            images = images.to(device)\n",
        "            with autocast(device_type='cuda'):\n",
        "                outputs = model(images)\n",
        "                if hasattr(outputs, \"logits\"):\n",
        "                    outputs = outputs.logits\n",
        "            # Convert logits to probabilities\n",
        "            probs = softmax(outputs)\n",
        "            probabilities.extend(probs.cpu().numpy())\n",
        "    return np.array(probabilities)\n",
        "\n",
        "# Get probability outputs from each model\n",
        "resnet_probs = get_probabilities(loaded_resnet, test_loader)\n",
        "dense_probs  = get_probabilities(loaded_densenet, test_loader)\n",
        "eff_probs    = get_probabilities(loaded_efficientnet, test_loader)\n",
        "vit_probs    = get_probabilities(loaded_vit, test_loader)\n"
      ],
      "metadata": {
        "trusted": true,
        "execution": {
          "iopub.status.busy": "2025-04-02T16:14:50.123245Z",
          "iopub.execute_input": "2025-04-02T16:14:50.123579Z",
          "iopub.status.idle": "2025-04-02T16:15:49.916896Z",
          "shell.execute_reply.started": "2025-04-02T16:14:50.123552Z",
          "shell.execute_reply": "2025-04-02T16:15:49.915506Z"
        },
        "id": "vq50jVKoyjS8"
      },
      "outputs": [],
      "execution_count": null
    },
    {
      "cell_type": "code",
      "source": [
        "# Average the probability outputs from each model (soft voting)\n",
        "ensemble_probs = (resnet_probs + dense_probs + eff_probs + vit_probs) / 4.0\n",
        "ensemble_soft_preds = np.argmax(ensemble_probs, axis=1)\n",
        "\n",
        "# Evaluate ensemble with soft voting\n",
        "acc_soft = accuracy_score(true_labels, ensemble_soft_preds)\n",
        "prec_soft = precision_score(true_labels, ensemble_soft_preds, average='weighted')\n",
        "rec_soft = recall_score(true_labels, ensemble_soft_preds, average='weighted')\n",
        "f1_soft = f1_score(true_labels, ensemble_soft_preds, average='weighted')\n",
        "cm_soft = confusion_matrix(true_labels, ensemble_soft_preds)\n",
        "cr_soft = classification_report(true_labels, ensemble_soft_preds)\n",
        "\n",
        "print(\"Ensemble (Soft Voting) Test Metrics:\")\n",
        "print(f\"Accuracy:  {acc_soft:.4f}\")\n",
        "print(f\"Precision: {prec_soft:.4f}\")\n",
        "print(f\"Recall:    {rec_soft:.4f}\")\n",
        "print(f\"F1 Score:  {f1_soft:.4f}\")\n",
        "print(\"\\nClassification Report:\")\n",
        "print(cr_soft)\n",
        "\n",
        "# Plot confusion matrix for soft voting ensemble\n",
        "plt.figure(figsize=(5, 4))\n",
        "sns.heatmap(cm_soft, annot=True, fmt='d', cmap='Blues')\n",
        "plt.title(\"Ensemble (Soft Voting) Confusion Matrix\")\n",
        "plt.xlabel(\"Predicted Label\")\n",
        "plt.ylabel(\"True Label\")\n",
        "plt.show()\n"
      ],
      "metadata": {
        "trusted": true,
        "execution": {
          "iopub.status.busy": "2025-04-02T16:15:49.918863Z",
          "iopub.execute_input": "2025-04-02T16:15:49.919191Z",
          "iopub.status.idle": "2025-04-02T16:15:50.125284Z",
          "shell.execute_reply.started": "2025-04-02T16:15:49.919163Z",
          "shell.execute_reply": "2025-04-02T16:15:50.12462Z"
        },
        "id": "d4YXRemlyjS8"
      },
      "outputs": [],
      "execution_count": null
    },
    {
      "cell_type": "code",
      "source": [
        "ensemble_metrics = {\n",
        "    \"hard\": {\n",
        "        \"accuracy\": acc_hard,\n",
        "        \"precision\": prec_hard,\n",
        "        \"recall\": rec_hard,\n",
        "        \"f1\": f1_hard,\n",
        "        \"confusion_matrix\": cm_hard.tolist(),  # convert to list for saving as JSON if needed\n",
        "        \"classification_report\": cr_hard\n",
        "    },\n",
        "    \"soft\": {\n",
        "        \"accuracy\": acc_soft,\n",
        "        \"precision\": prec_soft,\n",
        "        \"recall\": rec_soft,\n",
        "        \"f1\": f1_soft,\n",
        "        \"confusion_matrix\": cm_soft.tolist(),\n",
        "        \"classification_report\": cr_soft\n",
        "    }\n",
        "}\n",
        "\n",
        "with open(\"ensemble_metrics.pkl\", \"wb\") as f:\n",
        "    pickle.dump(ensemble_metrics, f)\n",
        "\n",
        "print(\"Ensemble metrics saved as 'ensemble_metrics.pkl'.\")\n"
      ],
      "metadata": {
        "trusted": true,
        "execution": {
          "iopub.status.busy": "2025-04-02T16:15:50.12615Z",
          "iopub.execute_input": "2025-04-02T16:15:50.126508Z",
          "iopub.status.idle": "2025-04-02T16:15:50.132583Z",
          "shell.execute_reply.started": "2025-04-02T16:15:50.126475Z",
          "shell.execute_reply": "2025-04-02T16:15:50.131747Z"
        },
        "id": "JoDmcWG2yjS8"
      },
      "outputs": [],
      "execution_count": null
    },
    {
      "cell_type": "code",
      "source": [
        "import numpy as np\n",
        "import torch.nn as nn\n",
        "\n",
        "def get_probabilities(model, dataloader):\n",
        "    \"\"\"\n",
        "    Returns a numpy array of probability outputs for each sample in the dataloader.\n",
        "    Each row is a probability vector for each class.\n",
        "    \"\"\"\n",
        "    model.eval()\n",
        "    probabilities = []\n",
        "    softmax = nn.Softmax(dim=1)\n",
        "    with torch.no_grad():\n",
        "        for images, _ in dataloader:\n",
        "            images = images.to(device)\n",
        "            with autocast(device_type='cuda'):\n",
        "                outputs = model(images)\n",
        "                if hasattr(outputs, \"logits\"):\n",
        "                    outputs = outputs.logits\n",
        "            probs = softmax(outputs)\n",
        "            probabilities.extend(probs.cpu().numpy())\n",
        "    return np.array(probabilities)\n",
        "\n",
        "# Generate meta-features for validation set from each base model\n",
        "val_probs_resnet = get_probabilities(loaded_resnet, val_loader)\n",
        "val_probs_dense  = get_probabilities(loaded_densenet, val_loader)\n",
        "val_probs_eff    = get_probabilities(loaded_efficientnet, val_loader)\n",
        "val_probs_vit    = get_probabilities(loaded_vit, val_loader)\n",
        "\n",
        "# Stack the probabilities horizontally to form the meta-feature matrix\n",
        "# For binary classification, each model gives 2 columns; total columns = 4 * 2 = 8\n",
        "meta_features_val = np.hstack([val_probs_resnet, val_probs_dense, val_probs_eff, val_probs_vit])\n",
        "\n",
        "# Get the true labels from the validation set\n",
        "true_val_labels = []\n",
        "for _, labels in val_loader:\n",
        "    true_val_labels.extend(labels.cpu().numpy())\n",
        "true_val_labels = np.array(true_val_labels)\n",
        "\n",
        "print(\"Meta-features for validation set shape:\", meta_features_val.shape)\n"
      ],
      "metadata": {
        "trusted": true,
        "execution": {
          "iopub.status.busy": "2025-04-02T16:15:50.133541Z",
          "iopub.execute_input": "2025-04-02T16:15:50.13382Z",
          "iopub.status.idle": "2025-04-02T16:17:01.884344Z",
          "shell.execute_reply.started": "2025-04-02T16:15:50.133791Z",
          "shell.execute_reply": "2025-04-02T16:17:01.883335Z"
        },
        "id": "bpXIJRcZyjS8"
      },
      "outputs": [],
      "execution_count": null
    },
    {
      "cell_type": "code",
      "source": [
        "from sklearn.linear_model import LogisticRegression\n",
        "\n",
        "# Initialize the meta-model; you can adjust hyperparameters as needed\n",
        "meta_model = LogisticRegression(max_iter=1000)\n",
        "\n",
        "# Train the meta-model using the meta-features from the validation set and true labels\n",
        "meta_model.fit(meta_features_val, true_val_labels)\n",
        "print(\"Meta-model (Logistic Regression) trained on validation meta-features.\")\n"
      ],
      "metadata": {
        "trusted": true,
        "execution": {
          "iopub.status.busy": "2025-04-02T16:17:01.885609Z",
          "iopub.execute_input": "2025-04-02T16:17:01.885884Z",
          "iopub.status.idle": "2025-04-02T16:17:02.088229Z",
          "shell.execute_reply.started": "2025-04-02T16:17:01.885858Z",
          "shell.execute_reply": "2025-04-02T16:17:02.087377Z"
        },
        "id": "exYOTA3PyjS8"
      },
      "outputs": [],
      "execution_count": null
    },
    {
      "cell_type": "code",
      "source": [
        "# Generate meta-features for the test set using the same base models\n",
        "test_probs_resnet = get_probabilities(loaded_resnet, test_loader)\n",
        "test_probs_dense  = get_probabilities(loaded_densenet, test_loader)\n",
        "test_probs_eff    = get_probabilities(loaded_efficientnet, test_loader)\n",
        "test_probs_vit    = get_probabilities(loaded_vit, test_loader)\n",
        "\n",
        "meta_features_test = np.hstack([test_probs_resnet, test_probs_dense, test_probs_eff, test_probs_vit])\n",
        "\n",
        "# Use the trained meta-model to predict final class labels on the test set\n",
        "stacked_preds = meta_model.predict(meta_features_test)\n",
        "\n",
        "# Gather true test labels\n",
        "true_test_labels = []\n",
        "for _, labels in test_loader:\n",
        "    true_test_labels.extend(labels.cpu().numpy())\n",
        "true_test_labels = np.array(true_test_labels)\n",
        "\n",
        "# Evaluate the stacking ensemble\n",
        "from sklearn.metrics import accuracy_score, precision_score, recall_score, f1_score, confusion_matrix, classification_report\n",
        "\n",
        "acc_stack = accuracy_score(true_test_labels, stacked_preds)\n",
        "prec_stack = precision_score(true_test_labels, stacked_preds, average='weighted')\n",
        "rec_stack = recall_score(true_test_labels, stacked_preds, average='weighted')\n",
        "f1_stack = f1_score(true_test_labels, stacked_preds, average='weighted')\n",
        "cm_stack = confusion_matrix(true_test_labels, stacked_preds)\n",
        "cr_stack = classification_report(true_test_labels, stacked_preds)\n",
        "\n",
        "print(\"Stacking Ensemble (Meta-model) Test Metrics:\")\n",
        "print(f\"Accuracy:  {acc_stack:.4f}\")\n",
        "print(f\"Precision: {prec_stack:.4f}\")\n",
        "print(f\"Recall:    {rec_stack:.4f}\")\n",
        "print(f\"F1 Score:  {f1_stack:.4f}\")\n",
        "print(\"\\nClassification Report:\")\n",
        "print(cr_stack)\n",
        "\n",
        "# Plot the confusion matrix\n",
        "plt.figure(figsize=(5, 4))\n",
        "sns.heatmap(cm_stack, annot=True, fmt='d', cmap='Blues')\n",
        "plt.title(\"Stacking Ensemble Confusion Matrix\")\n",
        "plt.xlabel(\"Predicted Label\")\n",
        "plt.ylabel(\"True Label\")\n",
        "plt.show()\n"
      ],
      "metadata": {
        "trusted": true,
        "execution": {
          "iopub.status.busy": "2025-04-02T16:17:02.089155Z",
          "iopub.execute_input": "2025-04-02T16:17:02.089464Z",
          "iopub.status.idle": "2025-04-02T16:18:14.362391Z",
          "shell.execute_reply.started": "2025-04-02T16:17:02.089411Z",
          "shell.execute_reply": "2025-04-02T16:18:14.361548Z"
        },
        "id": "hVOvXwg0yjS8"
      },
      "outputs": [],
      "execution_count": null
    },
    {
      "cell_type": "code",
      "source": [
        "import pickle\n",
        "\n",
        "# Save the trained meta-model for future use\n",
        "with open(\"meta_model.pkl\", \"wb\") as f:\n",
        "    pickle.dump(meta_model, f)\n",
        "\n",
        "print(\"Meta-model saved as 'meta_model.pkl'.\")\n"
      ],
      "metadata": {
        "trusted": true,
        "execution": {
          "iopub.status.busy": "2025-04-02T16:18:14.363451Z",
          "iopub.execute_input": "2025-04-02T16:18:14.363771Z",
          "iopub.status.idle": "2025-04-02T16:18:14.369481Z",
          "shell.execute_reply.started": "2025-04-02T16:18:14.363743Z",
          "shell.execute_reply": "2025-04-02T16:18:14.368534Z"
        },
        "id": "hr_RjJKtyjS8"
      },
      "outputs": [],
      "execution_count": null
    },
    {
      "cell_type": "code",
      "source": [
        "from xgboost import XGBClassifier\n",
        "\n",
        "# Initialize XGBoost classifier as meta-model\n",
        "meta_xgb = XGBClassifier(use_label_encoder=False, eval_metric='logloss')\n",
        "\n",
        "# Train the XGBoost meta-model on validation meta-features\n",
        "meta_xgb.fit(meta_features_val, true_val_labels)\n",
        "print(\"XGBoost meta-model trained on validation meta-features.\")\n",
        "\n",
        "# Predict on test meta-features using XGBoost\n",
        "xgb_preds = meta_xgb.predict(meta_features_test)\n",
        "\n",
        "# Evaluate XGBoost meta-model\n",
        "acc_xgb = accuracy_score(true_test_labels, xgb_preds)\n",
        "prec_xgb = precision_score(true_test_labels, xgb_preds, average='weighted')\n",
        "rec_xgb = recall_score(true_test_labels, xgb_preds, average='weighted')\n",
        "f1_xgb = f1_score(true_test_labels, xgb_preds, average='weighted')\n",
        "cm_xgb = confusion_matrix(true_test_labels, xgb_preds)\n",
        "cr_xgb = classification_report(true_test_labels, xgb_preds)\n",
        "\n",
        "print(\"XGBoost Meta-Model Ensemble Test Metrics:\")\n",
        "print(f\"Accuracy:  {acc_xgb:.4f}\")\n",
        "print(f\"Precision: {prec_xgb:.4f}\")\n",
        "print(f\"Recall:    {rec_xgb:.4f}\")\n",
        "print(f\"F1 Score:  {f1_xgb:.4f}\")\n",
        "print(\"\\nClassification Report:\")\n",
        "print(cr_xgb)\n",
        "\n",
        "# Plot confusion matrix for XGBoost meta-model ensemble\n",
        "plt.figure(figsize=(5, 4))\n",
        "sns.heatmap(cm_xgb, annot=True, fmt='d', cmap='Blues')\n",
        "plt.title(\"XGBoost Meta-Model Ensemble Confusion Matrix\")\n",
        "plt.xlabel(\"Predicted Label\")\n",
        "plt.ylabel(\"True Label\")\n",
        "plt.show()\n"
      ],
      "metadata": {
        "trusted": true,
        "execution": {
          "iopub.status.busy": "2025-04-02T16:18:14.370346Z",
          "iopub.execute_input": "2025-04-02T16:18:14.370642Z",
          "iopub.status.idle": "2025-04-02T16:18:15.139649Z",
          "shell.execute_reply.started": "2025-04-02T16:18:14.370608Z",
          "shell.execute_reply": "2025-04-02T16:18:15.138754Z"
        },
        "id": "SifIVmNcyjS_"
      },
      "outputs": [],
      "execution_count": null
    },
    {
      "cell_type": "code",
      "source": [
        "import pickle\n",
        "\n",
        "# Save the XGBoost meta-model to a file\n",
        "with open(\"xgb_meta_model.pkl\", \"wb\") as f:\n",
        "    pickle.dump(meta_xgb, f)\n",
        "\n",
        "print(\"XGBoost meta-model saved as 'xgb_meta_model.pkl'.\")\n"
      ],
      "metadata": {
        "trusted": true,
        "execution": {
          "iopub.status.busy": "2025-04-02T16:18:15.140506Z",
          "iopub.execute_input": "2025-04-02T16:18:15.140756Z",
          "iopub.status.idle": "2025-04-02T16:18:15.148074Z",
          "shell.execute_reply.started": "2025-04-02T16:18:15.140734Z",
          "shell.execute_reply": "2025-04-02T16:18:15.147269Z"
        },
        "id": "-yWdIAgryjS_"
      },
      "outputs": [],
      "execution_count": null
    },
    {
      "cell_type": "code",
      "source": [
        "import pandas as pd\n",
        "\n",
        "# Define the metrics for each method\n",
        "ensemble_results = [\n",
        "    [\"ResNet-50\",                 0.8040, 0.8115, 0.8040, 0.8066],\n",
        "    [\"DenseNet-121\",              0.7635, 0.7945, 0.7635, 0.7216],\n",
        "    [\"EfficientNet-B0\",           0.8066, 0.8022, 0.8066, 0.8029],\n",
        "    [\"ViT\",                       0.7776, 0.7727, 0.7776, 0.7742],\n",
        "    [\"Ensemble (Hard Voting)\",    0.8310, 0.8305, 0.8310, 0.8307],\n",
        "    [\"Ensemble (Soft Voting)\",    0.8336, 0.8309, 0.8336, 0.8283],\n",
        "    [\"Stacking Ensemble (Meta-model)\", 0.8382, 0.8352, 0.8382, 0.8350],\n",
        "    [\"XGBoost Meta-model Ensemble\", 0.8308, 0.8275, 0.8308, 0.8269]\n",
        "]\n",
        "\n",
        "# Create a DataFrame with appropriate column names\n",
        "df_results = pd.DataFrame(\n",
        "    ensemble_results,\n",
        "    columns=[\"Model\", \"Accuracy\", \"Precision\", \"Recall\", \"F1-Score\"]\n",
        ")\n",
        "\n",
        "# Display the comparison table\n",
        "print(df_results)\n"
      ],
      "metadata": {
        "trusted": true,
        "execution": {
          "iopub.status.busy": "2025-04-02T16:18:15.149088Z",
          "iopub.execute_input": "2025-04-02T16:18:15.149406Z",
          "iopub.status.idle": "2025-04-02T16:18:15.167176Z",
          "shell.execute_reply.started": "2025-04-02T16:18:15.149377Z",
          "shell.execute_reply": "2025-04-02T16:18:15.166304Z"
        },
        "id": "50MV-PzcyjS_"
      },
      "outputs": [],
      "execution_count": null
    },
    {
      "cell_type": "code",
      "source": [
        "import torch\n",
        "import torch.nn as nn\n",
        "from torchvision import models\n",
        "\n",
        "# Set device: GPU if available, otherwise CPU\n",
        "device = torch.device(\"cuda\" if torch.cuda.is_available() else \"cpu\")\n",
        "\n",
        "# Re-create the ResNet-50 architecture and modify its final layer for binary classification\n",
        "resnet_model = models.resnet50(pretrained=False)  # pretrained is False; we will load our checkpoint\n",
        "resnet_model.fc = nn.Linear(resnet_model.fc.in_features, 2)  # binary classification (2 classes)\n",
        "resnet_model = resnet_model.to(device)\n",
        "\n",
        "# Load the saved checkpoint (ensure the file is in your working directory)\n",
        "checkpoint_path = \"resnet_model_checkpoint.pth\"\n",
        "resnet_model.load_state_dict(torch.load(checkpoint_path, map_location=device))\n",
        "\n",
        "# Set the model to evaluation mode (important for layers like batchnorm and dropout)\n",
        "resnet_model.eval()\n",
        "print(\"ResNet model loaded from checkpoint and set to eval mode.\")\n"
      ],
      "metadata": {
        "trusted": true,
        "execution": {
          "iopub.status.busy": "2025-04-06T07:38:27.639457Z",
          "iopub.execute_input": "2025-04-06T07:38:27.639814Z",
          "iopub.status.idle": "2025-04-06T07:38:28.141975Z",
          "shell.execute_reply.started": "2025-04-06T07:38:27.639786Z",
          "shell.execute_reply": "2025-04-06T07:38:28.141089Z"
        },
        "id": "8XyrFzsOyjS_"
      },
      "outputs": [],
      "execution_count": null
    },
    {
      "cell_type": "code",
      "source": [
        "def get_resnet_intermediate_features(model, dataloader):\n",
        "    \"\"\"\n",
        "    Extracts intermediate features from the penultimate layer of ResNet using a forward hook.\n",
        "    For ResNet-50, we hook into the 'avgpool' layer.\n",
        "\n",
        "    Returns:\n",
        "      A numpy array of shape (num_samples, feature_dim) where feature_dim is the number of features.\n",
        "    \"\"\"\n",
        "    model.eval()  # Ensure model is in evaluation mode\n",
        "    features = []\n",
        "    hook_outputs = []\n",
        "\n",
        "    # Define hook function to capture output of the target layer\n",
        "    def hook_fn(module, input, output):\n",
        "        hook_outputs.append(output.detach())\n",
        "\n",
        "    # Register hook on ResNet's average pooling layer\n",
        "    handle = model.avgpool.register_forward_hook(hook_fn)\n",
        "\n",
        "    # Loop over the dataloader and collect features\n",
        "    with torch.no_grad():\n",
        "        for images, _ in dataloader:\n",
        "            images = images.to(device)\n",
        "            _ = model(images)  # Forward pass triggers hook\n",
        "            # hook_outputs is a list of outputs for this batch; typically one tensor per batch\n",
        "            # For ResNet, avgpool outputs shape (batch, feature_dim, 1, 1); squeeze to get (batch, feature_dim)\n",
        "            batch_features = hook_outputs[0].squeeze()\n",
        "            # If batch_features becomes 1D when batch size is 1, unsqueeze it\n",
        "            if batch_features.dim() == 1:\n",
        "                batch_features = batch_features.unsqueeze(0)\n",
        "            features.append(batch_features.cpu())\n",
        "            hook_outputs.clear()  # Clear hook outputs for next iteration\n",
        "\n",
        "    # Remove the hook\n",
        "    handle.remove()\n",
        "    # Concatenate all batch features into one tensor and convert to numpy array\n",
        "    features_tensor = torch.cat(features, dim=0)\n",
        "    return features_tensor.numpy()\n",
        "\n",
        "# Example: Extract intermediate features for the validation set\n",
        "# (Assume you already have 'val_loader' defined from your dataset split)\n",
        "resnet_features_val = get_resnet_intermediate_features(resnet_model, val_loader)\n",
        "resnet_features_test = get_resnet_intermediate_features(resnet_model, test_loader)\n",
        "\n",
        "print(\"ResNet intermediate features for validation set shape:\", resnet_features_val.shape)\n"
      ],
      "metadata": {
        "trusted": true,
        "execution": {
          "iopub.status.busy": "2025-04-06T07:38:33.119138Z",
          "iopub.execute_input": "2025-04-06T07:38:33.11945Z",
          "iopub.status.idle": "2025-04-06T07:39:08.66278Z",
          "shell.execute_reply.started": "2025-04-06T07:38:33.119428Z",
          "shell.execute_reply": "2025-04-06T07:39:08.661777Z"
        },
        "id": "QWuWDkQgyjS_"
      },
      "outputs": [],
      "execution_count": null
    },
    {
      "cell_type": "code",
      "source": [
        "import numpy as np\n",
        "\n",
        "def reshape_features_to_meta_image(features, new_shape):\n",
        "    \"\"\"\n",
        "    Reshape a 2D numpy array 'features' of shape (num_samples, F) into\n",
        "    a 4D array of shape (num_samples, 1, H, W), where H*W = F.\n",
        "    For example, if F=2048, new_shape can be (4, 512).\n",
        "    \"\"\"\n",
        "    num_samples, F = features.shape\n",
        "    # Ensure the product of new_shape equals F\n",
        "    assert np.prod(new_shape) == F, \"Product of new_shape must equal the number of features.\"\n",
        "    # Reshape each feature vector\n",
        "    meta_images = features.reshape(num_samples, *new_shape)\n",
        "    # Add channel dimension (here, channel=1)\n",
        "    meta_images = np.expand_dims(meta_images, axis=1)\n",
        "    return meta_images\n",
        "\n",
        "# Reshape the features for validation and test sets\n",
        "resnet_meta_features_val = reshape_features_to_meta_image(resnet_features_val, (4, 512))\n",
        "resnet_meta_features_test = reshape_features_to_meta_image(resnet_features_test, (4, 512))\n",
        "\n",
        "print(\"Meta-images for validation set shape:\", meta_features_val.shape)\n",
        "print(\"Meta-images for test set shape:\", meta_features_test.shape)\n"
      ],
      "metadata": {
        "trusted": true,
        "execution": {
          "iopub.status.busy": "2025-04-06T07:39:14.02988Z",
          "iopub.execute_input": "2025-04-06T07:39:14.030197Z",
          "iopub.status.idle": "2025-04-06T07:39:14.036865Z",
          "shell.execute_reply.started": "2025-04-06T07:39:14.030171Z",
          "shell.execute_reply": "2025-04-06T07:39:14.035988Z"
        },
        "id": "FaYyLMUiyjS_"
      },
      "outputs": [],
      "execution_count": null
    },
    {
      "cell_type": "code",
      "source": [
        "import torch.nn as nn\n",
        "import torch.nn.functional as F\n",
        "\n",
        "class ResNetMetaCNN(nn.Module):\n",
        "    def __init__(self):\n",
        "        super(ResNetMetaCNN, self).__init__()\n",
        "        # Input shape: (batch, 1, 4, 512)\n",
        "        # We'll use a convolutional layer to capture local patterns over the 4 model rows and feature dimension.\n",
        "        # Here, kernel_size=(2,16) is an example—adjust as needed.\n",
        "        self.conv1 = nn.Conv2d(in_channels=1, out_channels=8, kernel_size=(2, 16), stride=1)\n",
        "        # After conv1, the output shape will be:\n",
        "        # Height: 4 - 2 + 1 = 3; Width: 512 - 16 + 1 = 497; with 8 channels → (batch, 8, 3, 497)\n",
        "        # Next, we use a max pooling layer to reduce the width (feature dimension)\n",
        "        self.pool = nn.MaxPool2d(kernel_size=(1, 4))  # Pool along the width only\n",
        "        # Calculate the flattened size after conv and pool:\n",
        "        # New width = floor(497 / 4). For instance, if floor(497/4)=124 then:\n",
        "        # Flattened size = 8 channels * 3 (height) * 124 (width) = 8 * 3 * 124\n",
        "        flattened_size = 8 * 3 * (497 // 4)\n",
        "        # Fully connected layer: maps the flattened feature to 2 output classes\n",
        "        self.fc = nn.Linear(flattened_size, 2)\n",
        "\n",
        "    def forward(self, x):\n",
        "        # x shape: (batch, 1, 4, 512)\n",
        "        x = self.conv1(x)       # → (batch, 8, 3, 497)\n",
        "        x = F.relu(x)\n",
        "        x = self.pool(x)        # → (batch, 8, 3, floor(497/4))\n",
        "        x = x.view(x.size(0), -1)  # Flatten to (batch, flattened_size)\n",
        "        x = self.fc(x)          # → (batch, 2)\n",
        "        return x\n",
        "\n",
        "# Initialize the CNN aggregator and move it to the device\n",
        "cnn_aggregator = ResNetMetaCNN().to(device)\n",
        "print(\"CNN aggregator for ResNet intermediate features initialized.\")\n"
      ],
      "metadata": {
        "trusted": true,
        "execution": {
          "iopub.status.busy": "2025-04-06T07:39:17.349026Z",
          "iopub.execute_input": "2025-04-06T07:39:17.349358Z",
          "iopub.status.idle": "2025-04-06T07:39:17.358108Z",
          "shell.execute_reply.started": "2025-04-06T07:39:17.349329Z",
          "shell.execute_reply": "2025-04-06T07:39:17.357293Z"
        },
        "id": "0fTJcpftyjS_"
      },
      "outputs": [],
      "execution_count": null
    },
    {
      "cell_type": "code",
      "source": [
        "import numpy as np\n",
        "\n",
        "# Extract true labels from the validation DataLoader\n",
        "true_val_labels = []\n",
        "for _, labels in val_loader:\n",
        "    true_val_labels.extend(labels.cpu().numpy())\n",
        "true_val_labels = np.array(true_val_labels)\n",
        "\n",
        "# Similarly, extract true labels from the test DataLoader\n",
        "true_test_labels = []\n",
        "for _, labels in test_loader:\n",
        "    true_test_labels.extend(labels.cpu().numpy())\n",
        "true_test_labels = np.array(true_test_labels)\n",
        "\n",
        "print(\"True validation labels shape:\", true_val_labels.shape)\n",
        "print(\"True test labels shape:\", true_test_labels.shape)\n"
      ],
      "metadata": {
        "trusted": true,
        "execution": {
          "iopub.status.busy": "2025-04-06T07:39:20.369508Z",
          "iopub.execute_input": "2025-04-06T07:39:20.36987Z",
          "iopub.status.idle": "2025-04-06T07:39:48.452866Z",
          "shell.execute_reply.started": "2025-04-06T07:39:20.369839Z",
          "shell.execute_reply": "2025-04-06T07:39:48.451945Z"
        },
        "id": "fzZtWX41yjS_"
      },
      "outputs": [],
      "execution_count": null
    },
    {
      "cell_type": "code",
      "source": [
        "import torch.utils.data as data_utils\n",
        "\n",
        "# Convert meta-features and labels to tensors\n",
        "val_meta_tensor = torch.tensor(resnet_meta_features_val, dtype=torch.float32)\n",
        "test_meta_tensor = torch.tensor(resnet_meta_features_test, dtype=torch.float32)\n",
        "\n",
        "# Assuming true_val_labels and true_test_labels are already available (from previous extraction)\n",
        "val_label_tensor = torch.tensor(true_val_labels, dtype=torch.long)\n",
        "test_label_tensor = torch.tensor(true_test_labels, dtype=torch.long)\n",
        "\n",
        "# Create TensorDatasets and DataLoaders\n",
        "val_meta_dataset = data_utils.TensorDataset(val_meta_tensor, val_label_tensor)\n",
        "test_meta_dataset = data_utils.TensorDataset(test_meta_tensor, test_label_tensor)\n",
        "\n",
        "val_meta_loader = data_utils.DataLoader(val_meta_dataset, batch_size=64, shuffle=True)\n",
        "test_meta_loader = data_utils.DataLoader(test_meta_dataset, batch_size=64, shuffle=False)\n",
        "\n",
        "print(\"Validation meta-data loaded with\", len(val_meta_dataset), \"samples.\")\n"
      ],
      "metadata": {
        "trusted": true,
        "execution": {
          "iopub.status.busy": "2025-04-06T07:40:18.169865Z",
          "iopub.execute_input": "2025-04-06T07:40:18.170166Z",
          "iopub.status.idle": "2025-04-06T07:40:18.222442Z",
          "shell.execute_reply.started": "2025-04-06T07:40:18.170145Z",
          "shell.execute_reply": "2025-04-06T07:40:18.221581Z"
        },
        "id": "9v2dkXhByjS_"
      },
      "outputs": [],
      "execution_count": null
    },
    {
      "cell_type": "code",
      "source": [
        "import torch.nn as nn\n",
        "import torch.nn.functional as F\n",
        "\n",
        "class ResNetMetaCNN(nn.Module):\n",
        "    def __init__(self):\n",
        "        super(ResNetMetaCNN, self).__init__()\n",
        "        # Input: (batch, 1, 4, 512)\n",
        "        # We'll apply a convolution to extract local patterns\n",
        "        # For example, use a kernel that spans 2 rows and 16 columns\n",
        "        self.conv1 = nn.Conv2d(in_channels=1, out_channels=8, kernel_size=(2, 16), stride=1)\n",
        "        # After conv1: output shape = (batch, 8, 4-2+1=3, 512-16+1=497)\n",
        "        self.pool = nn.MaxPool2d(kernel_size=(1, 4))  # Pool along the feature (width) dimension\n",
        "        # Calculate the flattened size after conv and pool:\n",
        "        # After pooling, width becomes floor(497/4). For example, if floor(497/4)=124, then output shape = (batch, 8, 3, 124)\n",
        "        flattened_size = 8 * 3 * (497 // 4)\n",
        "        self.fc = nn.Linear(flattened_size, 2)  # Final classification into 2 classes\n",
        "\n",
        "    def forward(self, x):\n",
        "        # x shape: (batch, 1, 4, 512)\n",
        "        x = self.conv1(x)       # -> (batch, 8, 3, 497)\n",
        "        x = F.relu(x)\n",
        "        x = self.pool(x)        # -> (batch, 8, 3, floor(497/4))\n",
        "        x = x.view(x.size(0), -1)  # Flatten the tensor\n",
        "        x = self.fc(x)\n",
        "        return x\n",
        "\n",
        "# Initialize the CNN aggregator and move it to the device\n",
        "cnn_aggregator = ResNetMetaCNN().to(device)\n",
        "print(\"CNN aggregator for ResNet intermediate features initialized.\")\n"
      ],
      "metadata": {
        "trusted": true,
        "execution": {
          "iopub.status.busy": "2025-04-06T07:41:23.044322Z",
          "iopub.execute_input": "2025-04-06T07:41:23.044613Z",
          "iopub.status.idle": "2025-04-06T07:41:23.052383Z",
          "shell.execute_reply.started": "2025-04-06T07:41:23.044592Z",
          "shell.execute_reply": "2025-04-06T07:41:23.051695Z"
        },
        "id": "VsN78R3zyjTA"
      },
      "outputs": [],
      "execution_count": null
    },
    {
      "cell_type": "code",
      "source": [
        "# Define loss function and optimizer for the CNN aggregator\n",
        "aggregator_criterion = nn.CrossEntropyLoss()\n",
        "aggregator_optimizer = torch.optim.Adam(cnn_aggregator.parameters(), lr=1e-3)\n",
        "num_agg_epochs = 10  # Adjust number of epochs as needed\n",
        "\n",
        "for epoch in range(num_agg_epochs):\n",
        "    cnn_aggregator.train()\n",
        "    epoch_loss = 0.0\n",
        "    correct = 0\n",
        "    total = 0\n",
        "\n",
        "    for meta_x, meta_y in val_meta_loader:\n",
        "        meta_x, meta_y = meta_x.to(device), meta_y.to(device)\n",
        "        aggregator_optimizer.zero_grad()\n",
        "        outputs = cnn_aggregator(meta_x)\n",
        "        loss = aggregator_criterion(outputs, meta_y)\n",
        "        loss.backward()\n",
        "        aggregator_optimizer.step()\n",
        "\n",
        "        epoch_loss += loss.item() * meta_x.size(0)\n",
        "        _, preds = torch.max(outputs, 1)\n",
        "        correct += (preds == meta_y).sum().item()\n",
        "        total += meta_y.size(0)\n",
        "\n",
        "    avg_loss = epoch_loss / total\n",
        "    accuracy = correct / total\n",
        "    print(f\"Epoch {epoch+1}/{num_agg_epochs}, Loss: {avg_loss:.4f}, Accuracy: {accuracy:.4f}\")\n"
      ],
      "metadata": {
        "trusted": true,
        "execution": {
          "iopub.status.busy": "2025-04-06T07:41:26.919223Z",
          "iopub.execute_input": "2025-04-06T07:41:26.91951Z",
          "iopub.status.idle": "2025-04-06T07:41:28.937324Z",
          "shell.execute_reply.started": "2025-04-06T07:41:26.919488Z",
          "shell.execute_reply": "2025-04-06T07:41:28.936617Z"
        },
        "id": "IMvF6_UmyjTA"
      },
      "outputs": [],
      "execution_count": null
    },
    {
      "cell_type": "code",
      "source": [
        "# Evaluate the trained CNN aggregator on the test meta-data\n",
        "cnn_aggregator.eval()\n",
        "all_preds = []\n",
        "\n",
        "with torch.no_grad():\n",
        "    for meta_x, _ in test_meta_loader:\n",
        "        meta_x = meta_x.to(device)\n",
        "        outputs = cnn_aggregator(meta_x)\n",
        "        _, preds = torch.max(outputs, 1)\n",
        "        all_preds.extend(preds.cpu().numpy())\n",
        "\n",
        "# Calculate evaluation metrics using scikit-learn\n",
        "from sklearn.metrics import accuracy_score, precision_score, recall_score, f1_score, confusion_matrix, classification_report\n",
        "\n",
        "acc_cnn = accuracy_score(true_test_labels, all_preds)\n",
        "prec_cnn = precision_score(true_test_labels, all_preds, average='weighted')\n",
        "rec_cnn = recall_score(true_test_labels, all_preds, average='weighted')\n",
        "f1_cnn = f1_score(true_test_labels, all_preds, average='weighted')\n",
        "cm_cnn = confusion_matrix(true_test_labels, all_preds)\n",
        "cr_cnn = classification_report(true_test_labels, all_preds)\n",
        "\n",
        "print(\"CNN Aggregator Test Metrics:\")\n",
        "print(f\"Accuracy:  {acc_cnn:.4f}\")\n",
        "print(f\"Precision: {prec_cnn:.4f}\")\n",
        "print(f\"Recall:    {rec_cnn:.4f}\")\n",
        "print(f\"F1 Score:  {f1_cnn:.4f}\")\n",
        "print(\"\\nClassification Report:\")\n",
        "print(cr_cnn)\n",
        "\n",
        "# Plot confusion matrix using seaborn\n",
        "import matplotlib.pyplot as plt\n",
        "import seaborn as sns\n",
        "\n",
        "plt.figure(figsize=(5, 4))\n",
        "sns.heatmap(cm_cnn, annot=True, fmt='d', cmap='Blues')\n",
        "plt.title(\"CNN Aggregator Confusion Matrix\")\n",
        "plt.xlabel(\"Predicted Label\")\n",
        "plt.ylabel(\"True Label\")\n",
        "plt.show()\n"
      ],
      "metadata": {
        "trusted": true,
        "execution": {
          "iopub.status.busy": "2025-04-06T07:41:31.259598Z",
          "iopub.execute_input": "2025-04-06T07:41:31.259907Z",
          "iopub.status.idle": "2025-04-06T07:41:31.554877Z",
          "shell.execute_reply.started": "2025-04-06T07:41:31.259885Z",
          "shell.execute_reply": "2025-04-06T07:41:31.554058Z"
        },
        "id": "Lx09HXfryjTA"
      },
      "outputs": [],
      "execution_count": null
    },
    {
      "cell_type": "code",
      "source": [
        "# Save the trained CNN aggregator's state dictionary\n",
        "torch.save(cnn_aggregator.state_dict(), \"resnet_meta_cnn_checkpoint.pth\")\n",
        "print(\"CNN aggregator model saved as 'resnet_meta_cnn_checkpoint.pth'.\")"
      ],
      "metadata": {
        "trusted": true,
        "execution": {
          "iopub.status.busy": "2025-04-06T07:41:42.890093Z",
          "iopub.execute_input": "2025-04-06T07:41:42.89038Z",
          "iopub.status.idle": "2025-04-06T07:41:42.896875Z",
          "shell.execute_reply.started": "2025-04-06T07:41:42.890359Z",
          "shell.execute_reply": "2025-04-06T07:41:42.896177Z"
        },
        "id": "X3_2EnQqyjTA"
      },
      "outputs": [],
      "execution_count": null
    },
    {
      "cell_type": "code",
      "source": [
        "import torch\n",
        "import torch.nn as nn\n",
        "from torchvision import models\n",
        "\n",
        "device = torch.device(\"cuda\" if torch.cuda.is_available() else \"cpu\")\n",
        "\n",
        "# Re-create DenseNet-121 architecture and modify classifier for binary classification\n",
        "densenet_model = models.densenet121(pretrained=False)\n",
        "densenet_model.classifier = nn.Linear(densenet_model.classifier.in_features, 2)\n",
        "densenet_model = densenet_model.to(device)\n",
        "\n",
        "# Load the saved DenseNet checkpoint\n",
        "densenet_checkpoint_path = \"densenet_model_checkpoint.pth\"\n",
        "densenet_model.load_state_dict(torch.load(densenet_checkpoint_path, map_location=device))\n",
        "densenet_model.eval()\n",
        "print(\"DenseNet model loaded from checkpoint and set to eval mode.\")\n"
      ],
      "metadata": {
        "trusted": true,
        "execution": {
          "iopub.status.busy": "2025-04-06T07:41:47.819245Z",
          "iopub.execute_input": "2025-04-06T07:41:47.819631Z",
          "iopub.status.idle": "2025-04-06T07:41:48.138271Z",
          "shell.execute_reply.started": "2025-04-06T07:41:47.819601Z",
          "shell.execute_reply": "2025-04-06T07:41:48.137393Z"
        },
        "id": "sOEZ2sIUyjTA"
      },
      "outputs": [],
      "execution_count": null
    },
    {
      "cell_type": "code",
      "source": [
        "def get_densenet_intermediate_features(model, dataloader):\n",
        "    \"\"\"\n",
        "    Extracts intermediate features from DenseNet by capturing the input to the classifier layer via a forward hook.\n",
        "    The classifier input is a flattened vector of shape (batch, 1024).\n",
        "\n",
        "    Returns:\n",
        "      A numpy array of shape (num_samples, feature_dim) where feature_dim is 1024.\n",
        "    \"\"\"\n",
        "    model.eval()\n",
        "    features = []\n",
        "    hook_outputs = []\n",
        "\n",
        "    # Define hook function to capture the classifier input\n",
        "    def hook_fn(module, input, output):\n",
        "        # input is a tuple; capture input[0]\n",
        "        hook_outputs.append(input[0].detach())\n",
        "\n",
        "    # Register the hook on the classifier layer\n",
        "    handle = model.classifier.register_forward_hook(hook_fn)\n",
        "\n",
        "    with torch.no_grad():\n",
        "        for images, _ in dataloader:\n",
        "            images = images.to(device)\n",
        "            _ = model(images)  # Forward pass triggers hook\n",
        "            batch_features = hook_outputs[0]\n",
        "            # In case of a singleton batch, ensure dimensions are correct\n",
        "            if batch_features.dim() == 1:\n",
        "                batch_features = batch_features.unsqueeze(0)\n",
        "            features.append(batch_features.cpu())\n",
        "            hook_outputs.clear()  # Clear for next iteration\n",
        "\n",
        "    handle.remove()\n",
        "    features_tensor = torch.cat(features, dim=0)\n",
        "    return features_tensor.numpy()\n",
        "\n",
        "# Example usage:\n",
        "densenet_features_val = get_densenet_intermediate_features(densenet_model, val_loader)\n",
        "densenet_features_test = get_densenet_intermediate_features(densenet_model, test_loader)\n",
        "print(\"DenseNet intermediate features for validation set shape:\", densenet_features_val.shape)\n"
      ],
      "metadata": {
        "trusted": true,
        "execution": {
          "iopub.status.busy": "2025-04-06T07:41:54.784528Z",
          "iopub.execute_input": "2025-04-06T07:41:54.784917Z",
          "iopub.status.idle": "2025-04-06T07:42:29.578569Z",
          "shell.execute_reply.started": "2025-04-06T07:41:54.784892Z",
          "shell.execute_reply": "2025-04-06T07:42:29.577583Z"
        },
        "id": "WlvPR1sryjTA"
      },
      "outputs": [],
      "execution_count": null
    },
    {
      "cell_type": "code",
      "source": [
        "import numpy as np\n",
        "\n",
        "def reshape_features_to_meta_image(features, new_shape):\n",
        "    \"\"\"\n",
        "    Reshape a 2D numpy array 'features' of shape (num_samples, F) into\n",
        "    a 4D array of shape (num_samples, 1, H, W), where H*W = F.\n",
        "    For DenseNet features, F is 1024. For example, new_shape can be (4, 256).\n",
        "    \"\"\"\n",
        "    num_samples, F = features.shape\n",
        "    assert np.prod(new_shape) == F, \"Product of new_shape must equal the number of features.\"\n",
        "    meta_images = features.reshape(num_samples, *new_shape)\n",
        "    meta_images = np.expand_dims(meta_images, axis=1)\n",
        "    return meta_images\n",
        "\n",
        "# Reshape the features with new_shape (4,256)\n",
        "densenet_meta_features_val = reshape_features_to_meta_image(densenet_features_val, (4,256))\n",
        "densenet_meta_features_test = reshape_features_to_meta_image(densenet_features_test, (4,256))\n",
        "\n",
        "print(\"Meta-images for validation set shape:\", meta_features_val.shape)\n",
        "print(\"Meta-images for test set shape:\", meta_features_test.shape)\n"
      ],
      "metadata": {
        "trusted": true,
        "execution": {
          "iopub.status.busy": "2025-04-06T07:42:35.409992Z",
          "iopub.execute_input": "2025-04-06T07:42:35.410325Z",
          "iopub.status.idle": "2025-04-06T07:42:35.417437Z",
          "shell.execute_reply.started": "2025-04-06T07:42:35.410298Z",
          "shell.execute_reply": "2025-04-06T07:42:35.416468Z"
        },
        "id": "TGe_JiS7yjTA"
      },
      "outputs": [],
      "execution_count": null
    },
    {
      "cell_type": "code",
      "source": [
        "import torch.nn as nn\n",
        "import torch.nn.functional as F\n",
        "\n",
        "class DenseNetMetaCNN(nn.Module):\n",
        "    def __init__(self):\n",
        "        super(DenseNetMetaCNN, self).__init__()\n",
        "        # Input shape: (batch, 1, 4, 256)\n",
        "        # Convolution: using kernel_size=(2,16) to capture local patterns\n",
        "        self.conv1 = nn.Conv2d(in_channels=1, out_channels=8, kernel_size=(2,16), stride=1)\n",
        "        # After conv1:\n",
        "        # Height: 4 - 2 + 1 = 3; Width: 256 - 16 + 1 = 241; with 8 channels → (batch, 8, 3, 241)\n",
        "        # MaxPool along width: kernel_size=(1,4) reduces width to floor(241/4) = 60.\n",
        "        self.pool = nn.MaxPool2d(kernel_size=(1,4))\n",
        "        flattened_size = 8 * 3 * (241 // 4)  # 8*3*60 = 1440\n",
        "        self.fc = nn.Linear(flattened_size, 2)\n",
        "\n",
        "    def forward(self, x):\n",
        "        # x shape: (batch, 1, 4, 256)\n",
        "        x = self.conv1(x)      # → (batch, 8, 3, 241)\n",
        "        x = F.relu(x)\n",
        "        x = self.pool(x)       # → (batch, 8, 3, 60)\n",
        "        x = x.view(x.size(0), -1)  # Flatten to (batch, flattened_size)\n",
        "        x = self.fc(x)         # → (batch, 2)\n",
        "        return x\n",
        "\n",
        "# Initialize the CNN aggregator and move it to the device\n",
        "cnn_aggregator = DenseNetMetaCNN().to(device)\n",
        "print(\"CNN aggregator for DenseNet intermediate features initialized.\")\n"
      ],
      "metadata": {
        "trusted": true,
        "execution": {
          "iopub.status.busy": "2025-04-06T07:42:40.839989Z",
          "iopub.execute_input": "2025-04-06T07:42:40.840289Z",
          "iopub.status.idle": "2025-04-06T07:42:40.849491Z",
          "shell.execute_reply.started": "2025-04-06T07:42:40.840267Z",
          "shell.execute_reply": "2025-04-06T07:42:40.848716Z"
        },
        "id": "vZaZFtVuyjTA"
      },
      "outputs": [],
      "execution_count": null
    },
    {
      "cell_type": "code",
      "source": [
        "import numpy as np\n",
        "\n",
        "true_val_labels = []\n",
        "for _, labels in val_loader:\n",
        "    true_val_labels.extend(labels.cpu().numpy())\n",
        "true_val_labels = np.array(true_val_labels)\n",
        "\n",
        "true_test_labels = []\n",
        "for _, labels in test_loader:\n",
        "    true_test_labels.extend(labels.cpu().numpy())\n",
        "true_test_labels = np.array(true_test_labels)\n",
        "\n",
        "print(\"True validation labels shape:\", true_val_labels.shape)\n",
        "print(\"True test labels shape:\", true_test_labels.shape)\n"
      ],
      "metadata": {
        "trusted": true,
        "execution": {
          "iopub.status.busy": "2025-04-06T07:42:46.94427Z",
          "iopub.execute_input": "2025-04-06T07:42:46.944561Z",
          "iopub.status.idle": "2025-04-06T07:43:14.647835Z",
          "shell.execute_reply.started": "2025-04-06T07:42:46.94454Z",
          "shell.execute_reply": "2025-04-06T07:43:14.646848Z"
        },
        "id": "UGJaQk4LyjTA"
      },
      "outputs": [],
      "execution_count": null
    },
    {
      "cell_type": "code",
      "source": [
        "import torch.utils.data as data_utils\n",
        "\n",
        "# Convert meta-features and labels to tensors\n",
        "val_meta_tensor = torch.tensor(densenet_meta_features_val, dtype=torch.float32)\n",
        "test_meta_tensor = torch.tensor(densenet_meta_features_test, dtype=torch.float32)\n",
        "val_label_tensor = torch.tensor(true_val_labels, dtype=torch.long)\n",
        "test_label_tensor = torch.tensor(true_test_labels, dtype=torch.long)\n",
        "\n",
        "# Create TensorDatasets and DataLoaders\n",
        "val_meta_dataset = data_utils.TensorDataset(val_meta_tensor, val_label_tensor)\n",
        "test_meta_dataset = data_utils.TensorDataset(test_meta_tensor, test_label_tensor)\n",
        "\n",
        "val_meta_loader = data_utils.DataLoader(val_meta_dataset, batch_size=64, shuffle=True)\n",
        "test_meta_loader = data_utils.DataLoader(test_meta_dataset, batch_size=64, shuffle=False)\n",
        "\n",
        "print(\"Validation meta-data loaded with\", len(val_meta_dataset), \"samples.\")\n"
      ],
      "metadata": {
        "trusted": true,
        "execution": {
          "iopub.status.busy": "2025-04-06T07:43:17.719635Z",
          "iopub.execute_input": "2025-04-06T07:43:17.719963Z",
          "iopub.status.idle": "2025-04-06T07:43:17.755882Z",
          "shell.execute_reply.started": "2025-04-06T07:43:17.719935Z",
          "shell.execute_reply": "2025-04-06T07:43:17.755078Z"
        },
        "id": "PNZHycVyyjTA"
      },
      "outputs": [],
      "execution_count": null
    },
    {
      "cell_type": "code",
      "source": [
        "import torch.nn as nn\n",
        "import torch.optim as optim\n",
        "\n",
        "aggregator_criterion = nn.CrossEntropyLoss()\n",
        "aggregator_optimizer = optim.Adam(cnn_aggregator.parameters(), lr=1e-3)\n",
        "num_agg_epochs = 10  # Adjust as needed\n",
        "\n",
        "for epoch in range(num_agg_epochs):\n",
        "    cnn_aggregator.train()\n",
        "    epoch_loss = 0.0\n",
        "    correct = 0\n",
        "    total = 0\n",
        "\n",
        "    for meta_x, meta_y in val_meta_loader:\n",
        "        meta_x, meta_y = meta_x.to(device), meta_y.to(device)\n",
        "        aggregator_optimizer.zero_grad()\n",
        "        outputs = cnn_aggregator(meta_x)\n",
        "        loss = aggregator_criterion(outputs, meta_y)\n",
        "        loss.backward()\n",
        "        aggregator_optimizer.step()\n",
        "\n",
        "        epoch_loss += loss.item() * meta_x.size(0)\n",
        "        _, preds = torch.max(outputs, 1)\n",
        "        correct += (preds == meta_y).sum().item()\n",
        "        total += meta_y.size(0)\n",
        "\n",
        "    avg_loss = epoch_loss / total\n",
        "    accuracy = correct / total\n",
        "    print(f\"Epoch {epoch+1}/{num_agg_epochs}, Loss: {avg_loss:.4f}, Accuracy: {accuracy:.4f}\")\n"
      ],
      "metadata": {
        "trusted": true,
        "execution": {
          "iopub.status.busy": "2025-04-06T07:43:22.479613Z",
          "iopub.execute_input": "2025-04-06T07:43:22.48002Z",
          "iopub.status.idle": "2025-04-06T07:43:24.396358Z",
          "shell.execute_reply.started": "2025-04-06T07:43:22.479992Z",
          "shell.execute_reply": "2025-04-06T07:43:24.39564Z"
        },
        "id": "3XUuy1kLyjTA"
      },
      "outputs": [],
      "execution_count": null
    },
    {
      "cell_type": "code",
      "source": [
        "cnn_aggregator.eval()\n",
        "all_preds = []\n",
        "\n",
        "with torch.no_grad():\n",
        "    for meta_x, _ in test_meta_loader:\n",
        "        meta_x = meta_x.to(device)\n",
        "        outputs = cnn_aggregator(meta_x)\n",
        "        _, preds = torch.max(outputs, 1)\n",
        "        all_preds.extend(preds.cpu().numpy())\n",
        "\n",
        "from sklearn.metrics import accuracy_score, precision_score, recall_score, f1_score, confusion_matrix, classification_report\n",
        "\n",
        "acc_cnn = accuracy_score(true_test_labels, all_preds)\n",
        "prec_cnn = precision_score(true_test_labels, all_preds, average='weighted')\n",
        "rec_cnn = recall_score(true_test_labels, all_preds, average='weighted')\n",
        "f1_cnn = f1_score(true_test_labels, all_preds, average='weighted')\n",
        "cm_cnn = confusion_matrix(true_test_labels, all_preds)\n",
        "cr_cnn = classification_report(true_test_labels, all_preds)\n",
        "\n",
        "print(\"DenseNet CNN Aggregator Test Metrics:\")\n",
        "print(f\"Accuracy:  {acc_cnn:.4f}\")\n",
        "print(f\"Precision: {prec_cnn:.4f}\")\n",
        "print(f\"Recall:    {rec_cnn:.4f}\")\n",
        "print(f\"F1 Score:  {f1_cnn:.4f}\")\n",
        "print(\"\\nClassification Report:\")\n",
        "print(cr_cnn)\n",
        "\n",
        "# Plot confusion matrix using seaborn\n",
        "import matplotlib.pyplot as plt\n",
        "import seaborn as sns\n",
        "\n",
        "plt.figure(figsize=(5,4))\n",
        "sns.heatmap(cm_cnn, annot=True, fmt='d', cmap='Blues')\n",
        "plt.title(\"DenseNet CNN Aggregator Confusion Matrix\")\n",
        "plt.xlabel(\"Predicted Label\")\n",
        "plt.ylabel(\"True Label\")\n",
        "plt.show()\n"
      ],
      "metadata": {
        "trusted": true,
        "execution": {
          "iopub.status.busy": "2025-04-06T07:43:26.994134Z",
          "iopub.execute_input": "2025-04-06T07:43:26.994419Z",
          "iopub.status.idle": "2025-04-06T07:43:27.284375Z",
          "shell.execute_reply.started": "2025-04-06T07:43:26.994398Z",
          "shell.execute_reply": "2025-04-06T07:43:27.283605Z"
        },
        "id": "WQukpk_ayjTA"
      },
      "outputs": [],
      "execution_count": null
    },
    {
      "cell_type": "code",
      "source": [
        "torch.save(cnn_aggregator.state_dict(), \"densenet_meta_cnn_checkpoint.pth\")\n",
        "print(\"DenseNet CNN aggregator model saved as 'densenet_meta_cnn_checkpoint.pth'.\")\n"
      ],
      "metadata": {
        "trusted": true,
        "execution": {
          "iopub.status.busy": "2025-04-06T07:43:31.31924Z",
          "iopub.execute_input": "2025-04-06T07:43:31.319526Z",
          "iopub.status.idle": "2025-04-06T07:43:31.325152Z",
          "shell.execute_reply.started": "2025-04-06T07:43:31.319506Z",
          "shell.execute_reply": "2025-04-06T07:43:31.32449Z"
        },
        "id": "g2XAHahHyjTA"
      },
      "outputs": [],
      "execution_count": null
    },
    {
      "cell_type": "code",
      "source": [
        "import torch\n",
        "import torch.nn as nn\n",
        "import timm\n",
        "import torch.optim as optim\n",
        "\n",
        "device = torch.device(\"cuda\" if torch.cuda.is_available() else \"cpu\")\n",
        "\n",
        "# Load EfficientNet-B0 using timm and modify for binary classification\n",
        "efficientnet_model = timm.create_model('efficientnet_b0', pretrained=True)\n",
        "num_features = efficientnet_model.get_classifier().in_features\n",
        "efficientnet_model.classifier = nn.Linear(num_features, 2)\n",
        "efficientnet_model = efficientnet_model.to(device)\n",
        "print(\"EfficientNet-B0 loaded and modified for binary classification.\")\n"
      ],
      "metadata": {
        "trusted": true,
        "execution": {
          "iopub.status.busy": "2025-04-06T07:43:33.959899Z",
          "iopub.execute_input": "2025-04-06T07:43:33.960216Z",
          "iopub.status.idle": "2025-04-06T07:43:34.240042Z",
          "shell.execute_reply.started": "2025-04-06T07:43:33.960193Z",
          "shell.execute_reply": "2025-04-06T07:43:34.239352Z"
        },
        "id": "q2Lof29pyjTA"
      },
      "outputs": [],
      "execution_count": null
    },
    {
      "cell_type": "code",
      "source": [
        "def get_efficientnet_intermediate_features(model, dataloader):\n",
        "    \"\"\"\n",
        "    Extracts intermediate features from EfficientNet by capturing the input to the classifier layer via a forward hook.\n",
        "    The classifier input is a flattened vector of shape (batch, 1280).\n",
        "\n",
        "    Returns:\n",
        "      A numpy array of shape (num_samples, feature_dim) where feature_dim is 1280.\n",
        "    \"\"\"\n",
        "    model.eval()\n",
        "    features = []\n",
        "    hook_outputs = []\n",
        "\n",
        "    # Define hook function to capture the input to the classifier\n",
        "    def hook_fn(module, input, output):\n",
        "        # input is a tuple; capture input[0]\n",
        "        hook_outputs.append(input[0].detach())\n",
        "\n",
        "    # Register the hook on the classifier layer\n",
        "    handle = model.classifier.register_forward_hook(hook_fn)\n",
        "\n",
        "    with torch.no_grad():\n",
        "        for images, _ in dataloader:\n",
        "            images = images.to(device)\n",
        "            _ = model(images)  # Forward pass triggers hook\n",
        "            batch_features = hook_outputs[0]\n",
        "            # Ensure batch_features has shape (batch, feature_dim)\n",
        "            if batch_features.dim() == 1:\n",
        "                batch_features = batch_features.unsqueeze(0)\n",
        "            features.append(batch_features.cpu())\n",
        "            hook_outputs.clear()  # Clear for next iteration\n",
        "\n",
        "    handle.remove()\n",
        "    features_tensor = torch.cat(features, dim=0)\n",
        "    return features_tensor.numpy()\n",
        "\n",
        "# Example usage:\n",
        "# (Assuming 'val_loader' and 'test_loader' are already defined)\n",
        "efficientnet_features_val = get_efficientnet_intermediate_features(efficientnet_model, val_loader)\n",
        "efficientnet_features_test = get_efficientnet_intermediate_features(efficientnet_model, test_loader)\n",
        "print(\"EfficientNet intermediate features for validation set shape:\", efficientnet_features_val.shape)\n"
      ],
      "metadata": {
        "trusted": true,
        "execution": {
          "iopub.status.busy": "2025-04-06T07:43:39.1544Z",
          "iopub.execute_input": "2025-04-06T07:43:39.154688Z",
          "iopub.status.idle": "2025-04-06T07:44:09.380651Z",
          "shell.execute_reply.started": "2025-04-06T07:43:39.154666Z",
          "shell.execute_reply": "2025-04-06T07:44:09.379593Z"
        },
        "id": "ufddNtqvyjTA"
      },
      "outputs": [],
      "execution_count": null
    },
    {
      "cell_type": "code",
      "source": [
        "import numpy as np\n",
        "\n",
        "def reshape_features_to_meta_image(features, new_shape):\n",
        "    \"\"\"\n",
        "    Reshape a 2D numpy array 'features' of shape (num_samples, F) into\n",
        "    a 4D array of shape (num_samples, 1, H, W), where H*W = F.\n",
        "    For EfficientNet features, F is 1280. For example, new_shape can be (4, 320).\n",
        "    \"\"\"\n",
        "    num_samples, F = features.shape\n",
        "    assert np.prod(new_shape) == F, \"Product of new_shape must equal the number of features.\"\n",
        "    meta_images = features.reshape(num_samples, *new_shape)\n",
        "    meta_images = np.expand_dims(meta_images, axis=1)\n",
        "    return meta_images\n",
        "\n",
        "# Reshape the features with new_shape (4,320)\n",
        "efficientnet_meta_features_val = reshape_features_to_meta_image(efficientnet_features_val, (4,320))\n",
        "efficientnet_meta_features_test = reshape_features_to_meta_image(efficientnet_features_test, (4,320))\n",
        "\n",
        "print(\"Meta-images for validation set shape:\", meta_features_val.shape)\n",
        "print(\"Meta-images for test set shape:\", meta_features_test.shape)\n"
      ],
      "metadata": {
        "trusted": true,
        "execution": {
          "iopub.status.busy": "2025-04-06T07:44:59.009401Z",
          "iopub.execute_input": "2025-04-06T07:44:59.00987Z",
          "iopub.status.idle": "2025-04-06T07:44:59.017233Z",
          "shell.execute_reply.started": "2025-04-06T07:44:59.009829Z",
          "shell.execute_reply": "2025-04-06T07:44:59.016354Z"
        },
        "id": "qoPXKZPCyjTA"
      },
      "outputs": [],
      "execution_count": null
    },
    {
      "cell_type": "code",
      "source": [
        "import torch.nn.functional as F\n",
        "\n",
        "class EfficientNetMetaCNN(nn.Module):\n",
        "    def __init__(self):\n",
        "        super(EfficientNetMetaCNN, self).__init__()\n",
        "        # Input shape: (batch, 1, 4, 320)\n",
        "        # Convolution: using kernel_size=(2,16) to capture local patterns\n",
        "        self.conv1 = nn.Conv2d(in_channels=1, out_channels=8, kernel_size=(2,16), stride=1)\n",
        "        # After conv1:\n",
        "        # Height: 4 - 2 + 1 = 3; Width: 320 - 16 + 1 = 305; with 8 channels → (batch, 8, 3, 305)\n",
        "        # Apply max pooling along width with kernel_size=(1,4): new width = floor(305/4) = 76.\n",
        "        self.pool = nn.MaxPool2d(kernel_size=(1,4))\n",
        "        flattened_size = 8 * 3 * (305 // 4)  # 8 * 3 * 76 = 1824\n",
        "        self.fc = nn.Linear(flattened_size, 2)\n",
        "\n",
        "    def forward(self, x):\n",
        "        # x shape: (batch, 1, 4, 320)\n",
        "        x = self.conv1(x)      # → (batch, 8, 3, 305)\n",
        "        x = F.relu(x)\n",
        "        x = self.pool(x)       # → (batch, 8, 3, 76)\n",
        "        x = x.view(x.size(0), -1)  # Flatten the tensor\n",
        "        x = self.fc(x)         # → (batch, 2)\n",
        "        return x\n",
        "\n",
        "# Initialize the CNN aggregator and move it to the device\n",
        "cnn_aggregator = EfficientNetMetaCNN().to(device)\n",
        "print(\"CNN aggregator for EfficientNet intermediate features initialized.\")\n"
      ],
      "metadata": {
        "trusted": true,
        "execution": {
          "iopub.status.busy": "2025-04-06T07:47:24.629314Z",
          "iopub.execute_input": "2025-04-06T07:47:24.629643Z",
          "iopub.status.idle": "2025-04-06T07:47:24.638777Z",
          "shell.execute_reply.started": "2025-04-06T07:47:24.629616Z",
          "shell.execute_reply": "2025-04-06T07:47:24.638067Z"
        },
        "id": "QrB3OjtXyjTB"
      },
      "outputs": [],
      "execution_count": null
    },
    {
      "cell_type": "code",
      "source": [
        "import numpy as np\n",
        "\n",
        "true_val_labels = []\n",
        "for _, labels in val_loader:\n",
        "    true_val_labels.extend(labels.cpu().numpy())\n",
        "true_val_labels = np.array(true_val_labels)\n",
        "\n",
        "true_test_labels = []\n",
        "for _, labels in test_loader:\n",
        "    true_test_labels.extend(labels.cpu().numpy())\n",
        "true_test_labels = np.array(true_test_labels)\n",
        "\n",
        "print(\"True validation labels shape:\", true_val_labels.shape)\n",
        "print(\"True test labels shape:\", true_test_labels.shape)\n"
      ],
      "metadata": {
        "trusted": true,
        "execution": {
          "iopub.status.busy": "2025-04-06T07:45:06.958993Z",
          "iopub.execute_input": "2025-04-06T07:45:06.959306Z",
          "iopub.status.idle": "2025-04-06T07:45:34.844343Z",
          "shell.execute_reply.started": "2025-04-06T07:45:06.959285Z",
          "shell.execute_reply": "2025-04-06T07:45:34.843454Z"
        },
        "id": "U-7WAlSbyjTB"
      },
      "outputs": [],
      "execution_count": null
    },
    {
      "cell_type": "code",
      "source": [
        "import torch.utils.data as data_utils\n",
        "\n",
        "# Convert meta-features and labels to tensors\n",
        "val_meta_tensor = torch.tensor(efficientnet_meta_features_val, dtype=torch.float32)\n",
        "test_meta_tensor = torch.tensor(efficientnet_meta_features_test, dtype=torch.float32)\n",
        "val_label_tensor = torch.tensor(true_val_labels, dtype=torch.long)\n",
        "test_label_tensor = torch.tensor(true_test_labels, dtype=torch.long)\n",
        "\n",
        "# Create TensorDatasets and DataLoaders\n",
        "val_meta_dataset = data_utils.TensorDataset(val_meta_tensor, val_label_tensor)\n",
        "test_meta_dataset = data_utils.TensorDataset(test_meta_tensor, test_label_tensor)\n",
        "\n",
        "val_meta_loader = data_utils.DataLoader(val_meta_dataset, batch_size=64, shuffle=True)\n",
        "test_meta_loader = data_utils.DataLoader(test_meta_dataset, batch_size=64, shuffle=False)\n",
        "\n",
        "print(\"Validation meta-data loaded with\", len(val_meta_dataset), \"samples.\")\n"
      ],
      "metadata": {
        "trusted": true,
        "execution": {
          "iopub.status.busy": "2025-04-06T07:46:10.099352Z",
          "iopub.execute_input": "2025-04-06T07:46:10.099652Z",
          "iopub.status.idle": "2025-04-06T07:46:10.130487Z",
          "shell.execute_reply.started": "2025-04-06T07:46:10.099626Z",
          "shell.execute_reply": "2025-04-06T07:46:10.129415Z"
        },
        "id": "BjkE2qgGyjTB"
      },
      "outputs": [],
      "execution_count": null
    },
    {
      "cell_type": "code",
      "source": [
        "import torch.nn as nn\n",
        "import torch.optim as optim\n",
        "\n",
        "aggregator_criterion = nn.CrossEntropyLoss()\n",
        "aggregator_optimizer = optim.Adam(cnn_aggregator.parameters(), lr=1e-3)\n",
        "num_agg_epochs = 20  # Adjust as needed\n",
        "\n",
        "for epoch in range(num_agg_epochs):\n",
        "    cnn_aggregator.train()\n",
        "    epoch_loss = 0.0\n",
        "    correct = 0\n",
        "    total = 0\n",
        "\n",
        "    for meta_x, meta_y in val_meta_loader:\n",
        "        meta_x, meta_y = meta_x.to(device), meta_y.to(device)\n",
        "        aggregator_optimizer.zero_grad()\n",
        "        outputs = cnn_aggregator(meta_x)\n",
        "        loss = aggregator_criterion(outputs, meta_y)\n",
        "        loss.backward()\n",
        "        aggregator_optimizer.step()\n",
        "\n",
        "        epoch_loss += loss.item() * meta_x.size(0)\n",
        "        _, preds = torch.max(outputs, 1)\n",
        "        correct += (preds == meta_y).sum().item()\n",
        "        total += meta_y.size(0)\n",
        "\n",
        "    avg_loss = epoch_loss / total\n",
        "    accuracy = correct / total\n",
        "    print(f\"Epoch {epoch+1}/{num_agg_epochs}, Loss: {avg_loss:.4f}, Accuracy: {accuracy:.4f}\")\n"
      ],
      "metadata": {
        "trusted": true,
        "execution": {
          "iopub.status.busy": "2025-04-06T07:47:30.439316Z",
          "iopub.execute_input": "2025-04-06T07:47:30.4396Z",
          "iopub.status.idle": "2025-04-06T07:47:34.284165Z",
          "shell.execute_reply.started": "2025-04-06T07:47:30.439578Z",
          "shell.execute_reply": "2025-04-06T07:47:34.283299Z"
        },
        "id": "4HNAjgFoyjTB"
      },
      "outputs": [],
      "execution_count": null
    },
    {
      "cell_type": "code",
      "source": [
        "cnn_aggregator.eval()\n",
        "all_preds = []\n",
        "\n",
        "with torch.no_grad():\n",
        "    for meta_x, _ in test_meta_loader:\n",
        "        meta_x = meta_x.to(device)\n",
        "        outputs = cnn_aggregator(meta_x)\n",
        "        _, preds = torch.max(outputs, 1)\n",
        "        all_preds.extend(preds.cpu().numpy())\n",
        "\n",
        "from sklearn.metrics import accuracy_score, precision_score, recall_score, f1_score, confusion_matrix, classification_report\n",
        "\n",
        "acc_cnn = accuracy_score(true_test_labels, all_preds)\n",
        "prec_cnn = precision_score(true_test_labels, all_preds, average='weighted')\n",
        "rec_cnn = recall_score(true_test_labels, all_preds, average='weighted')\n",
        "f1_cnn = f1_score(true_test_labels, all_preds, average='weighted')\n",
        "cm_cnn = confusion_matrix(true_test_labels, all_preds)\n",
        "cr_cnn = classification_report(true_test_labels, all_preds)\n",
        "\n",
        "print(\"EfficientNet CNN Aggregator Test Metrics:\")\n",
        "print(f\"Accuracy:  {acc_cnn:.4f}\")\n",
        "print(f\"Precision: {prec_cnn:.4f}\")\n",
        "print(f\"Recall:    {rec_cnn:.4f}\")\n",
        "print(f\"F1 Score:  {f1_cnn:.4f}\")\n",
        "print(\"\\nClassification Report:\")\n",
        "print(cr_cnn)\n",
        "\n",
        "# Plot confusion matrix using seaborn\n",
        "import matplotlib.pyplot as plt\n",
        "import seaborn as sns\n",
        "\n",
        "plt.figure(figsize=(5,4))\n",
        "sns.heatmap(cm_cnn, annot=True, fmt='d', cmap='Blues')\n",
        "plt.title(\"EfficientNet CNN Aggregator Confusion Matrix\")\n",
        "plt.xlabel(\"Predicted Label\")\n",
        "plt.ylabel(\"True Label\")\n",
        "plt.show()\n"
      ],
      "metadata": {
        "trusted": true,
        "execution": {
          "iopub.status.busy": "2025-04-06T07:47:38.319439Z",
          "iopub.execute_input": "2025-04-06T07:47:38.31973Z",
          "iopub.status.idle": "2025-04-06T07:47:38.596937Z",
          "shell.execute_reply.started": "2025-04-06T07:47:38.319708Z",
          "shell.execute_reply": "2025-04-06T07:47:38.596179Z"
        },
        "id": "ankFneeVyjTB"
      },
      "outputs": [],
      "execution_count": null
    },
    {
      "cell_type": "code",
      "source": [
        "torch.save(cnn_aggregator.state_dict(), \"efficientnet_meta_cnn_checkpoint.pth\")\n",
        "print(\"EfficientNet CNN aggregator model saved as 'efficientnet_meta_cnn_checkpoint.pth'.\")\n"
      ],
      "metadata": {
        "trusted": true,
        "execution": {
          "iopub.status.busy": "2025-04-06T07:47:45.405661Z",
          "iopub.execute_input": "2025-04-06T07:47:45.40602Z",
          "iopub.status.idle": "2025-04-06T07:47:45.412405Z",
          "shell.execute_reply.started": "2025-04-06T07:47:45.405995Z",
          "shell.execute_reply": "2025-04-06T07:47:45.411541Z"
        },
        "id": "a-k_7FlIyjTB"
      },
      "outputs": [],
      "execution_count": null
    },
    {
      "cell_type": "code",
      "source": [
        "from transformers import ViTForImageClassification\n",
        "import torch\n",
        "import torch.nn as nn\n",
        "import torch.optim as optim\n",
        "\n",
        "device = torch.device(\"cuda\" if torch.cuda.is_available() else \"cpu\")\n",
        "\n",
        "# Load pre-trained ViT and modify for binary classification\n",
        "vit_model = ViTForImageClassification.from_pretrained(\n",
        "    \"google/vit-base-patch16-224-in21k\",\n",
        "    num_labels=2\n",
        ")\n",
        "vit_checkpoint_path = \"vit_model_checkpoint.pth\"\n",
        "vit_model.load_state_dict(torch.load(vit_checkpoint_path, map_location=device))\n",
        "vit_model = vit_model.to(device)\n",
        "vit_model.eval()\n",
        "print(\"ViT model loaded from checkpoint and set to eval mode.\")\n"
      ],
      "metadata": {
        "trusted": true,
        "execution": {
          "iopub.status.busy": "2025-04-06T07:47:53.999947Z",
          "iopub.execute_input": "2025-04-06T07:47:54.000277Z",
          "iopub.status.idle": "2025-04-06T07:47:55.45562Z",
          "shell.execute_reply.started": "2025-04-06T07:47:54.00025Z",
          "shell.execute_reply": "2025-04-06T07:47:55.454854Z"
        },
        "id": "zqROGIXJyjTB"
      },
      "outputs": [],
      "execution_count": null
    },
    {
      "cell_type": "code",
      "source": [
        "def get_vit_intermediate_features(model, dataloader):\n",
        "    \"\"\"\n",
        "    Extracts intermediate features from ViT by capturing the input to the classifier layer via a forward hook.\n",
        "    The classifier's input is a flattened vector of shape (batch, 768).\n",
        "\n",
        "    Returns:\n",
        "      A numpy array of shape (num_samples, feature_dim) where feature_dim is 768.\n",
        "    \"\"\"\n",
        "    model.eval()\n",
        "    features = []\n",
        "    hook_outputs = []\n",
        "\n",
        "    # Define hook function to capture input to the classifier\n",
        "    def hook_fn(module, input, output):\n",
        "        hook_outputs.append(input[0].detach())\n",
        "\n",
        "    # Register the hook on the classifier layer\n",
        "    handle = model.classifier.register_forward_hook(hook_fn)\n",
        "\n",
        "    with torch.no_grad():\n",
        "        for images, _ in dataloader:\n",
        "            images = images.to(device)\n",
        "            _ = model(images)  # Forward pass triggers hook\n",
        "            batch_features = hook_outputs[0]\n",
        "            # Ensure correct shape if batch size is 1\n",
        "            if batch_features.dim() == 1:\n",
        "                batch_features = batch_features.unsqueeze(0)\n",
        "            features.append(batch_features.cpu())\n",
        "            hook_outputs.clear()  # Clear for next iteration\n",
        "\n",
        "    handle.remove()\n",
        "    features_tensor = torch.cat(features, dim=0)\n",
        "    return features_tensor.numpy()\n",
        "\n",
        "# Example usage:\n",
        "# (Assuming 'val_loader' and 'test_loader' are already defined)\n",
        "vit_features_val = get_vit_intermediate_features(vit_model, val_loader)\n",
        "vit_features_test = get_vit_intermediate_features(vit_model, test_loader)\n",
        "print(\"ViT intermediate features for validation set shape:\", vit_features_val.shape)\n"
      ],
      "metadata": {
        "trusted": true,
        "execution": {
          "iopub.status.busy": "2025-04-06T07:48:07.149719Z",
          "iopub.execute_input": "2025-04-06T07:48:07.150101Z",
          "iopub.status.idle": "2025-04-06T07:50:05.831089Z",
          "shell.execute_reply.started": "2025-04-06T07:48:07.150074Z",
          "shell.execute_reply": "2025-04-06T07:50:05.830191Z"
        },
        "id": "cvQjh4zoyjTB"
      },
      "outputs": [],
      "execution_count": null
    },
    {
      "cell_type": "code",
      "source": [
        "import numpy as np\n",
        "\n",
        "def reshape_features_to_meta_image(features, new_shape):\n",
        "    \"\"\"\n",
        "    Reshape a 2D numpy array 'features' of shape (num_samples, F) into\n",
        "    a 4D array of shape (num_samples, 1, H, W), where H*W = F.\n",
        "    For ViT features, F is 768. For example, new_shape can be (3, 256).\n",
        "    \"\"\"\n",
        "    num_samples, F = features.shape\n",
        "    assert np.prod(new_shape) == F, \"Product of new_shape must equal the number of features.\"\n",
        "    meta_images = features.reshape(num_samples, *new_shape)\n",
        "    meta_images = np.expand_dims(meta_images, axis=1)\n",
        "    return meta_images\n",
        "\n",
        "# Reshape the features with new_shape (3,256)\n",
        "vit_meta_features_val = reshape_features_to_meta_image(vit_features_val, (3,256))\n",
        "vit_meta_features_test = reshape_features_to_meta_image(vit_features_test, (3,256))\n",
        "\n",
        "print(\"Meta-images for validation set shape:\", meta_features_val.shape)\n",
        "print(\"Meta-images for test set shape:\", meta_features_test.shape)\n"
      ],
      "metadata": {
        "trusted": true,
        "execution": {
          "iopub.status.busy": "2025-04-06T07:50:08.964057Z",
          "iopub.execute_input": "2025-04-06T07:50:08.964377Z",
          "iopub.status.idle": "2025-04-06T07:50:08.971425Z",
          "shell.execute_reply.started": "2025-04-06T07:50:08.964348Z",
          "shell.execute_reply": "2025-04-06T07:50:08.970445Z"
        },
        "id": "AAJOPP1xyjTB"
      },
      "outputs": [],
      "execution_count": null
    },
    {
      "cell_type": "code",
      "source": [
        "import torch.nn.functional as F\n",
        "\n",
        "class VisionTransformerMetaCNN(nn.Module):\n",
        "    def __init__(self):\n",
        "        super(VisionTransformerMetaCNN, self).__init__()\n",
        "        # Input shape: (batch, 1, 3, 256)\n",
        "        # Apply a convolutional layer: kernel_size=(2,16)\n",
        "        # Output height: 3 - 2 + 1 = 2; width: 256 - 16 + 1 = 241\n",
        "        self.conv1 = nn.Conv2d(in_channels=1, out_channels=8, kernel_size=(2,16), stride=1)\n",
        "        # After conv1: shape (batch, 8, 2, 241)\n",
        "        # Apply max pooling along width with kernel_size=(1,4): new width = floor(241/4) = 60.\n",
        "        self.pool = nn.MaxPool2d(kernel_size=(1,4))\n",
        "        # Flattened size = 8 * 2 * 60 = 960\n",
        "        self.fc = nn.Linear(960, 2)\n",
        "\n",
        "    def forward(self, x):\n",
        "        # x shape: (batch, 1, 3, 256)\n",
        "        x = self.conv1(x)      # → (batch, 8, 2, 241)\n",
        "        x = F.relu(x)\n",
        "        x = self.pool(x)       # → (batch, 8, 2, 60)\n",
        "        x = x.view(x.size(0), -1)  # Flatten to (batch, 960)\n",
        "        x = self.fc(x)         # → (batch, 2)\n",
        "        return x\n",
        "\n",
        "# Initialize the CNN aggregator and move it to the device\n",
        "cnn_aggregator = VisionTransformerMetaCNN().to(device)\n",
        "print(\"CNN aggregator for ViT intermediate features initialized.\")\n"
      ],
      "metadata": {
        "trusted": true,
        "execution": {
          "iopub.status.busy": "2025-04-06T07:50:12.449313Z",
          "iopub.execute_input": "2025-04-06T07:50:12.449603Z",
          "iopub.status.idle": "2025-04-06T07:50:12.458184Z",
          "shell.execute_reply.started": "2025-04-06T07:50:12.449581Z",
          "shell.execute_reply": "2025-04-06T07:50:12.457351Z"
        },
        "id": "0e4K5OGnyjTB"
      },
      "outputs": [],
      "execution_count": null
    },
    {
      "cell_type": "code",
      "source": [
        "import numpy as np\n",
        "\n",
        "true_val_labels = []\n",
        "for _, labels in val_loader:\n",
        "    true_val_labels.extend(labels.cpu().numpy())\n",
        "true_val_labels = np.array(true_val_labels)\n",
        "\n",
        "true_test_labels = []\n",
        "for _, labels in test_loader:\n",
        "    true_test_labels.extend(labels.cpu().numpy())\n",
        "true_test_labels = np.array(true_test_labels)\n",
        "\n",
        "print(\"True validation labels shape:\", true_val_labels.shape)\n",
        "print(\"True test labels shape:\", true_test_labels.shape)\n"
      ],
      "metadata": {
        "trusted": true,
        "execution": {
          "iopub.status.busy": "2025-04-06T07:50:15.463921Z",
          "iopub.execute_input": "2025-04-06T07:50:15.464221Z",
          "iopub.status.idle": "2025-04-06T07:50:43.147932Z",
          "shell.execute_reply.started": "2025-04-06T07:50:15.464192Z",
          "shell.execute_reply": "2025-04-06T07:50:43.14689Z"
        },
        "id": "1dt4wYK1yjTB"
      },
      "outputs": [],
      "execution_count": null
    },
    {
      "cell_type": "code",
      "source": [
        "import torch.utils.data as data_utils\n",
        "\n",
        "# Convert meta-features and labels to tensors\n",
        "val_meta_tensor = torch.tensor(vit_meta_features_val, dtype=torch.float32)\n",
        "test_meta_tensor = torch.tensor(vit_meta_features_test, dtype=torch.float32)\n",
        "val_label_tensor = torch.tensor(true_val_labels, dtype=torch.long)\n",
        "test_label_tensor = torch.tensor(true_test_labels, dtype=torch.long)\n",
        "\n",
        "# Create TensorDatasets and DataLoaders\n",
        "val_meta_dataset = data_utils.TensorDataset(val_meta_tensor, val_label_tensor)\n",
        "test_meta_dataset = data_utils.TensorDataset(test_meta_tensor, test_label_tensor)\n",
        "\n",
        "val_meta_loader = data_utils.DataLoader(val_meta_dataset, batch_size=64, shuffle=True)\n",
        "test_meta_loader = data_utils.DataLoader(test_meta_dataset, batch_size=64, shuffle=False)\n",
        "\n",
        "print(\"Validation meta-data loaded with\", len(val_meta_dataset), \"samples.\")\n"
      ],
      "metadata": {
        "trusted": true,
        "execution": {
          "iopub.status.busy": "2025-04-06T07:52:25.904601Z",
          "iopub.execute_input": "2025-04-06T07:52:25.904983Z",
          "iopub.status.idle": "2025-04-06T07:52:25.922207Z",
          "shell.execute_reply.started": "2025-04-06T07:52:25.904943Z",
          "shell.execute_reply": "2025-04-06T07:52:25.921351Z"
        },
        "id": "kAJnmMm1yjTB"
      },
      "outputs": [],
      "execution_count": null
    },
    {
      "cell_type": "code",
      "source": [
        "import torch.nn as nn\n",
        "import torch.optim as optim\n",
        "\n",
        "aggregator_criterion = nn.CrossEntropyLoss()\n",
        "aggregator_optimizer = optim.Adam(cnn_aggregator.parameters(), lr=1e-3)\n",
        "num_agg_epochs = 15  # Adjust as needed\n",
        "\n",
        "for epoch in range(num_agg_epochs):\n",
        "    cnn_aggregator.train()\n",
        "    epoch_loss = 0.0\n",
        "    correct = 0\n",
        "    total = 0\n",
        "\n",
        "    for meta_x, meta_y in val_meta_loader:\n",
        "        meta_x, meta_y = meta_x.to(device), meta_y.to(device)\n",
        "        aggregator_optimizer.zero_grad()\n",
        "        outputs = cnn_aggregator(meta_x)\n",
        "        loss = aggregator_criterion(outputs, meta_y)\n",
        "        loss.backward()\n",
        "        aggregator_optimizer.step()\n",
        "\n",
        "        epoch_loss += loss.item() * meta_x.size(0)\n",
        "        _, preds = torch.max(outputs, 1)\n",
        "        correct += (preds == meta_y).sum().item()\n",
        "        total += meta_y.size(0)\n",
        "\n",
        "    avg_loss = epoch_loss / total\n",
        "    accuracy = correct / total\n",
        "    print(f\"Epoch {epoch+1}/{num_agg_epochs}, Loss: {avg_loss:.4f}, Accuracy: {accuracy:.4f}\")\n"
      ],
      "metadata": {
        "trusted": true,
        "execution": {
          "iopub.status.busy": "2025-04-06T07:52:31.309687Z",
          "iopub.execute_input": "2025-04-06T07:52:31.310046Z",
          "iopub.status.idle": "2025-04-06T07:52:34.128405Z",
          "shell.execute_reply.started": "2025-04-06T07:52:31.310018Z",
          "shell.execute_reply": "2025-04-06T07:52:34.127688Z"
        },
        "id": "xY3UzW6FyjTB"
      },
      "outputs": [],
      "execution_count": null
    },
    {
      "cell_type": "code",
      "source": [
        "cnn_aggregator.eval()\n",
        "all_preds = []\n",
        "\n",
        "with torch.no_grad():\n",
        "    for meta_x, _ in test_meta_loader:\n",
        "        meta_x = meta_x.to(device)\n",
        "        outputs = cnn_aggregator(meta_x)\n",
        "        _, preds = torch.max(outputs, 1)\n",
        "        all_preds.extend(preds.cpu().numpy())\n",
        "\n",
        "from sklearn.metrics import accuracy_score, precision_score, recall_score, f1_score, confusion_matrix, classification_report\n",
        "\n",
        "acc_cnn = accuracy_score(true_test_labels, all_preds)\n",
        "prec_cnn = precision_score(true_test_labels, all_preds, average='weighted')\n",
        "rec_cnn = recall_score(true_test_labels, all_preds, average='weighted')\n",
        "f1_cnn = f1_score(true_test_labels, all_preds, average='weighted')\n",
        "cm_cnn = confusion_matrix(true_test_labels, all_preds)\n",
        "cr_cnn = classification_report(true_test_labels, all_preds)\n",
        "\n",
        "print(\"ViT CNN Aggregator Test Metrics:\")\n",
        "print(f\"Accuracy:  {acc_cnn:.4f}\")\n",
        "print(f\"Precision: {prec_cnn:.4f}\")\n",
        "print(f\"Recall:    {rec_cnn:.4f}\")\n",
        "print(f\"F1 Score:  {f1_cnn:.4f}\")\n",
        "print(\"\\nClassification Report:\")\n",
        "print(cr_cnn)\n",
        "\n",
        "# Plot confusion matrix using seaborn\n",
        "import matplotlib.pyplot as plt\n",
        "import seaborn as sns\n",
        "\n",
        "plt.figure(figsize=(5,4))\n",
        "sns.heatmap(cm_cnn, annot=True, fmt='d', cmap='Blues')\n",
        "plt.title(\"ViT CNN Aggregator Confusion Matrix\")\n",
        "plt.xlabel(\"Predicted Label\")\n",
        "plt.ylabel(\"True Label\")\n",
        "plt.show()\n"
      ],
      "metadata": {
        "trusted": true,
        "execution": {
          "iopub.status.busy": "2025-04-06T07:52:45.715462Z",
          "iopub.execute_input": "2025-04-06T07:52:45.71581Z",
          "iopub.status.idle": "2025-04-06T07:52:46.001487Z",
          "shell.execute_reply.started": "2025-04-06T07:52:45.715781Z",
          "shell.execute_reply": "2025-04-06T07:52:46.000801Z"
        },
        "id": "C5IGaFWWyjTB"
      },
      "outputs": [],
      "execution_count": null
    },
    {
      "cell_type": "code",
      "source": [
        "torch.save(cnn_aggregator.state_dict(), \"vit_meta_cnn_checkpoint.pth\")\n",
        "print(\"ViT CNN aggregator model saved as 'vit_meta_cnn_checkpoint.pth'.\")\n"
      ],
      "metadata": {
        "trusted": true,
        "execution": {
          "iopub.status.busy": "2025-04-06T07:53:01.260061Z",
          "iopub.execute_input": "2025-04-06T07:53:01.260393Z",
          "iopub.status.idle": "2025-04-06T07:53:01.266875Z",
          "shell.execute_reply.started": "2025-04-06T07:53:01.260365Z",
          "shell.execute_reply": "2025-04-06T07:53:01.266063Z"
        },
        "id": "TNpaVXX-yjTB"
      },
      "outputs": [],
      "execution_count": null
    },
    {
      "cell_type": "code",
      "source": [
        "import pandas as pd\n",
        "\n",
        "# Create a list of dictionaries with the test metrics for each model\n",
        "data = [\n",
        "    # Base Models\n",
        "    {\n",
        "        \"Model\": \"ResNet50\",\n",
        "        \"Accuracy\": 0.8040,\n",
        "        \"Precision\": 0.8115,\n",
        "        \"Recall\": 0.8040,\n",
        "        \"F1 Score\": 0.8066\n",
        "    },\n",
        "    {\n",
        "        \"Model\": \"DenseNet-121\",\n",
        "        \"Accuracy\": 0.7635,\n",
        "        \"Precision\": 0.7945,\n",
        "        \"Recall\": 0.7635,\n",
        "        \"F1 Score\": 0.7216\n",
        "    },\n",
        "    {\n",
        "        \"Model\": \"EfficientNet-B0\",\n",
        "        \"Accuracy\": 0.8066,\n",
        "        \"Precision\": 0.8022,\n",
        "        \"Recall\": 0.8066,\n",
        "        \"F1 Score\": 0.8029\n",
        "    },\n",
        "    {\n",
        "        \"Model\": \"ViT\",\n",
        "        \"Accuracy\": 0.7903,\n",
        "        \"Precision\": 0.7851,\n",
        "        \"Recall\": 0.7903,\n",
        "        \"F1 Score\": 0.7861\n",
        "    },\n",
        "    # Ensemble Models (Base Predictions)\n",
        "    {\n",
        "        \"Model\": \"Ensemble (Hard Voting)\",\n",
        "        \"Accuracy\": 0.8327,\n",
        "        \"Precision\": 0.8319,\n",
        "        \"Recall\": 0.8327,\n",
        "        \"F1 Score\": 0.8323\n",
        "    },\n",
        "    {\n",
        "        \"Model\": \"Ensemble (Soft Voting)\",\n",
        "        \"Accuracy\": 0.8349,\n",
        "        \"Precision\": 0.8329,\n",
        "        \"Recall\": 0.8349,\n",
        "        \"F1 Score\": 0.8288\n",
        "    },\n",
        "    {\n",
        "        \"Model\": \"Stacking Ensemble (Meta-model, LR)\",\n",
        "        \"Accuracy\": 0.8371,\n",
        "        \"Precision\": 0.8341,\n",
        "        \"Recall\": 0.8371,\n",
        "        \"F1 Score\": 0.8341\n",
        "    },\n",
        "    {\n",
        "        \"Model\": \"XGBoost Meta-model Ensemble\",\n",
        "        \"Accuracy\": 0.8294,\n",
        "        \"Precision\": 0.8259,\n",
        "        \"Recall\": 0.8294,\n",
        "        \"F1 Score\": 0.8251\n",
        "    },\n",
        "    # CNN Aggregator Models\n",
        "    {\n",
        "        \"Model\": \"ResNet-CNN Aggregator\",\n",
        "        \"Accuracy\": 0.8347,\n",
        "        \"Precision\": 0.8322,\n",
        "        \"Recall\": 0.8347,\n",
        "        \"F1 Score\": 0.8329\n",
        "    },\n",
        "    {\n",
        "        \"Model\": \"DenseNet-CNN Aggregator\",\n",
        "        \"Accuracy\": 0.8336,\n",
        "        \"Precision\": 0.8307,\n",
        "        \"Recall\": 0.8336,\n",
        "        \"F1 Score\": 0.8311\n",
        "    },\n",
        "    {\n",
        "        \"Model\": \"EfficientNet-CNN Aggregator\",\n",
        "        \"Accuracy\": 0.7465,\n",
        "        \"Precision\": 0.7351,\n",
        "        \"Recall\": 0.7465,\n",
        "        \"F1 Score\": 0.7333\n",
        "    },\n",
        "    {\n",
        "        \"Model\": \"ViT-CNN Aggregator\",\n",
        "        \"Accuracy\": 0.7942,\n",
        "        \"Precision\": 0.7884,\n",
        "        \"Recall\": 0.7942,\n",
        "        \"F1 Score\": 0.7874\n",
        "    }\n",
        "]\n",
        "\n",
        "# Create a DataFrame from the data\n",
        "df = pd.DataFrame(data)\n",
        "\n",
        "# Optionally, set 'Model' as the index for clarity\n",
        "df.set_index(\"Model\", inplace=True)\n",
        "\n",
        "# Display the table\n",
        "print(df.to_string())\n"
      ],
      "metadata": {
        "trusted": true,
        "execution": {
          "iopub.status.busy": "2025-04-06T09:28:04.659842Z",
          "iopub.execute_input": "2025-04-06T09:28:04.660187Z",
          "iopub.status.idle": "2025-04-06T09:28:04.672317Z",
          "shell.execute_reply.started": "2025-04-06T09:28:04.660157Z",
          "shell.execute_reply": "2025-04-06T09:28:04.671384Z"
        },
        "id": "dQ7inQb1yjTB"
      },
      "outputs": [],
      "execution_count": null
    },
    {
      "cell_type": "code",
      "source": [
        "import torch\n",
        "import torch.nn as nn\n",
        "\n",
        "device = torch.device(\"cuda\" if torch.cuda.is_available() else \"cpu\")\n",
        "\n",
        "# Load ResNet-CNN aggregator\n",
        "resnet_cnn = ResNetMetaCNN().to(device)\n",
        "resnet_cnn.load_state_dict(torch.load(\"resnet_meta_cnn_checkpoint.pth\", map_location=device))\n",
        "resnet_cnn.eval()\n",
        "\n",
        "# Load DenseNet-CNN aggregator\n",
        "densenet_cnn = DenseNetMetaCNN().to(device)\n",
        "densenet_cnn.load_state_dict(torch.load(\"densenet_meta_cnn_checkpoint.pth\", map_location=device))\n",
        "densenet_cnn.eval()\n",
        "\n",
        "# Load EfficientNet-CNN aggregator\n",
        "efficientnet_cnn = EfficientNetMetaCNN().to(device)\n",
        "efficientnet_cnn.load_state_dict(torch.load(\"efficientnet_meta_cnn_checkpoint.pth\", map_location=device))\n",
        "efficientnet_cnn.eval()\n",
        "\n",
        "# Load ViT-CNN aggregator\n",
        "vit_cnn = VisionTransformerMetaCNN().to(device)\n",
        "vit_cnn.load_state_dict(torch.load(\"vit_meta_cnn_checkpoint.pth\", map_location=device))\n",
        "vit_cnn.eval()\n",
        "\n",
        "print(\"All CNN aggregator models loaded and set to eval mode.\")\n"
      ],
      "metadata": {
        "trusted": true,
        "execution": {
          "iopub.status.busy": "2025-04-06T07:53:10.170409Z",
          "iopub.execute_input": "2025-04-06T07:53:10.170711Z",
          "iopub.status.idle": "2025-04-06T07:53:10.187564Z",
          "shell.execute_reply.started": "2025-04-06T07:53:10.170688Z",
          "shell.execute_reply": "2025-04-06T07:53:10.186648Z"
        },
        "id": "CJqMhmk7yjTB"
      },
      "outputs": [],
      "execution_count": null
    },
    {
      "cell_type": "code",
      "source": [
        "import torch\n",
        "import torch.utils.data as data_utils\n",
        "\n",
        "batch_size = 64\n",
        "\n",
        "# ----- For ResNet-CNN -----\n",
        "resnet_val_tensor = torch.tensor(resnet_meta_features_val, dtype=torch.float32)\n",
        "resnet_test_tensor = torch.tensor(resnet_meta_features_test, dtype=torch.float32)\n",
        "val_label_tensor = torch.tensor(true_val_labels, dtype=torch.long)\n",
        "test_label_tensor = torch.tensor(true_test_labels, dtype=torch.long)\n",
        "\n",
        "resnet_val_dataset = data_utils.TensorDataset(resnet_val_tensor, val_label_tensor)\n",
        "resnet_test_dataset = data_utils.TensorDataset(resnet_test_tensor, test_label_tensor)\n",
        "\n",
        "resnet_val_loader = data_utils.DataLoader(resnet_val_dataset, batch_size=batch_size, shuffle=False)\n",
        "resnet_test_loader = data_utils.DataLoader(resnet_test_dataset, batch_size=batch_size, shuffle=False)\n",
        "\n",
        "# ----- For DenseNet-CNN -----\n",
        "densenet_val_tensor = torch.tensor(densenet_meta_features_val, dtype=torch.float32)\n",
        "densenet_test_tensor = torch.tensor(densenet_meta_features_test, dtype=torch.float32)\n",
        "\n",
        "densenet_val_dataset = data_utils.TensorDataset(densenet_val_tensor, val_label_tensor)\n",
        "densenet_test_dataset = data_utils.TensorDataset(densenet_test_tensor, test_label_tensor)\n",
        "\n",
        "densenet_val_loader = data_utils.DataLoader(densenet_val_dataset, batch_size=batch_size, shuffle=False)\n",
        "densenet_test_loader = data_utils.DataLoader(densenet_test_dataset, batch_size=batch_size, shuffle=False)\n",
        "\n",
        "# ----- For EfficientNet-CNN -----\n",
        "efficientnet_val_tensor = torch.tensor(efficientnet_meta_features_val, dtype=torch.float32)\n",
        "efficientnet_test_tensor = torch.tensor(efficientnet_meta_features_test, dtype=torch.float32)\n",
        "\n",
        "efficientnet_val_dataset = data_utils.TensorDataset(efficientnet_val_tensor, val_label_tensor)\n",
        "efficientnet_test_dataset = data_utils.TensorDataset(efficientnet_test_tensor, test_label_tensor)\n",
        "\n",
        "efficientnet_val_loader = data_utils.DataLoader(efficientnet_val_dataset, batch_size=batch_size, shuffle=False)\n",
        "efficientnet_test_loader = data_utils.DataLoader(efficientnet_test_dataset, batch_size=batch_size, shuffle=False)\n",
        "\n",
        "# ----- For ViT-CNN -----\n",
        "vit_val_tensor = torch.tensor(vit_meta_features_val, dtype=torch.float32)\n",
        "vit_test_tensor = torch.tensor(vit_meta_features_test, dtype=torch.float32)\n",
        "\n",
        "vit_val_dataset = data_utils.TensorDataset(vit_val_tensor, val_label_tensor)\n",
        "vit_test_dataset = data_utils.TensorDataset(vit_test_tensor, test_label_tensor)\n",
        "\n",
        "vit_val_loader = data_utils.DataLoader(vit_val_dataset, batch_size=batch_size, shuffle=False)\n",
        "vit_test_loader = data_utils.DataLoader(vit_test_dataset, batch_size=batch_size, shuffle=False)\n",
        "\n",
        "print(\"Validation and Test DataLoaders for all models are ready.\")\n"
      ],
      "metadata": {
        "trusted": true,
        "execution": {
          "iopub.status.busy": "2025-04-06T07:54:29.714308Z",
          "iopub.execute_input": "2025-04-06T07:54:29.714602Z",
          "iopub.status.idle": "2025-04-06T07:54:29.817645Z",
          "shell.execute_reply.started": "2025-04-06T07:54:29.714581Z",
          "shell.execute_reply": "2025-04-06T07:54:29.816841Z"
        },
        "id": "-4N-RJxCyjTB"
      },
      "outputs": [],
      "execution_count": null
    },
    {
      "cell_type": "code",
      "source": [
        "import torch.nn.functional as F\n",
        "import numpy as np\n",
        "\n",
        "def get_model_predictions(model, dataloader):\n",
        "    \"\"\"\n",
        "    Runs inference on the provided dataloader using the given model.\n",
        "    Returns:\n",
        "      - preds: an array of predicted class labels.\n",
        "      - probs: an array of predicted probabilities (via softmax).\n",
        "    \"\"\"\n",
        "    model.eval()\n",
        "    all_preds = []\n",
        "    all_probs = []\n",
        "    with torch.no_grad():\n",
        "        for inputs, _ in dataloader:\n",
        "            inputs = inputs.to(device)\n",
        "            outputs = model(inputs)\n",
        "            probabilities = F.softmax(outputs, dim=1)\n",
        "            preds = torch.argmax(probabilities, dim=1)\n",
        "            all_preds.extend(preds.cpu().numpy())\n",
        "            all_probs.append(probabilities.cpu().numpy())\n",
        "    all_probs = np.concatenate(all_probs, axis=0)\n",
        "    return np.array(all_preds), all_probs\n"
      ],
      "metadata": {
        "trusted": true,
        "execution": {
          "iopub.status.busy": "2025-04-06T07:54:34.348865Z",
          "iopub.execute_input": "2025-04-06T07:54:34.349164Z",
          "iopub.status.idle": "2025-04-06T07:54:34.354582Z",
          "shell.execute_reply.started": "2025-04-06T07:54:34.349144Z",
          "shell.execute_reply": "2025-04-06T07:54:34.353781Z"
        },
        "id": "_tkSL5UwyjTC"
      },
      "outputs": [],
      "execution_count": null
    },
    {
      "cell_type": "code",
      "source": [
        "# Obtain test predictions and probabilities for each model\n",
        "resnet_preds, resnet_probs = get_model_predictions(resnet_cnn, resnet_test_loader)\n",
        "densenet_preds, densenet_probs = get_model_predictions(densenet_cnn, densenet_test_loader)\n",
        "efficientnet_preds, efficientnet_probs = get_model_predictions(efficientnet_cnn, efficientnet_test_loader)\n",
        "vit_preds, vit_probs = get_model_predictions(vit_cnn, vit_test_loader)\n",
        "\n",
        "print(\"Obtained predictions and probabilities for all models on the test set.\")\n"
      ],
      "metadata": {
        "trusted": true,
        "execution": {
          "iopub.status.busy": "2025-04-06T07:54:41.424483Z",
          "iopub.execute_input": "2025-04-06T07:54:41.424827Z",
          "iopub.status.idle": "2025-04-06T07:54:41.811277Z",
          "shell.execute_reply.started": "2025-04-06T07:54:41.424797Z",
          "shell.execute_reply": "2025-04-06T07:54:41.810391Z"
        },
        "id": "l-JAuoU3yjTC"
      },
      "outputs": [],
      "execution_count": null
    },
    {
      "cell_type": "code",
      "source": [
        "# Obtain predictions for ResNet-CNN\n",
        "resnet_preds, resnet_probs = get_model_predictions(resnet_cnn, resnet_test_loader)\n",
        "\n",
        "# Obtain predictions for DenseNet-CNN\n",
        "densenet_preds, densenet_probs = get_model_predictions(densenet_cnn, densenet_test_loader)\n",
        "\n",
        "# Obtain predictions for EfficientNet-CNN\n",
        "efficientnet_preds, efficientnet_probs = get_model_predictions(efficientnet_cnn, efficientnet_test_loader)\n",
        "\n",
        "# Obtain predictions for ViT-CNN\n",
        "vit_preds, vit_probs = get_model_predictions(vit_cnn, vit_test_loader)\n",
        "\n",
        "print(\"Obtained predictions and probabilities for all models on the test set.\")\n"
      ],
      "metadata": {
        "trusted": true,
        "execution": {
          "iopub.status.busy": "2025-04-06T07:55:18.899262Z",
          "iopub.execute_input": "2025-04-06T07:55:18.899599Z",
          "iopub.status.idle": "2025-04-06T07:55:19.295153Z",
          "shell.execute_reply.started": "2025-04-06T07:55:18.899571Z",
          "shell.execute_reply": "2025-04-06T07:55:19.294232Z"
        },
        "id": "lj9Tf-UHyjTC"
      },
      "outputs": [],
      "execution_count": null
    },
    {
      "cell_type": "code",
      "source": [
        "def hard_voting_ensemble(*pred_lists):\n",
        "    \"\"\"\n",
        "    Combines predictions from multiple models using majority vote (hard voting).\n",
        "    Each argument is an array of predictions from one model.\n",
        "    Returns:\n",
        "      - ensemble_preds: final predicted labels.\n",
        "    \"\"\"\n",
        "    pred_matrix = np.vstack(pred_lists)  # Shape: (num_models, num_samples)\n",
        "    ensemble_preds = []\n",
        "    for i in range(pred_matrix.shape[1]):\n",
        "        votes = np.bincount(pred_matrix[:, i])\n",
        "        ensemble_preds.append(np.argmax(votes))\n",
        "    return np.array(ensemble_preds)\n",
        "\n",
        "def soft_voting_ensemble(*prob_arrays):\n",
        "    \"\"\"\n",
        "    Combines predicted probabilities from multiple models using average probabilities (soft voting).\n",
        "    Each argument is an array of predicted probabilities from one model.\n",
        "    Returns:\n",
        "      - ensemble_preds: final predicted labels.\n",
        "    \"\"\"\n",
        "    avg_probs = np.mean(np.array(prob_arrays), axis=0)\n",
        "    ensemble_preds = np.argmax(avg_probs, axis=1)\n",
        "    return ensemble_preds\n",
        "\n",
        "# Compute ensemble predictions on the test set using all four models\n",
        "ensemble_hard_preds = hard_voting_ensemble(resnet_preds, densenet_preds, efficientnet_preds, vit_preds)\n",
        "ensemble_soft_preds = soft_voting_ensemble(resnet_probs, densenet_probs, efficientnet_probs, vit_probs)\n",
        "\n",
        "print(\"Computed ensemble predictions (hard and soft voting) for the test set.\")\n"
      ],
      "metadata": {
        "trusted": true,
        "execution": {
          "iopub.status.busy": "2025-04-06T07:55:32.794967Z",
          "iopub.execute_input": "2025-04-06T07:55:32.795298Z",
          "iopub.status.idle": "2025-04-06T07:55:32.818607Z",
          "shell.execute_reply.started": "2025-04-06T07:55:32.795269Z",
          "shell.execute_reply": "2025-04-06T07:55:32.817946Z"
        },
        "id": "UHUcYEzzyjTC"
      },
      "outputs": [],
      "execution_count": null
    },
    {
      "cell_type": "code",
      "source": [
        "from sklearn.metrics import accuracy_score, precision_score, recall_score, f1_score, classification_report, confusion_matrix\n",
        "\n",
        "def evaluate_predictions(true_labels, preds, ensemble_name=\"Ensemble\"):\n",
        "    acc = accuracy_score(true_labels, preds)\n",
        "    prec = precision_score(true_labels, preds, average='weighted')\n",
        "    rec = recall_score(true_labels, preds, average='weighted')\n",
        "    f1 = f1_score(true_labels, preds, average='weighted')\n",
        "    print(f\"{ensemble_name} Metrics:\")\n",
        "    print(f\"Accuracy:  {acc:.4f}\")\n",
        "    print(f\"Precision: {prec:.4f}\")\n",
        "    print(f\"Recall:    {rec:.4f}\")\n",
        "    print(f\"F1 Score:  {f1:.4f}\")\n",
        "    print(\"\\nClassification Report:\")\n",
        "    print(classification_report(true_labels, preds))\n",
        "    cm = confusion_matrix(true_labels, preds)\n",
        "    return cm"
      ],
      "metadata": {
        "trusted": true,
        "execution": {
          "iopub.status.busy": "2025-04-06T07:58:35.389841Z",
          "iopub.execute_input": "2025-04-06T07:58:35.390168Z",
          "iopub.status.idle": "2025-04-06T07:58:35.39536Z",
          "shell.execute_reply.started": "2025-04-06T07:58:35.390142Z",
          "shell.execute_reply": "2025-04-06T07:58:35.394595Z"
        },
        "id": "0t05qW7nyjTC"
      },
      "outputs": [],
      "execution_count": null
    },
    {
      "cell_type": "code",
      "source": [
        "from sklearn.metrics import accuracy_score, precision_score, recall_score, f1_score, classification_report, confusion_matrix\n",
        "import matplotlib.pyplot as plt\n",
        "import seaborn as sns\n",
        "\n",
        "# Evaluate Hard Voting Ensemble\n",
        "print(\"Hard Voting Ensemble Evaluation:\")\n",
        "cm_hard = evaluate_predictions(true_test_labels, ensemble_hard_preds, \"Hard Voting Ensemble\")\n",
        "\n",
        "# Plot confusion matrix for Hard Voting Ensemble\n",
        "plt.figure(figsize=(5, 4))\n",
        "sns.heatmap(cm_hard, annot=True, fmt='d', cmap='Blues')\n",
        "plt.title(\"Hard Voting Ensemble Confusion Matrix\")\n",
        "plt.xlabel(\"Predicted Label\")\n",
        "plt.ylabel(\"True Label\")\n",
        "plt.show()\n"
      ],
      "metadata": {
        "trusted": true,
        "execution": {
          "iopub.status.busy": "2025-04-06T07:58:38.374126Z",
          "iopub.execute_input": "2025-04-06T07:58:38.374414Z",
          "iopub.status.idle": "2025-04-06T07:58:38.559108Z",
          "shell.execute_reply.started": "2025-04-06T07:58:38.374394Z",
          "shell.execute_reply": "2025-04-06T07:58:38.558349Z"
        },
        "id": "ZNxFyl5WyjTC"
      },
      "outputs": [],
      "execution_count": null
    },
    {
      "cell_type": "code",
      "source": [
        "# Evaluate Soft Voting Ensemble\n",
        "print(\"Soft Voting Ensemble Evaluation:\")\n",
        "cm_soft = evaluate_predictions(true_test_labels, ensemble_soft_preds, \"Soft Voting Ensemble\")\n",
        "\n",
        "# Plot confusion matrix for Soft Voting Ensemble\n",
        "plt.figure(figsize=(5, 4))\n",
        "sns.heatmap(cm_soft, annot=True, fmt='d', cmap='Blues')\n",
        "plt.title(\"Soft Voting Ensemble Confusion Matrix\")\n",
        "plt.xlabel(\"Predicted Label\")\n",
        "plt.ylabel(\"True Label\")\n",
        "plt.show()\n"
      ],
      "metadata": {
        "trusted": true,
        "execution": {
          "iopub.status.busy": "2025-04-06T07:58:48.797139Z",
          "iopub.execute_input": "2025-04-06T07:58:48.797439Z",
          "iopub.status.idle": "2025-04-06T07:58:48.979812Z",
          "shell.execute_reply.started": "2025-04-06T07:58:48.797417Z",
          "shell.execute_reply": "2025-04-06T07:58:48.979084Z"
        },
        "id": "WNYottrHyjTE"
      },
      "outputs": [],
      "execution_count": null
    },
    {
      "cell_type": "code",
      "source": [
        "import pickle\n",
        "\n",
        "# Create a dictionary with ensemble predictions\n",
        "ensemble_predictions = {\n",
        "    'hard': ensemble_hard_preds,\n",
        "    'soft': ensemble_soft_preds\n",
        "}\n",
        "\n",
        "# Save the dictionary using pickle\n",
        "with open('cnn_aggregator_ensemble_predictions.pkl', 'wb') as f:\n",
        "    pickle.dump(ensemble_predictions, f)\n",
        "\n",
        "print(\"Ensemble predictions (hard and soft) saved using pickle.\")\n"
      ],
      "metadata": {
        "trusted": true,
        "execution": {
          "iopub.status.busy": "2025-04-06T08:07:50.740069Z",
          "iopub.execute_input": "2025-04-06T08:07:50.740421Z",
          "iopub.status.idle": "2025-04-06T08:07:50.746033Z",
          "shell.execute_reply.started": "2025-04-06T08:07:50.740391Z",
          "shell.execute_reply": "2025-04-06T08:07:50.745177Z"
        },
        "id": "y6x4RhyUyjTE"
      },
      "outputs": [],
      "execution_count": null
    },
    {
      "cell_type": "code",
      "source": [
        "from sklearn.linear_model import LogisticRegression\n",
        "import numpy as np\n",
        "\n",
        "# Create stacking features for the validation set by concatenating the predicted probabilities\n",
        "stack_X_val = np.concatenate([resnet_val_probs, densenet_val_probs, efficientnet_val_probs, vit_val_probs], axis=1)\n",
        "stack_y_val = true_val_labels  # True labels for the validation set\n",
        "\n",
        "# Create and train the logistic regression meta-model\n",
        "stacking_meta_model = LogisticRegression(max_iter=1000)\n",
        "stacking_meta_model.fit(stack_X_val, stack_y_val)\n",
        "\n",
        "print(\"Stacking meta-model (Logistic Regression) trained on validation meta-features.\")\n"
      ],
      "metadata": {
        "trusted": true,
        "execution": {
          "iopub.status.busy": "2025-04-06T08:19:49.499623Z",
          "iopub.execute_input": "2025-04-06T08:19:49.499987Z",
          "iopub.status.idle": "2025-04-06T08:19:49.517521Z",
          "shell.execute_reply.started": "2025-04-06T08:19:49.499955Z",
          "shell.execute_reply": "2025-04-06T08:19:49.516729Z"
        },
        "id": "9JuVFGzryjTE"
      },
      "outputs": [],
      "execution_count": null
    },
    {
      "cell_type": "code",
      "source": [
        "from sklearn.metrics import classification_report, confusion_matrix\n",
        "import matplotlib.pyplot as plt\n",
        "import seaborn as sns\n",
        "\n",
        "# Create stacking features for the test set similarly\n",
        "stack_X_test = np.concatenate([resnet_probs, densenet_probs, efficientnet_probs, vit_probs], axis=1)\n",
        "\n",
        "# Predict on the test set using the trained meta-model\n",
        "stack_preds = stacking_meta_model.predict(stack_X_test)\n",
        "\n",
        "\n",
        "cm_stack = evaluate_predictions(true_test_labels, stack_preds, \"Stacking Ensemble (Logistic Regression)\")\n",
        "\n",
        "\n",
        "cm_stack = confusion_matrix(true_test_labels, stack_preds)\n",
        "plt.figure(figsize=(5, 4))\n",
        "sns.heatmap(cm_stack, annot=True, fmt='d', cmap='Blues')\n",
        "plt.title(\"Stacking Ensemble Confusion Matrix\")\n",
        "plt.xlabel(\"Predicted Label\")\n",
        "plt.ylabel(\"True Label\")\n",
        "plt.show()\n"
      ],
      "metadata": {
        "trusted": true,
        "execution": {
          "iopub.status.busy": "2025-04-06T08:20:27.429524Z",
          "iopub.execute_input": "2025-04-06T08:20:27.429936Z",
          "iopub.status.idle": "2025-04-06T08:20:27.647387Z",
          "shell.execute_reply.started": "2025-04-06T08:20:27.429901Z",
          "shell.execute_reply": "2025-04-06T08:20:27.646511Z"
        },
        "id": "UpGH_cmWyjTE"
      },
      "outputs": [],
      "execution_count": null
    },
    {
      "cell_type": "code",
      "source": [
        "import pickle\n",
        "\n",
        "# Save the trained stacking meta-model to disk\n",
        "with open('cnn_stacking_ensemble_logistic.pkl', 'wb') as f:\n",
        "    pickle.dump(stacking_meta_model, f)\n",
        "\n",
        "print(\"Stacking ensemble meta‑model saved as 'cnn_stacking_logistic.pkl'.\")\n"
      ],
      "metadata": {
        "trusted": true,
        "execution": {
          "iopub.status.busy": "2025-04-06T08:37:18.519403Z",
          "iopub.execute_input": "2025-04-06T08:37:18.519783Z",
          "iopub.status.idle": "2025-04-06T08:37:18.525884Z",
          "shell.execute_reply.started": "2025-04-06T08:37:18.519755Z",
          "shell.execute_reply": "2025-04-06T08:37:18.524975Z"
        },
        "id": "72BlSORNyjTE"
      },
      "outputs": [],
      "execution_count": null
    },
    {
      "cell_type": "code",
      "source": [
        "from xgboost import XGBClassifier\n",
        "import numpy as np\n",
        "\n",
        "# Create stacking features for the validation set by concatenating predicted probabilities\n",
        "# (Assumes: resnet_val_probs, densenet_val_probs, efficientnet_val_probs, vit_val_probs, true_val_labels are defined)\n",
        "stack_X_val = np.concatenate([resnet_val_probs, densenet_val_probs, efficientnet_val_probs, vit_val_probs], axis=1)\n",
        "stack_y_val = true_val_labels  # True labels for the validation set\n",
        "\n",
        "# Create and train the XGBoost meta-model\n",
        "stacking_xgb_model = XGBClassifier(use_label_encoder=False, eval_metric='mlogloss')\n",
        "stacking_xgb_model.fit(stack_X_val, stack_y_val)\n",
        "\n",
        "print(\"Stacking meta‑model (XGBoost) trained on validation meta‑features.\")\n"
      ],
      "metadata": {
        "trusted": true,
        "execution": {
          "iopub.status.busy": "2025-04-06T08:18:31.549531Z",
          "iopub.execute_input": "2025-04-06T08:18:31.549883Z",
          "iopub.status.idle": "2025-04-06T08:18:32.294721Z",
          "shell.execute_reply.started": "2025-04-06T08:18:31.549857Z",
          "shell.execute_reply": "2025-04-06T08:18:32.293923Z"
        },
        "id": "dEOt3FFHyjTE"
      },
      "outputs": [],
      "execution_count": null
    },
    {
      "cell_type": "code",
      "source": [
        "from sklearn.metrics import classification_report, confusion_matrix\n",
        "import matplotlib.pyplot as plt\n",
        "import seaborn as sns\n",
        "\n",
        "# Create stacking features for the test set similarly\n",
        "stack_X_test = np.concatenate([resnet_probs, densenet_probs, efficientnet_probs, vit_probs], axis=1)\n",
        "\n",
        "# Predict on the test set using the trained XGBoost meta‑model\n",
        "stack_preds_xgb = stacking_xgb_model.predict(stack_X_test)\n",
        "\n",
        "# Evaluate the predictions using your evaluate_predictions function\n",
        "cm_stack_xgb = evaluate_predictions(true_test_labels, stack_preds_xgb, \"Stacking Ensemble (XGBoost)\")\n",
        "\n",
        "# Plot the confusion matrix for the XGBoost stacking ensemble\n",
        "plt.figure(figsize=(5, 4))\n",
        "sns.heatmap(cm_stack_xgb, annot=True, fmt='d', cmap='Blues')\n",
        "plt.title(\"Stacking Ensemble (XGBoost) Confusion Matrix\")\n",
        "plt.xlabel(\"Predicted Label\")\n",
        "plt.ylabel(\"True Label\")\n",
        "plt.show()\n"
      ],
      "metadata": {
        "trusted": true,
        "execution": {
          "iopub.status.busy": "2025-04-06T08:18:42.850825Z",
          "iopub.execute_input": "2025-04-06T08:18:42.851151Z",
          "iopub.status.idle": "2025-04-06T08:18:43.049256Z",
          "shell.execute_reply.started": "2025-04-06T08:18:42.851129Z",
          "shell.execute_reply": "2025-04-06T08:18:43.048543Z"
        },
        "id": "_fDuo563yjTE"
      },
      "outputs": [],
      "execution_count": null
    },
    {
      "cell_type": "code",
      "source": [
        "import pickle\n",
        "\n",
        "# Save the trained XGBoost meta‑model to disk\n",
        "with open('cnn_stacking_ensemble_xgb_model.pkl', 'wb') as f:\n",
        "    pickle.dump(stacking_xgb_model, f)\n",
        "\n",
        "print(\"Stacking ensemble meta‑model (XGBoost) saved as 'cnn_stacking_ensemble_xgb_model.pkl'.\")\n",
        "\n"
      ],
      "metadata": {
        "trusted": true,
        "execution": {
          "iopub.status.busy": "2025-04-06T08:37:52.52032Z",
          "iopub.execute_input": "2025-04-06T08:37:52.520615Z",
          "iopub.status.idle": "2025-04-06T08:37:52.527891Z",
          "shell.execute_reply.started": "2025-04-06T08:37:52.520593Z",
          "shell.execute_reply": "2025-04-06T08:37:52.527029Z"
        },
        "id": "sH13hZgoyjTE"
      },
      "outputs": [],
      "execution_count": null
    },
    {
      "cell_type": "code",
      "source": [
        "import pandas as pd\n",
        "\n",
        "# Create a list of dictionaries with the test metrics for each model\n",
        "data = [\n",
        "    # Base Models\n",
        "    {\n",
        "        \"Model\": \"ResNet50\",\n",
        "        \"Accuracy\": 0.8040,\n",
        "        \"Precision\": 0.8115,\n",
        "        \"Recall\": 0.8040,\n",
        "        \"F1 Score\": 0.8066\n",
        "    },\n",
        "    {\n",
        "        \"Model\": \"DenseNet-121\",\n",
        "        \"Accuracy\": 0.7635,\n",
        "        \"Precision\": 0.7945,\n",
        "        \"Recall\": 0.7635,\n",
        "        \"F1 Score\": 0.7216\n",
        "    },\n",
        "    {\n",
        "        \"Model\": \"EfficientNet-B0\",\n",
        "        \"Accuracy\": 0.8066,\n",
        "        \"Precision\": 0.8022,\n",
        "        \"Recall\": 0.8066,\n",
        "        \"F1 Score\": 0.8029\n",
        "    },\n",
        "    {\n",
        "        \"Model\": \"ViT\",\n",
        "        \"Accuracy\": 0.7903,\n",
        "        \"Precision\": 0.7851,\n",
        "        \"Recall\": 0.7903,\n",
        "        \"F1 Score\": 0.7861\n",
        "    },\n",
        "    # Ensemble Models (Base Predictions)\n",
        "    {\n",
        "        \"Model\": \"Ensemble (Hard Voting)\",\n",
        "        \"Accuracy\": 0.8327,\n",
        "        \"Precision\": 0.8319,\n",
        "        \"Recall\": 0.8327,\n",
        "        \"F1 Score\": 0.8323\n",
        "    },\n",
        "    {\n",
        "        \"Model\": \"Ensemble (Soft Voting)\",\n",
        "        \"Accuracy\": 0.8349,\n",
        "        \"Precision\": 0.8329,\n",
        "        \"Recall\": 0.8349,\n",
        "        \"F1 Score\": 0.8288\n",
        "    },\n",
        "    {\n",
        "        \"Model\": \"Stacking Ensemble (Meta-model, LR)\",\n",
        "        \"Accuracy\": 0.8371,\n",
        "        \"Precision\": 0.8341,\n",
        "        \"Recall\": 0.8371,\n",
        "        \"F1 Score\": 0.8341\n",
        "    },\n",
        "    {\n",
        "        \"Model\": \"XGBoost Meta-model Ensemble\",\n",
        "        \"Accuracy\": 0.8294,\n",
        "        \"Precision\": 0.8259,\n",
        "        \"Recall\": 0.8294,\n",
        "        \"F1 Score\": 0.8251\n",
        "    },\n",
        "    # CNN Aggregator Models\n",
        "    {\n",
        "        \"Model\": \"ResNet-CNN Aggregator\",\n",
        "        \"Accuracy\": 0.8347,\n",
        "        \"Precision\": 0.8322,\n",
        "        \"Recall\": 0.8347,\n",
        "        \"F1 Score\": 0.8329\n",
        "    },\n",
        "    {\n",
        "        \"Model\": \"DenseNet-CNN Aggregator\",\n",
        "        \"Accuracy\": 0.8336,\n",
        "        \"Precision\": 0.8307,\n",
        "        \"Recall\": 0.8336,\n",
        "        \"F1 Score\": 0.8311\n",
        "    },\n",
        "    {\n",
        "        \"Model\": \"EfficientNet-CNN Aggregator\",\n",
        "        \"Accuracy\": 0.7465,\n",
        "        \"Precision\": 0.7351,\n",
        "        \"Recall\": 0.7465,\n",
        "        \"F1 Score\": 0.7333\n",
        "    },\n",
        "    {\n",
        "        \"Model\": \"ViT-CNN Aggregator\",\n",
        "        \"Accuracy\": 0.7942,\n",
        "        \"Precision\": 0.7884,\n",
        "        \"Recall\": 0.7942,\n",
        "        \"F1 Score\": 0.7874\n",
        "    },\n",
        "    # CNN-Aggregator Ensemble Models\n",
        "    {\n",
        "        \"Model\": \"CNN-aggregator Hard Voting Ensemble\",\n",
        "        \"Accuracy\": 0.8292,\n",
        "        \"Precision\": 0.8275,\n",
        "        \"Recall\": 0.8292,\n",
        "        \"F1 Score\": 0.8282\n",
        "    },\n",
        "    {\n",
        "        \"Model\": \"CNN-aggregator Soft Voting Ensemble\",\n",
        "        \"Accuracy\": 0.8401,\n",
        "        \"Precision\": 0.8372,\n",
        "        \"Recall\": 0.8401,\n",
        "        \"F1 Score\": 0.8366\n",
        "    },\n",
        "    {\n",
        "        \"Model\": \"CNN-aggregator Stacking Ensemble (LR)\",\n",
        "        \"Accuracy\": 0.8464,\n",
        "        \"Precision\": 0.8440,\n",
        "        \"Recall\": 0.8464,\n",
        "        \"F1 Score\": 0.8445\n",
        "    },\n",
        "    {\n",
        "        \"Model\": \"CNN-aggregator Stacking Ensemble (XGBoost)\",\n",
        "        \"Accuracy\": 0.8344,\n",
        "        \"Precision\": 0.8312,\n",
        "        \"Recall\": 0.8344,\n",
        "        \"F1 Score\": 0.8308\n",
        "    }\n",
        "]\n",
        "\n",
        "# Create a DataFrame from the data\n",
        "df = pd.DataFrame(data)\n",
        "\n",
        "# Optionally, set 'Model' as the index for clarity\n",
        "df.set_index(\"Model\", inplace=True)\n",
        "\n",
        "# Display the table\n",
        "print(df.to_string())\n"
      ],
      "metadata": {
        "trusted": true,
        "execution": {
          "iopub.status.busy": "2025-04-06T08:35:05.940256Z",
          "iopub.execute_input": "2025-04-06T08:35:05.940623Z",
          "iopub.status.idle": "2025-04-06T08:35:05.954881Z",
          "shell.execute_reply.started": "2025-04-06T08:35:05.940599Z",
          "shell.execute_reply": "2025-04-06T08:35:05.953976Z"
        },
        "id": "yOGoorWtyjTE"
      },
      "outputs": [],
      "execution_count": null
    }
  ]
}